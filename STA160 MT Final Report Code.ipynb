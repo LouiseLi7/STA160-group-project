{
 "cells": [
  {
   "cell_type": "code",
   "execution_count": 1,
   "metadata": {},
   "outputs": [
    {
     "data": {
      "text/html": [
       "<div>\n",
       "<style scoped>\n",
       "    .dataframe tbody tr th:only-of-type {\n",
       "        vertical-align: middle;\n",
       "    }\n",
       "\n",
       "    .dataframe tbody tr th {\n",
       "        vertical-align: top;\n",
       "    }\n",
       "\n",
       "    .dataframe thead th {\n",
       "        text-align: right;\n",
       "    }\n",
       "</style>\n",
       "<table border=\"1\" class=\"dataframe\">\n",
       "  <thead>\n",
       "    <tr style=\"text-align: right;\">\n",
       "      <th></th>\n",
       "      <th>HeartDiseaseorAttack</th>\n",
       "      <th>HighBP</th>\n",
       "      <th>HighChol</th>\n",
       "      <th>CholCheck</th>\n",
       "      <th>BMI</th>\n",
       "      <th>Smoker</th>\n",
       "      <th>Stroke</th>\n",
       "      <th>Diabetes</th>\n",
       "      <th>PhysActivity</th>\n",
       "      <th>Fruits</th>\n",
       "      <th>...</th>\n",
       "      <th>AnyHealthcare</th>\n",
       "      <th>NoDocbcCost</th>\n",
       "      <th>GenHlth</th>\n",
       "      <th>MentHlth</th>\n",
       "      <th>PhysHlth</th>\n",
       "      <th>DiffWalk</th>\n",
       "      <th>Sex</th>\n",
       "      <th>Age</th>\n",
       "      <th>Education</th>\n",
       "      <th>Income</th>\n",
       "    </tr>\n",
       "  </thead>\n",
       "  <tbody>\n",
       "    <tr>\n",
       "      <th>0</th>\n",
       "      <td>0.0</td>\n",
       "      <td>1.0</td>\n",
       "      <td>1.0</td>\n",
       "      <td>1.0</td>\n",
       "      <td>40.0</td>\n",
       "      <td>1.0</td>\n",
       "      <td>0.0</td>\n",
       "      <td>0.0</td>\n",
       "      <td>0.0</td>\n",
       "      <td>0.0</td>\n",
       "      <td>...</td>\n",
       "      <td>1.0</td>\n",
       "      <td>0.0</td>\n",
       "      <td>5.0</td>\n",
       "      <td>18.0</td>\n",
       "      <td>15.0</td>\n",
       "      <td>1.0</td>\n",
       "      <td>0.0</td>\n",
       "      <td>9.0</td>\n",
       "      <td>4.0</td>\n",
       "      <td>3.0</td>\n",
       "    </tr>\n",
       "    <tr>\n",
       "      <th>1</th>\n",
       "      <td>0.0</td>\n",
       "      <td>0.0</td>\n",
       "      <td>0.0</td>\n",
       "      <td>0.0</td>\n",
       "      <td>25.0</td>\n",
       "      <td>1.0</td>\n",
       "      <td>0.0</td>\n",
       "      <td>0.0</td>\n",
       "      <td>1.0</td>\n",
       "      <td>0.0</td>\n",
       "      <td>...</td>\n",
       "      <td>0.0</td>\n",
       "      <td>1.0</td>\n",
       "      <td>3.0</td>\n",
       "      <td>0.0</td>\n",
       "      <td>0.0</td>\n",
       "      <td>0.0</td>\n",
       "      <td>0.0</td>\n",
       "      <td>7.0</td>\n",
       "      <td>6.0</td>\n",
       "      <td>1.0</td>\n",
       "    </tr>\n",
       "    <tr>\n",
       "      <th>2</th>\n",
       "      <td>0.0</td>\n",
       "      <td>1.0</td>\n",
       "      <td>1.0</td>\n",
       "      <td>1.0</td>\n",
       "      <td>28.0</td>\n",
       "      <td>0.0</td>\n",
       "      <td>0.0</td>\n",
       "      <td>0.0</td>\n",
       "      <td>0.0</td>\n",
       "      <td>1.0</td>\n",
       "      <td>...</td>\n",
       "      <td>1.0</td>\n",
       "      <td>1.0</td>\n",
       "      <td>5.0</td>\n",
       "      <td>30.0</td>\n",
       "      <td>30.0</td>\n",
       "      <td>1.0</td>\n",
       "      <td>0.0</td>\n",
       "      <td>9.0</td>\n",
       "      <td>4.0</td>\n",
       "      <td>8.0</td>\n",
       "    </tr>\n",
       "    <tr>\n",
       "      <th>3</th>\n",
       "      <td>0.0</td>\n",
       "      <td>1.0</td>\n",
       "      <td>0.0</td>\n",
       "      <td>1.0</td>\n",
       "      <td>27.0</td>\n",
       "      <td>0.0</td>\n",
       "      <td>0.0</td>\n",
       "      <td>0.0</td>\n",
       "      <td>1.0</td>\n",
       "      <td>1.0</td>\n",
       "      <td>...</td>\n",
       "      <td>1.0</td>\n",
       "      <td>0.0</td>\n",
       "      <td>2.0</td>\n",
       "      <td>0.0</td>\n",
       "      <td>0.0</td>\n",
       "      <td>0.0</td>\n",
       "      <td>0.0</td>\n",
       "      <td>11.0</td>\n",
       "      <td>3.0</td>\n",
       "      <td>6.0</td>\n",
       "    </tr>\n",
       "    <tr>\n",
       "      <th>4</th>\n",
       "      <td>0.0</td>\n",
       "      <td>1.0</td>\n",
       "      <td>1.0</td>\n",
       "      <td>1.0</td>\n",
       "      <td>24.0</td>\n",
       "      <td>0.0</td>\n",
       "      <td>0.0</td>\n",
       "      <td>0.0</td>\n",
       "      <td>1.0</td>\n",
       "      <td>1.0</td>\n",
       "      <td>...</td>\n",
       "      <td>1.0</td>\n",
       "      <td>0.0</td>\n",
       "      <td>2.0</td>\n",
       "      <td>3.0</td>\n",
       "      <td>0.0</td>\n",
       "      <td>0.0</td>\n",
       "      <td>0.0</td>\n",
       "      <td>11.0</td>\n",
       "      <td>5.0</td>\n",
       "      <td>4.0</td>\n",
       "    </tr>\n",
       "    <tr>\n",
       "      <th>...</th>\n",
       "      <td>...</td>\n",
       "      <td>...</td>\n",
       "      <td>...</td>\n",
       "      <td>...</td>\n",
       "      <td>...</td>\n",
       "      <td>...</td>\n",
       "      <td>...</td>\n",
       "      <td>...</td>\n",
       "      <td>...</td>\n",
       "      <td>...</td>\n",
       "      <td>...</td>\n",
       "      <td>...</td>\n",
       "      <td>...</td>\n",
       "      <td>...</td>\n",
       "      <td>...</td>\n",
       "      <td>...</td>\n",
       "      <td>...</td>\n",
       "      <td>...</td>\n",
       "      <td>...</td>\n",
       "      <td>...</td>\n",
       "      <td>...</td>\n",
       "    </tr>\n",
       "    <tr>\n",
       "      <th>253675</th>\n",
       "      <td>0.0</td>\n",
       "      <td>1.0</td>\n",
       "      <td>1.0</td>\n",
       "      <td>1.0</td>\n",
       "      <td>45.0</td>\n",
       "      <td>0.0</td>\n",
       "      <td>0.0</td>\n",
       "      <td>0.0</td>\n",
       "      <td>0.0</td>\n",
       "      <td>1.0</td>\n",
       "      <td>...</td>\n",
       "      <td>1.0</td>\n",
       "      <td>0.0</td>\n",
       "      <td>3.0</td>\n",
       "      <td>0.0</td>\n",
       "      <td>5.0</td>\n",
       "      <td>0.0</td>\n",
       "      <td>1.0</td>\n",
       "      <td>5.0</td>\n",
       "      <td>6.0</td>\n",
       "      <td>7.0</td>\n",
       "    </tr>\n",
       "    <tr>\n",
       "      <th>253676</th>\n",
       "      <td>0.0</td>\n",
       "      <td>1.0</td>\n",
       "      <td>1.0</td>\n",
       "      <td>1.0</td>\n",
       "      <td>18.0</td>\n",
       "      <td>0.0</td>\n",
       "      <td>0.0</td>\n",
       "      <td>2.0</td>\n",
       "      <td>0.0</td>\n",
       "      <td>0.0</td>\n",
       "      <td>...</td>\n",
       "      <td>1.0</td>\n",
       "      <td>0.0</td>\n",
       "      <td>4.0</td>\n",
       "      <td>0.0</td>\n",
       "      <td>0.0</td>\n",
       "      <td>1.0</td>\n",
       "      <td>0.0</td>\n",
       "      <td>11.0</td>\n",
       "      <td>2.0</td>\n",
       "      <td>4.0</td>\n",
       "    </tr>\n",
       "    <tr>\n",
       "      <th>253677</th>\n",
       "      <td>0.0</td>\n",
       "      <td>0.0</td>\n",
       "      <td>0.0</td>\n",
       "      <td>1.0</td>\n",
       "      <td>28.0</td>\n",
       "      <td>0.0</td>\n",
       "      <td>0.0</td>\n",
       "      <td>0.0</td>\n",
       "      <td>1.0</td>\n",
       "      <td>1.0</td>\n",
       "      <td>...</td>\n",
       "      <td>1.0</td>\n",
       "      <td>0.0</td>\n",
       "      <td>1.0</td>\n",
       "      <td>0.0</td>\n",
       "      <td>0.0</td>\n",
       "      <td>0.0</td>\n",
       "      <td>0.0</td>\n",
       "      <td>2.0</td>\n",
       "      <td>5.0</td>\n",
       "      <td>2.0</td>\n",
       "    </tr>\n",
       "    <tr>\n",
       "      <th>253678</th>\n",
       "      <td>0.0</td>\n",
       "      <td>1.0</td>\n",
       "      <td>0.0</td>\n",
       "      <td>1.0</td>\n",
       "      <td>23.0</td>\n",
       "      <td>0.0</td>\n",
       "      <td>0.0</td>\n",
       "      <td>0.0</td>\n",
       "      <td>0.0</td>\n",
       "      <td>1.0</td>\n",
       "      <td>...</td>\n",
       "      <td>1.0</td>\n",
       "      <td>0.0</td>\n",
       "      <td>3.0</td>\n",
       "      <td>0.0</td>\n",
       "      <td>0.0</td>\n",
       "      <td>0.0</td>\n",
       "      <td>1.0</td>\n",
       "      <td>7.0</td>\n",
       "      <td>5.0</td>\n",
       "      <td>1.0</td>\n",
       "    </tr>\n",
       "    <tr>\n",
       "      <th>253679</th>\n",
       "      <td>1.0</td>\n",
       "      <td>1.0</td>\n",
       "      <td>1.0</td>\n",
       "      <td>1.0</td>\n",
       "      <td>25.0</td>\n",
       "      <td>0.0</td>\n",
       "      <td>0.0</td>\n",
       "      <td>2.0</td>\n",
       "      <td>1.0</td>\n",
       "      <td>1.0</td>\n",
       "      <td>...</td>\n",
       "      <td>1.0</td>\n",
       "      <td>0.0</td>\n",
       "      <td>2.0</td>\n",
       "      <td>0.0</td>\n",
       "      <td>0.0</td>\n",
       "      <td>0.0</td>\n",
       "      <td>0.0</td>\n",
       "      <td>9.0</td>\n",
       "      <td>6.0</td>\n",
       "      <td>2.0</td>\n",
       "    </tr>\n",
       "  </tbody>\n",
       "</table>\n",
       "<p>253680 rows × 22 columns</p>\n",
       "</div>"
      ],
      "text/plain": [
       "        HeartDiseaseorAttack  HighBP  HighChol  CholCheck   BMI  Smoker  \\\n",
       "0                        0.0     1.0       1.0        1.0  40.0     1.0   \n",
       "1                        0.0     0.0       0.0        0.0  25.0     1.0   \n",
       "2                        0.0     1.0       1.0        1.0  28.0     0.0   \n",
       "3                        0.0     1.0       0.0        1.0  27.0     0.0   \n",
       "4                        0.0     1.0       1.0        1.0  24.0     0.0   \n",
       "...                      ...     ...       ...        ...   ...     ...   \n",
       "253675                   0.0     1.0       1.0        1.0  45.0     0.0   \n",
       "253676                   0.0     1.0       1.0        1.0  18.0     0.0   \n",
       "253677                   0.0     0.0       0.0        1.0  28.0     0.0   \n",
       "253678                   0.0     1.0       0.0        1.0  23.0     0.0   \n",
       "253679                   1.0     1.0       1.0        1.0  25.0     0.0   \n",
       "\n",
       "        Stroke  Diabetes  PhysActivity  Fruits  ...  AnyHealthcare  \\\n",
       "0          0.0       0.0           0.0     0.0  ...            1.0   \n",
       "1          0.0       0.0           1.0     0.0  ...            0.0   \n",
       "2          0.0       0.0           0.0     1.0  ...            1.0   \n",
       "3          0.0       0.0           1.0     1.0  ...            1.0   \n",
       "4          0.0       0.0           1.0     1.0  ...            1.0   \n",
       "...        ...       ...           ...     ...  ...            ...   \n",
       "253675     0.0       0.0           0.0     1.0  ...            1.0   \n",
       "253676     0.0       2.0           0.0     0.0  ...            1.0   \n",
       "253677     0.0       0.0           1.0     1.0  ...            1.0   \n",
       "253678     0.0       0.0           0.0     1.0  ...            1.0   \n",
       "253679     0.0       2.0           1.0     1.0  ...            1.0   \n",
       "\n",
       "        NoDocbcCost  GenHlth  MentHlth  PhysHlth  DiffWalk  Sex   Age  \\\n",
       "0               0.0      5.0      18.0      15.0       1.0  0.0   9.0   \n",
       "1               1.0      3.0       0.0       0.0       0.0  0.0   7.0   \n",
       "2               1.0      5.0      30.0      30.0       1.0  0.0   9.0   \n",
       "3               0.0      2.0       0.0       0.0       0.0  0.0  11.0   \n",
       "4               0.0      2.0       3.0       0.0       0.0  0.0  11.0   \n",
       "...             ...      ...       ...       ...       ...  ...   ...   \n",
       "253675          0.0      3.0       0.0       5.0       0.0  1.0   5.0   \n",
       "253676          0.0      4.0       0.0       0.0       1.0  0.0  11.0   \n",
       "253677          0.0      1.0       0.0       0.0       0.0  0.0   2.0   \n",
       "253678          0.0      3.0       0.0       0.0       0.0  1.0   7.0   \n",
       "253679          0.0      2.0       0.0       0.0       0.0  0.0   9.0   \n",
       "\n",
       "        Education  Income  \n",
       "0             4.0     3.0  \n",
       "1             6.0     1.0  \n",
       "2             4.0     8.0  \n",
       "3             3.0     6.0  \n",
       "4             5.0     4.0  \n",
       "...           ...     ...  \n",
       "253675        6.0     7.0  \n",
       "253676        2.0     4.0  \n",
       "253677        5.0     2.0  \n",
       "253678        5.0     1.0  \n",
       "253679        6.0     2.0  \n",
       "\n",
       "[253680 rows x 22 columns]"
      ]
     },
     "execution_count": 1,
     "metadata": {},
     "output_type": "execute_result"
    }
   ],
   "source": [
    "import pandas as pd\n",
    "import numpy as np\n",
    "from scipy import stats\n",
    "hd_data = pd.read_csv(\"heart_disease_health_indicators_BRFSS2015.csv\")\n",
    "hd_data"
   ]
  },
  {
   "cell_type": "code",
   "execution_count": 2,
   "metadata": {},
   "outputs": [
    {
     "data": {
      "text/html": [
       "<div>\n",
       "<style scoped>\n",
       "    .dataframe tbody tr th:only-of-type {\n",
       "        vertical-align: middle;\n",
       "    }\n",
       "\n",
       "    .dataframe tbody tr th {\n",
       "        vertical-align: top;\n",
       "    }\n",
       "\n",
       "    .dataframe thead th {\n",
       "        text-align: right;\n",
       "    }\n",
       "</style>\n",
       "<table border=\"1\" class=\"dataframe\">\n",
       "  <thead>\n",
       "    <tr style=\"text-align: right;\">\n",
       "      <th></th>\n",
       "      <th>HeartDiseaseorAttack</th>\n",
       "      <th>HighBP</th>\n",
       "      <th>HighChol</th>\n",
       "      <th>CholCheck</th>\n",
       "      <th>BMI</th>\n",
       "      <th>Smoker</th>\n",
       "      <th>Stroke</th>\n",
       "      <th>Diabetes</th>\n",
       "      <th>PhysActivity</th>\n",
       "      <th>Fruits</th>\n",
       "      <th>...</th>\n",
       "      <th>AnyHealthcare</th>\n",
       "      <th>NoDocbcCost</th>\n",
       "      <th>GenHlth</th>\n",
       "      <th>MentHlth</th>\n",
       "      <th>PhysHlth</th>\n",
       "      <th>DiffWalk</th>\n",
       "      <th>Sex</th>\n",
       "      <th>Age</th>\n",
       "      <th>Education</th>\n",
       "      <th>Income</th>\n",
       "    </tr>\n",
       "  </thead>\n",
       "  <tbody>\n",
       "    <tr>\n",
       "      <th>count</th>\n",
       "      <td>253680.000000</td>\n",
       "      <td>253680.000000</td>\n",
       "      <td>253680.000000</td>\n",
       "      <td>253680.000000</td>\n",
       "      <td>253680.000000</td>\n",
       "      <td>253680.000000</td>\n",
       "      <td>253680.000000</td>\n",
       "      <td>253680.000000</td>\n",
       "      <td>253680.000000</td>\n",
       "      <td>253680.000000</td>\n",
       "      <td>...</td>\n",
       "      <td>253680.000000</td>\n",
       "      <td>253680.000000</td>\n",
       "      <td>253680.000000</td>\n",
       "      <td>253680.000000</td>\n",
       "      <td>253680.000000</td>\n",
       "      <td>253680.000000</td>\n",
       "      <td>253680.000000</td>\n",
       "      <td>253680.000000</td>\n",
       "      <td>253680.000000</td>\n",
       "      <td>253680.000000</td>\n",
       "    </tr>\n",
       "    <tr>\n",
       "      <th>mean</th>\n",
       "      <td>0.094186</td>\n",
       "      <td>0.429001</td>\n",
       "      <td>0.424121</td>\n",
       "      <td>0.962670</td>\n",
       "      <td>28.382364</td>\n",
       "      <td>0.443169</td>\n",
       "      <td>0.040571</td>\n",
       "      <td>0.296921</td>\n",
       "      <td>0.756544</td>\n",
       "      <td>0.634256</td>\n",
       "      <td>...</td>\n",
       "      <td>0.951053</td>\n",
       "      <td>0.084177</td>\n",
       "      <td>2.511392</td>\n",
       "      <td>3.184772</td>\n",
       "      <td>4.242081</td>\n",
       "      <td>0.168224</td>\n",
       "      <td>0.440342</td>\n",
       "      <td>8.032119</td>\n",
       "      <td>5.050434</td>\n",
       "      <td>6.053875</td>\n",
       "    </tr>\n",
       "    <tr>\n",
       "      <th>std</th>\n",
       "      <td>0.292087</td>\n",
       "      <td>0.494934</td>\n",
       "      <td>0.494210</td>\n",
       "      <td>0.189571</td>\n",
       "      <td>6.608694</td>\n",
       "      <td>0.496761</td>\n",
       "      <td>0.197294</td>\n",
       "      <td>0.698160</td>\n",
       "      <td>0.429169</td>\n",
       "      <td>0.481639</td>\n",
       "      <td>...</td>\n",
       "      <td>0.215759</td>\n",
       "      <td>0.277654</td>\n",
       "      <td>1.068477</td>\n",
       "      <td>7.412847</td>\n",
       "      <td>8.717951</td>\n",
       "      <td>0.374066</td>\n",
       "      <td>0.496429</td>\n",
       "      <td>3.054220</td>\n",
       "      <td>0.985774</td>\n",
       "      <td>2.071148</td>\n",
       "    </tr>\n",
       "    <tr>\n",
       "      <th>min</th>\n",
       "      <td>0.000000</td>\n",
       "      <td>0.000000</td>\n",
       "      <td>0.000000</td>\n",
       "      <td>0.000000</td>\n",
       "      <td>12.000000</td>\n",
       "      <td>0.000000</td>\n",
       "      <td>0.000000</td>\n",
       "      <td>0.000000</td>\n",
       "      <td>0.000000</td>\n",
       "      <td>0.000000</td>\n",
       "      <td>...</td>\n",
       "      <td>0.000000</td>\n",
       "      <td>0.000000</td>\n",
       "      <td>1.000000</td>\n",
       "      <td>0.000000</td>\n",
       "      <td>0.000000</td>\n",
       "      <td>0.000000</td>\n",
       "      <td>0.000000</td>\n",
       "      <td>1.000000</td>\n",
       "      <td>1.000000</td>\n",
       "      <td>1.000000</td>\n",
       "    </tr>\n",
       "    <tr>\n",
       "      <th>25%</th>\n",
       "      <td>0.000000</td>\n",
       "      <td>0.000000</td>\n",
       "      <td>0.000000</td>\n",
       "      <td>1.000000</td>\n",
       "      <td>24.000000</td>\n",
       "      <td>0.000000</td>\n",
       "      <td>0.000000</td>\n",
       "      <td>0.000000</td>\n",
       "      <td>1.000000</td>\n",
       "      <td>0.000000</td>\n",
       "      <td>...</td>\n",
       "      <td>1.000000</td>\n",
       "      <td>0.000000</td>\n",
       "      <td>2.000000</td>\n",
       "      <td>0.000000</td>\n",
       "      <td>0.000000</td>\n",
       "      <td>0.000000</td>\n",
       "      <td>0.000000</td>\n",
       "      <td>6.000000</td>\n",
       "      <td>4.000000</td>\n",
       "      <td>5.000000</td>\n",
       "    </tr>\n",
       "    <tr>\n",
       "      <th>50%</th>\n",
       "      <td>0.000000</td>\n",
       "      <td>0.000000</td>\n",
       "      <td>0.000000</td>\n",
       "      <td>1.000000</td>\n",
       "      <td>27.000000</td>\n",
       "      <td>0.000000</td>\n",
       "      <td>0.000000</td>\n",
       "      <td>0.000000</td>\n",
       "      <td>1.000000</td>\n",
       "      <td>1.000000</td>\n",
       "      <td>...</td>\n",
       "      <td>1.000000</td>\n",
       "      <td>0.000000</td>\n",
       "      <td>2.000000</td>\n",
       "      <td>0.000000</td>\n",
       "      <td>0.000000</td>\n",
       "      <td>0.000000</td>\n",
       "      <td>0.000000</td>\n",
       "      <td>8.000000</td>\n",
       "      <td>5.000000</td>\n",
       "      <td>7.000000</td>\n",
       "    </tr>\n",
       "    <tr>\n",
       "      <th>75%</th>\n",
       "      <td>0.000000</td>\n",
       "      <td>1.000000</td>\n",
       "      <td>1.000000</td>\n",
       "      <td>1.000000</td>\n",
       "      <td>31.000000</td>\n",
       "      <td>1.000000</td>\n",
       "      <td>0.000000</td>\n",
       "      <td>0.000000</td>\n",
       "      <td>1.000000</td>\n",
       "      <td>1.000000</td>\n",
       "      <td>...</td>\n",
       "      <td>1.000000</td>\n",
       "      <td>0.000000</td>\n",
       "      <td>3.000000</td>\n",
       "      <td>2.000000</td>\n",
       "      <td>3.000000</td>\n",
       "      <td>0.000000</td>\n",
       "      <td>1.000000</td>\n",
       "      <td>10.000000</td>\n",
       "      <td>6.000000</td>\n",
       "      <td>8.000000</td>\n",
       "    </tr>\n",
       "    <tr>\n",
       "      <th>max</th>\n",
       "      <td>1.000000</td>\n",
       "      <td>1.000000</td>\n",
       "      <td>1.000000</td>\n",
       "      <td>1.000000</td>\n",
       "      <td>98.000000</td>\n",
       "      <td>1.000000</td>\n",
       "      <td>1.000000</td>\n",
       "      <td>2.000000</td>\n",
       "      <td>1.000000</td>\n",
       "      <td>1.000000</td>\n",
       "      <td>...</td>\n",
       "      <td>1.000000</td>\n",
       "      <td>1.000000</td>\n",
       "      <td>5.000000</td>\n",
       "      <td>30.000000</td>\n",
       "      <td>30.000000</td>\n",
       "      <td>1.000000</td>\n",
       "      <td>1.000000</td>\n",
       "      <td>13.000000</td>\n",
       "      <td>6.000000</td>\n",
       "      <td>8.000000</td>\n",
       "    </tr>\n",
       "  </tbody>\n",
       "</table>\n",
       "<p>8 rows × 22 columns</p>\n",
       "</div>"
      ],
      "text/plain": [
       "       HeartDiseaseorAttack         HighBP       HighChol      CholCheck  \\\n",
       "count         253680.000000  253680.000000  253680.000000  253680.000000   \n",
       "mean               0.094186       0.429001       0.424121       0.962670   \n",
       "std                0.292087       0.494934       0.494210       0.189571   \n",
       "min                0.000000       0.000000       0.000000       0.000000   \n",
       "25%                0.000000       0.000000       0.000000       1.000000   \n",
       "50%                0.000000       0.000000       0.000000       1.000000   \n",
       "75%                0.000000       1.000000       1.000000       1.000000   \n",
       "max                1.000000       1.000000       1.000000       1.000000   \n",
       "\n",
       "                 BMI         Smoker         Stroke       Diabetes  \\\n",
       "count  253680.000000  253680.000000  253680.000000  253680.000000   \n",
       "mean       28.382364       0.443169       0.040571       0.296921   \n",
       "std         6.608694       0.496761       0.197294       0.698160   \n",
       "min        12.000000       0.000000       0.000000       0.000000   \n",
       "25%        24.000000       0.000000       0.000000       0.000000   \n",
       "50%        27.000000       0.000000       0.000000       0.000000   \n",
       "75%        31.000000       1.000000       0.000000       0.000000   \n",
       "max        98.000000       1.000000       1.000000       2.000000   \n",
       "\n",
       "        PhysActivity         Fruits  ...  AnyHealthcare    NoDocbcCost  \\\n",
       "count  253680.000000  253680.000000  ...  253680.000000  253680.000000   \n",
       "mean        0.756544       0.634256  ...       0.951053       0.084177   \n",
       "std         0.429169       0.481639  ...       0.215759       0.277654   \n",
       "min         0.000000       0.000000  ...       0.000000       0.000000   \n",
       "25%         1.000000       0.000000  ...       1.000000       0.000000   \n",
       "50%         1.000000       1.000000  ...       1.000000       0.000000   \n",
       "75%         1.000000       1.000000  ...       1.000000       0.000000   \n",
       "max         1.000000       1.000000  ...       1.000000       1.000000   \n",
       "\n",
       "             GenHlth       MentHlth       PhysHlth       DiffWalk  \\\n",
       "count  253680.000000  253680.000000  253680.000000  253680.000000   \n",
       "mean        2.511392       3.184772       4.242081       0.168224   \n",
       "std         1.068477       7.412847       8.717951       0.374066   \n",
       "min         1.000000       0.000000       0.000000       0.000000   \n",
       "25%         2.000000       0.000000       0.000000       0.000000   \n",
       "50%         2.000000       0.000000       0.000000       0.000000   \n",
       "75%         3.000000       2.000000       3.000000       0.000000   \n",
       "max         5.000000      30.000000      30.000000       1.000000   \n",
       "\n",
       "                 Sex            Age      Education         Income  \n",
       "count  253680.000000  253680.000000  253680.000000  253680.000000  \n",
       "mean        0.440342       8.032119       5.050434       6.053875  \n",
       "std         0.496429       3.054220       0.985774       2.071148  \n",
       "min         0.000000       1.000000       1.000000       1.000000  \n",
       "25%         0.000000       6.000000       4.000000       5.000000  \n",
       "50%         0.000000       8.000000       5.000000       7.000000  \n",
       "75%         1.000000      10.000000       6.000000       8.000000  \n",
       "max         1.000000      13.000000       6.000000       8.000000  \n",
       "\n",
       "[8 rows x 22 columns]"
      ]
     },
     "execution_count": 2,
     "metadata": {},
     "output_type": "execute_result"
    }
   ],
   "source": [
    "hd_data.describe()"
   ]
  },
  {
   "cell_type": "code",
   "execution_count": 3,
   "metadata": {},
   "outputs": [
    {
     "name": "stdout",
     "output_type": "stream",
     "text": [
      "<class 'pandas.core.frame.DataFrame'>\n",
      "RangeIndex: 253680 entries, 0 to 253679\n",
      "Data columns (total 22 columns):\n",
      " #   Column                Non-Null Count   Dtype  \n",
      "---  ------                --------------   -----  \n",
      " 0   HeartDiseaseorAttack  253680 non-null  float64\n",
      " 1   HighBP                253680 non-null  float64\n",
      " 2   HighChol              253680 non-null  float64\n",
      " 3   CholCheck             253680 non-null  float64\n",
      " 4   BMI                   253680 non-null  float64\n",
      " 5   Smoker                253680 non-null  float64\n",
      " 6   Stroke                253680 non-null  float64\n",
      " 7   Diabetes              253680 non-null  float64\n",
      " 8   PhysActivity          253680 non-null  float64\n",
      " 9   Fruits                253680 non-null  float64\n",
      " 10  Veggies               253680 non-null  float64\n",
      " 11  HvyAlcoholConsump     253680 non-null  float64\n",
      " 12  AnyHealthcare         253680 non-null  float64\n",
      " 13  NoDocbcCost           253680 non-null  float64\n",
      " 14  GenHlth               253680 non-null  float64\n",
      " 15  MentHlth              253680 non-null  float64\n",
      " 16  PhysHlth              253680 non-null  float64\n",
      " 17  DiffWalk              253680 non-null  float64\n",
      " 18  Sex                   253680 non-null  float64\n",
      " 19  Age                   253680 non-null  float64\n",
      " 20  Education             253680 non-null  float64\n",
      " 21  Income                253680 non-null  float64\n",
      "dtypes: float64(22)\n",
      "memory usage: 42.6 MB\n"
     ]
    }
   ],
   "source": [
    "hd_data.info()"
   ]
  },
  {
   "cell_type": "code",
   "execution_count": 4,
   "metadata": {},
   "outputs": [
    {
     "data": {
      "text/plain": [
       "HeartDiseaseorAttack    0\n",
       "HighBP                  0\n",
       "HighChol                0\n",
       "CholCheck               0\n",
       "BMI                     0\n",
       "Smoker                  0\n",
       "Stroke                  0\n",
       "Diabetes                0\n",
       "PhysActivity            0\n",
       "Fruits                  0\n",
       "Veggies                 0\n",
       "HvyAlcoholConsump       0\n",
       "AnyHealthcare           0\n",
       "NoDocbcCost             0\n",
       "GenHlth                 0\n",
       "MentHlth                0\n",
       "PhysHlth                0\n",
       "DiffWalk                0\n",
       "Sex                     0\n",
       "Age                     0\n",
       "Education               0\n",
       "Income                  0\n",
       "dtype: int64"
      ]
     },
     "execution_count": 4,
     "metadata": {},
     "output_type": "execute_result"
    }
   ],
   "source": [
    "hd_data.isnull().sum()\n",
    "## There is no missing value in the whole dataset and the data's already been cleaned"
   ]
  },
  {
   "cell_type": "code",
   "execution_count": 5,
   "metadata": {},
   "outputs": [
    {
     "data": {
      "image/png": "[encoded data removed]",
      "text/plain": [
       "<Figure size 2160x432 with 1 Axes>"
      ]
     },
     "metadata": {},
     "output_type": "display_data"
    }
   ],
   "source": [
    "import matplotlib.pyplot as plt\n",
    "import seaborn as sns\n",
    "sns.set(rc = {'figure.figsize':(30,6)})\n",
    "sns.countplot(x='PhysHlth', data= hd_data, palette='hls')\n",
    "plt.show()"
   ]
  },
  {
   "cell_type": "code",
   "execution_count": 6,
   "metadata": {},
   "outputs": [
    {
     "data": {
      "image/png": "[encoded data removed]",
      "text/plain": [
       "<Figure size 2160x432 with 1 Axes>"
      ]
     },
     "metadata": {},
     "output_type": "display_data"
    }
   ],
   "source": [
    "import matplotlib.pyplot as plt\n",
    "sns.set(rc = {'figure.figsize':(30,6)})\n",
    "sns.countplot(x='BMI', data= hd_data, palette='hls')\n",
    "plt.show()"
   ]
  },
  {
   "cell_type": "code",
   "execution_count": 7,
   "metadata": {},
   "outputs": [
    {
     "data": {
      "text/html": [
       "<div>\n",
       "<style scoped>\n",
       "    .dataframe tbody tr th:only-of-type {\n",
       "        vertical-align: middle;\n",
       "    }\n",
       "\n",
       "    .dataframe tbody tr th {\n",
       "        vertical-align: top;\n",
       "    }\n",
       "\n",
       "    .dataframe thead th {\n",
       "        text-align: right;\n",
       "    }\n",
       "</style>\n",
       "<table border=\"1\" class=\"dataframe\">\n",
       "  <thead>\n",
       "    <tr style=\"text-align: right;\">\n",
       "      <th></th>\n",
       "      <th>Data</th>\n",
       "      <th>25%</th>\n",
       "      <th>50%</th>\n",
       "      <th>75%</th>\n",
       "    </tr>\n",
       "  </thead>\n",
       "  <tbody>\n",
       "    <tr>\n",
       "      <th>0</th>\n",
       "      <td>no heart disease BMI</td>\n",
       "      <td>24.0</td>\n",
       "      <td>27.0</td>\n",
       "      <td>31.0</td>\n",
       "    </tr>\n",
       "    <tr>\n",
       "      <th>1</th>\n",
       "      <td>heart disease BMI</td>\n",
       "      <td>25.0</td>\n",
       "      <td>28.0</td>\n",
       "      <td>33.0</td>\n",
       "    </tr>\n",
       "    <tr>\n",
       "      <th>2</th>\n",
       "      <td>all BMI distribution</td>\n",
       "      <td>24.0</td>\n",
       "      <td>27.0</td>\n",
       "      <td>31.0</td>\n",
       "    </tr>\n",
       "  </tbody>\n",
       "</table>\n",
       "</div>"
      ],
      "text/plain": [
       "                   Data   25%   50%   75%\n",
       "0  no heart disease BMI  24.0  27.0  31.0\n",
       "1     heart disease BMI  25.0  28.0  33.0\n",
       "2  all BMI distribution  24.0  27.0  31.0"
      ]
     },
     "execution_count": 7,
     "metadata": {},
     "output_type": "execute_result"
    }
   ],
   "source": [
    "# BMI quantile table\n",
    "BMI_h_d_quantile = pd.DataFrame({'Data':['no heart disease BMI','heart disease BMI','all BMI distribution'],\n",
    "                                '25%':[np.quantile(hd_data[hd_data['HeartDiseaseorAttack']==0]['BMI'],0.25),\n",
    "                                      np.quantile(hd_data[hd_data['HeartDiseaseorAttack']==1]['BMI'],0.25),\n",
    "                                      np.quantile(hd_data['BMI'],0.25)],\n",
    "                                '50%':[np.quantile(hd_data[hd_data['HeartDiseaseorAttack']==0]['BMI'],0.5),\n",
    "                                      np.quantile(hd_data[hd_data['HeartDiseaseorAttack']==1]['BMI'],0.5),\n",
    "                                      np.quantile(hd_data['BMI'],0.5)],\n",
    "                                '75%':[np.quantile(hd_data[hd_data['HeartDiseaseorAttack']==0]['BMI'],0.75),\n",
    "                                      np.quantile(hd_data[hd_data['HeartDiseaseorAttack']==1]['BMI'],0.75),\n",
    "                                      np.quantile(hd_data['BMI'],0.75)]})\n",
    "BMI_h_d_quantile"
   ]
  },
  {
   "cell_type": "code",
   "execution_count": 8,
   "metadata": {},
   "outputs": [
    {
     "data": {
      "text/html": [
       "<div>\n",
       "<style scoped>\n",
       "    .dataframe tbody tr th:only-of-type {\n",
       "        vertical-align: middle;\n",
       "    }\n",
       "\n",
       "    .dataframe tbody tr th {\n",
       "        vertical-align: top;\n",
       "    }\n",
       "\n",
       "    .dataframe thead th {\n",
       "        text-align: right;\n",
       "    }\n",
       "</style>\n",
       "<table border=\"1\" class=\"dataframe\">\n",
       "  <thead>\n",
       "    <tr style=\"text-align: right;\">\n",
       "      <th></th>\n",
       "      <th>Data</th>\n",
       "      <th>25%</th>\n",
       "      <th>50%</th>\n",
       "      <th>75%</th>\n",
       "    </tr>\n",
       "  </thead>\n",
       "  <tbody>\n",
       "    <tr>\n",
       "      <th>0</th>\n",
       "      <td>no heart disease GH</td>\n",
       "      <td>2.0</td>\n",
       "      <td>2.0</td>\n",
       "      <td>3.0</td>\n",
       "    </tr>\n",
       "    <tr>\n",
       "      <th>1</th>\n",
       "      <td>heart disease GH</td>\n",
       "      <td>3.0</td>\n",
       "      <td>3.0</td>\n",
       "      <td>4.0</td>\n",
       "    </tr>\n",
       "    <tr>\n",
       "      <th>2</th>\n",
       "      <td>all GH distribution</td>\n",
       "      <td>2.0</td>\n",
       "      <td>2.0</td>\n",
       "      <td>3.0</td>\n",
       "    </tr>\n",
       "  </tbody>\n",
       "</table>\n",
       "</div>"
      ],
      "text/plain": [
       "                  Data  25%  50%  75%\n",
       "0  no heart disease GH  2.0  2.0  3.0\n",
       "1     heart disease GH  3.0  3.0  4.0\n",
       "2  all GH distribution  2.0  2.0  3.0"
      ]
     },
     "execution_count": 8,
     "metadata": {},
     "output_type": "execute_result"
    }
   ],
   "source": [
    "# general health quantile table\n",
    "GH_h_d_quantile = pd.DataFrame({'Data':['no heart disease GH','heart disease GH','all GH distribution'],\n",
    "                                '25%':[np.quantile(hd_data[hd_data['HeartDiseaseorAttack']==0]['GenHlth'],0.25),\n",
    "                                      np.quantile(hd_data[hd_data['HeartDiseaseorAttack']==1]['GenHlth'],0.25),\n",
    "                                      np.quantile(hd_data['GenHlth'],0.25)],\n",
    "                                '50%':[np.quantile(hd_data[hd_data['HeartDiseaseorAttack']==0]['GenHlth'],0.5),\n",
    "                                      np.quantile(hd_data[hd_data['HeartDiseaseorAttack']==1]['GenHlth'],0.5),\n",
    "                                      np.quantile(hd_data['GenHlth'],0.5)],\n",
    "                                '75%':[np.quantile(hd_data[hd_data['HeartDiseaseorAttack']==0]['GenHlth'],0.75),\n",
    "                                      np.quantile(hd_data[hd_data['HeartDiseaseorAttack']==1]['GenHlth'],0.75),\n",
    "                                      np.quantile(hd_data['GenHlth'],0.75)]})\n",
    "GH_h_d_quantile"
   ]
  },
  {
   "cell_type": "code",
   "execution_count": 9,
   "metadata": {},
   "outputs": [
    {
     "data": {
      "text/html": [
       "<div>\n",
       "<style scoped>\n",
       "    .dataframe tbody tr th:only-of-type {\n",
       "        vertical-align: middle;\n",
       "    }\n",
       "\n",
       "    .dataframe tbody tr th {\n",
       "        vertical-align: top;\n",
       "    }\n",
       "\n",
       "    .dataframe thead th {\n",
       "        text-align: right;\n",
       "    }\n",
       "</style>\n",
       "<table border=\"1\" class=\"dataframe\">\n",
       "  <thead>\n",
       "    <tr style=\"text-align: right;\">\n",
       "      <th></th>\n",
       "      <th>Data</th>\n",
       "      <th>25%</th>\n",
       "      <th>50%</th>\n",
       "      <th>75%</th>\n",
       "    </tr>\n",
       "  </thead>\n",
       "  <tbody>\n",
       "    <tr>\n",
       "      <th>0</th>\n",
       "      <td>no heart disease PH</td>\n",
       "      <td>0.0</td>\n",
       "      <td>0.0</td>\n",
       "      <td>2.0</td>\n",
       "    </tr>\n",
       "    <tr>\n",
       "      <th>1</th>\n",
       "      <td>heart disease PH</td>\n",
       "      <td>0.0</td>\n",
       "      <td>2.0</td>\n",
       "      <td>20.0</td>\n",
       "    </tr>\n",
       "    <tr>\n",
       "      <th>2</th>\n",
       "      <td>all PH distribution</td>\n",
       "      <td>0.0</td>\n",
       "      <td>0.0</td>\n",
       "      <td>3.0</td>\n",
       "    </tr>\n",
       "  </tbody>\n",
       "</table>\n",
       "</div>"
      ],
      "text/plain": [
       "                  Data  25%  50%   75%\n",
       "0  no heart disease PH  0.0  0.0   2.0\n",
       "1     heart disease PH  0.0  2.0  20.0\n",
       "2  all PH distribution  0.0  0.0   3.0"
      ]
     },
     "execution_count": 9,
     "metadata": {},
     "output_type": "execute_result"
    }
   ],
   "source": [
    "# physical health quantile table\n",
    "P_h_d_quantile = pd.DataFrame({'Data':['no heart disease PH','heart disease PH','all PH distribution'],\n",
    "                                '25%':[np.quantile(hd_data[hd_data['HeartDiseaseorAttack']==0]['PhysHlth'],0.25),\n",
    "                                      np.quantile(hd_data[hd_data['HeartDiseaseorAttack']==1]['PhysHlth'],0.25),\n",
    "                                      np.quantile(hd_data['PhysHlth'],0.25)],\n",
    "                                '50%':[np.quantile(hd_data[hd_data['HeartDiseaseorAttack']==0]['PhysHlth'],0.5),\n",
    "                                      np.quantile(hd_data[hd_data['HeartDiseaseorAttack']==1]['PhysHlth'],0.5),\n",
    "                                      np.quantile(hd_data['PhysHlth'],0.5)],\n",
    "                                '75%':[np.quantile(hd_data[hd_data['HeartDiseaseorAttack']==0]['PhysHlth'],0.75),\n",
    "                                      np.quantile(hd_data[hd_data['HeartDiseaseorAttack']==1]['PhysHlth'],0.75),\n",
    "                                      np.quantile(hd_data['PhysHlth'],0.75)]})\n",
    "P_h_d_quantile"
   ]
  },
  {
   "cell_type": "code",
   "execution_count": 10,
   "metadata": {},
   "outputs": [
    {
     "data": {
      "text/html": [
       "<div>\n",
       "<style scoped>\n",
       "    .dataframe tbody tr th:only-of-type {\n",
       "        vertical-align: middle;\n",
       "    }\n",
       "\n",
       "    .dataframe tbody tr th {\n",
       "        vertical-align: top;\n",
       "    }\n",
       "\n",
       "    .dataframe thead th {\n",
       "        text-align: right;\n",
       "    }\n",
       "</style>\n",
       "<table border=\"1\" class=\"dataframe\">\n",
       "  <thead>\n",
       "    <tr style=\"text-align: right;\">\n",
       "      <th></th>\n",
       "      <th>Data</th>\n",
       "      <th>25%</th>\n",
       "      <th>50%</th>\n",
       "      <th>75%</th>\n",
       "    </tr>\n",
       "  </thead>\n",
       "  <tbody>\n",
       "    <tr>\n",
       "      <th>0</th>\n",
       "      <td>no heart disease Age</td>\n",
       "      <td>6.0</td>\n",
       "      <td>8.0</td>\n",
       "      <td>10.0</td>\n",
       "    </tr>\n",
       "    <tr>\n",
       "      <th>1</th>\n",
       "      <td>heart disease Age</td>\n",
       "      <td>9.0</td>\n",
       "      <td>10.0</td>\n",
       "      <td>12.0</td>\n",
       "    </tr>\n",
       "    <tr>\n",
       "      <th>2</th>\n",
       "      <td>all Age distribution</td>\n",
       "      <td>6.0</td>\n",
       "      <td>8.0</td>\n",
       "      <td>10.0</td>\n",
       "    </tr>\n",
       "  </tbody>\n",
       "</table>\n",
       "</div>"
      ],
      "text/plain": [
       "                   Data  25%   50%   75%\n",
       "0  no heart disease Age  6.0   8.0  10.0\n",
       "1     heart disease Age  9.0  10.0  12.0\n",
       "2  all Age distribution  6.0   8.0  10.0"
      ]
     },
     "execution_count": 10,
     "metadata": {},
     "output_type": "execute_result"
    }
   ],
   "source": [
    "# Age quantile table\n",
    "A_h_d_quantile = pd.DataFrame({'Data':['no heart disease Age','heart disease Age','all Age distribution'],\n",
    "                                '25%':[np.quantile(hd_data[hd_data['HeartDiseaseorAttack']==0]['Age'],0.25),\n",
    "                                      np.quantile(hd_data[hd_data['HeartDiseaseorAttack']==1]['Age'],0.25),\n",
    "                                      np.quantile(hd_data['Age'],0.25)],\n",
    "                                '50%':[np.quantile(hd_data[hd_data['HeartDiseaseorAttack']==0]['Age'],0.5),\n",
    "                                      np.quantile(hd_data[hd_data['HeartDiseaseorAttack']==1]['Age'],0.5),\n",
    "                                      np.quantile(hd_data['Age'],0.5)],\n",
    "                                '75%':[np.quantile(hd_data[hd_data['HeartDiseaseorAttack']==0]['Age'],0.75),\n",
    "                                      np.quantile(hd_data[hd_data['HeartDiseaseorAttack']==1]['Age'],0.75),\n",
    "                                      np.quantile(hd_data['Age'],0.75)]})\n",
    "A_h_d_quantile"
   ]
  },
  {
   "cell_type": "code",
   "execution_count": 11,
   "metadata": {},
   "outputs": [
    {
     "data": {
      "text/html": [
       "<div>\n",
       "<style scoped>\n",
       "    .dataframe tbody tr th:only-of-type {\n",
       "        vertical-align: middle;\n",
       "    }\n",
       "\n",
       "    .dataframe tbody tr th {\n",
       "        vertical-align: top;\n",
       "    }\n",
       "\n",
       "    .dataframe thead th {\n",
       "        text-align: right;\n",
       "    }\n",
       "</style>\n",
       "<table border=\"1\" class=\"dataframe\">\n",
       "  <thead>\n",
       "    <tr style=\"text-align: right;\">\n",
       "      <th></th>\n",
       "      <th>Data</th>\n",
       "      <th>25%</th>\n",
       "      <th>50%</th>\n",
       "      <th>75%</th>\n",
       "    </tr>\n",
       "  </thead>\n",
       "  <tbody>\n",
       "    <tr>\n",
       "      <th>0</th>\n",
       "      <td>no heart disease Edu</td>\n",
       "      <td>4.0</td>\n",
       "      <td>5.0</td>\n",
       "      <td>6.0</td>\n",
       "    </tr>\n",
       "    <tr>\n",
       "      <th>1</th>\n",
       "      <td>heart disease Edu</td>\n",
       "      <td>4.0</td>\n",
       "      <td>5.0</td>\n",
       "      <td>6.0</td>\n",
       "    </tr>\n",
       "    <tr>\n",
       "      <th>2</th>\n",
       "      <td>all Edu distribution</td>\n",
       "      <td>4.0</td>\n",
       "      <td>5.0</td>\n",
       "      <td>6.0</td>\n",
       "    </tr>\n",
       "  </tbody>\n",
       "</table>\n",
       "</div>"
      ],
      "text/plain": [
       "                   Data  25%  50%  75%\n",
       "0  no heart disease Edu  4.0  5.0  6.0\n",
       "1     heart disease Edu  4.0  5.0  6.0\n",
       "2  all Edu distribution  4.0  5.0  6.0"
      ]
     },
     "execution_count": 11,
     "metadata": {},
     "output_type": "execute_result"
    }
   ],
   "source": [
    "# Education quantile table\n",
    "E_h_d_quantile = pd.DataFrame({'Data':['no heart disease Edu','heart disease Edu','all Edu distribution'],\n",
    "                                '25%':[np.quantile(hd_data[hd_data['HeartDiseaseorAttack']==0]['Education'],0.25),\n",
    "                                      np.quantile(hd_data[hd_data['HeartDiseaseorAttack']==1]['Education'],0.25),\n",
    "                                      np.quantile(hd_data['Education'],0.25)],\n",
    "                                '50%':[np.quantile(hd_data[hd_data['HeartDiseaseorAttack']==0]['Education'],0.5),\n",
    "                                      np.quantile(hd_data[hd_data['HeartDiseaseorAttack']==1]['Education'],0.5),\n",
    "                                      np.quantile(hd_data['Education'],0.5)],\n",
    "                                '75%':[np.quantile(hd_data[hd_data['HeartDiseaseorAttack']==0]['Education'],0.75),\n",
    "                                      np.quantile(hd_data[hd_data['HeartDiseaseorAttack']==1]['Education'],0.75),\n",
    "                                      np.quantile(hd_data['Education'],0.75)]})\n",
    "E_h_d_quantile"
   ]
  },
  {
   "cell_type": "code",
   "execution_count": 12,
   "metadata": {},
   "outputs": [
    {
     "data": {
      "text/html": [
       "<div>\n",
       "<style scoped>\n",
       "    .dataframe tbody tr th:only-of-type {\n",
       "        vertical-align: middle;\n",
       "    }\n",
       "\n",
       "    .dataframe tbody tr th {\n",
       "        vertical-align: top;\n",
       "    }\n",
       "\n",
       "    .dataframe thead th {\n",
       "        text-align: right;\n",
       "    }\n",
       "</style>\n",
       "<table border=\"1\" class=\"dataframe\">\n",
       "  <thead>\n",
       "    <tr style=\"text-align: right;\">\n",
       "      <th></th>\n",
       "      <th>Data</th>\n",
       "      <th>25%</th>\n",
       "      <th>50%</th>\n",
       "      <th>75%</th>\n",
       "    </tr>\n",
       "  </thead>\n",
       "  <tbody>\n",
       "    <tr>\n",
       "      <th>0</th>\n",
       "      <td>no heart disease Income</td>\n",
       "      <td>5.0</td>\n",
       "      <td>7.0</td>\n",
       "      <td>8.0</td>\n",
       "    </tr>\n",
       "    <tr>\n",
       "      <th>1</th>\n",
       "      <td>heart disease Income</td>\n",
       "      <td>3.0</td>\n",
       "      <td>5.0</td>\n",
       "      <td>7.0</td>\n",
       "    </tr>\n",
       "    <tr>\n",
       "      <th>2</th>\n",
       "      <td>all Age distribution</td>\n",
       "      <td>5.0</td>\n",
       "      <td>7.0</td>\n",
       "      <td>8.0</td>\n",
       "    </tr>\n",
       "  </tbody>\n",
       "</table>\n",
       "</div>"
      ],
      "text/plain": [
       "                      Data  25%  50%  75%\n",
       "0  no heart disease Income  5.0  7.0  8.0\n",
       "1     heart disease Income  3.0  5.0  7.0\n",
       "2     all Age distribution  5.0  7.0  8.0"
      ]
     },
     "execution_count": 12,
     "metadata": {},
     "output_type": "execute_result"
    }
   ],
   "source": [
    "# Income quantile table\n",
    "I_h_d_quantile = pd.DataFrame({'Data':['no heart disease Income','heart disease Income','all Age distribution'],\n",
    "                                '25%':[np.quantile(hd_data[hd_data['HeartDiseaseorAttack']==0]['Income'],0.25),\n",
    "                                      np.quantile(hd_data[hd_data['HeartDiseaseorAttack']==1]['Income'],0.25),\n",
    "                                      np.quantile(hd_data['Income'],0.25)],\n",
    "                                '50%':[np.quantile(hd_data[hd_data['HeartDiseaseorAttack']==0]['Income'],0.5),\n",
    "                                      np.quantile(hd_data[hd_data['HeartDiseaseorAttack']==1]['Income'],0.5),\n",
    "                                      np.quantile(hd_data['Income'],0.5)],\n",
    "                                '75%':[np.quantile(hd_data[hd_data['HeartDiseaseorAttack']==0]['Income'],0.75),\n",
    "                                      np.quantile(hd_data[hd_data['HeartDiseaseorAttack']==1]['Income'],0.75),\n",
    "                                      np.quantile(hd_data['Income'],0.75)]})\n",
    "I_h_d_quantile"
   ]
  },
  {
   "cell_type": "code",
   "execution_count": 13,
   "metadata": {},
   "outputs": [
    {
     "data": {
      "text/html": [
       "<div>\n",
       "<style scoped>\n",
       "    .dataframe tbody tr th:only-of-type {\n",
       "        vertical-align: middle;\n",
       "    }\n",
       "\n",
       "    .dataframe tbody tr th {\n",
       "        vertical-align: top;\n",
       "    }\n",
       "\n",
       "    .dataframe thead th {\n",
       "        text-align: right;\n",
       "    }\n",
       "</style>\n",
       "<table border=\"1\" class=\"dataframe\">\n",
       "  <thead>\n",
       "    <tr style=\"text-align: right;\">\n",
       "      <th></th>\n",
       "      <th>Data</th>\n",
       "      <th>25%</th>\n",
       "      <th>50%</th>\n",
       "      <th>75%</th>\n",
       "    </tr>\n",
       "  </thead>\n",
       "  <tbody>\n",
       "    <tr>\n",
       "      <th>0</th>\n",
       "      <td>no heart disease MH</td>\n",
       "      <td>0.0</td>\n",
       "      <td>0.0</td>\n",
       "      <td>2.0</td>\n",
       "    </tr>\n",
       "    <tr>\n",
       "      <th>1</th>\n",
       "      <td>heart disease MH</td>\n",
       "      <td>0.0</td>\n",
       "      <td>0.0</td>\n",
       "      <td>4.0</td>\n",
       "    </tr>\n",
       "    <tr>\n",
       "      <th>2</th>\n",
       "      <td>all MH distribution</td>\n",
       "      <td>0.0</td>\n",
       "      <td>0.0</td>\n",
       "      <td>2.0</td>\n",
       "    </tr>\n",
       "  </tbody>\n",
       "</table>\n",
       "</div>"
      ],
      "text/plain": [
       "                  Data  25%  50%  75%\n",
       "0  no heart disease MH  0.0  0.0  2.0\n",
       "1     heart disease MH  0.0  0.0  4.0\n",
       "2  all MH distribution  0.0  0.0  2.0"
      ]
     },
     "execution_count": 13,
     "metadata": {},
     "output_type": "execute_result"
    }
   ],
   "source": [
    "# mental health quantile table\n",
    "M_h_d_quantile = pd.DataFrame({'Data':['no heart disease MH','heart disease MH','all MH distribution'],\n",
    "                                '25%':[np.quantile(hd_data[hd_data['HeartDiseaseorAttack']==0]['MentHlth'],0.25),\n",
    "                                      np.quantile(hd_data[hd_data['HeartDiseaseorAttack']==1]['MentHlth'],0.25),\n",
    "                                      np.quantile(hd_data['MentHlth'],0.25)],\n",
    "                                '50%':[np.quantile(hd_data[hd_data['HeartDiseaseorAttack']==0]['MentHlth'],0.5),\n",
    "                                      np.quantile(hd_data[hd_data['HeartDiseaseorAttack']==1]['MentHlth'],0.5),\n",
    "                                      np.quantile(hd_data['MentHlth'],0.5)],\n",
    "                                '75%':[np.quantile(hd_data[hd_data['HeartDiseaseorAttack']==0]['MentHlth'],0.75),\n",
    "                                      np.quantile(hd_data[hd_data['HeartDiseaseorAttack']==1]['MentHlth'],0.75),\n",
    "                                      np.quantile(hd_data['MentHlth'],0.75)]})\n",
    "M_h_d_quantile"
   ]
  },
  {
   "cell_type": "code",
   "execution_count": 14,
   "metadata": {},
   "outputs": [
    {
     "data": {
      "text/plain": [
       "Text(0.5, 0, '[12.0, 13.0, 14.0, 15.0, 16.0, 17.0, 18.0, 19.0, 20.0, 21.0, 22.0, 23.0, 24.0, 25.0, 26.0, 27.0, 28.0, 29.0, 30.0, 31.0, 32.0, 33.0, 34.0, 35.0, 36.0, 37.0, 38.0, 39.0, 40.0, 41.0, 42.0, 43.0, 44.0, 45.0, 46.0, 47.0, 48.0, 49.0, 50.0, 51.0, 52.0, 53.0, 54.0, 55.0, 56.0, 57.0, 58.0, 59.0, 60.0, 61.0, 62.0, 63.0, 64.0, 65.0, 66.0, 67.0, 68.0, 69.0, 70.0, 71.0, 72.0, 73.0, 74.0, 75.0, 76.0, 77.0, 78.0, 79.0, 80.0, 81.0, 82.0, 83.0, 84.0, 85.0, 86.0, 87.0, 88.0, 89.0, 90.0, 91.0, 92.0, 95.0, 96.0, 98.0]')"
      ]
     },
     "execution_count": 14,
     "metadata": {},
     "output_type": "execute_result"
    },
    {
     "data": {
      "image/png": "[encoded data removed]",
      "text/plain": [
       "<Figure size 2160x432 with 1 Axes>"
      ]
     },
     "metadata": {},
     "output_type": "display_data"
    }
   ],
   "source": [
    "# BMI ratio plot\n",
    "bmi_ratio = []\n",
    "BMI_list = sorted(hd_data['BMI'].unique())\n",
    "for i in BMI_list:\n",
    "    value = sum(hd_data[hd_data['HeartDiseaseorAttack']==1]['BMI']==i)/sum(hd_data['BMI']==i)\n",
    "    bmi_ratio.append(value)\n",
    "plt.plot(bmi_ratio)\n",
    "plt.xlabel(BMI_list)"
   ]
  },
  {
   "cell_type": "code",
   "execution_count": 15,
   "metadata": {},
   "outputs": [
    {
     "data": {
      "text/plain": [
       "[<matplotlib.lines.Line2D at 0x7fa24ef5d7f0>]"
      ]
     },
     "execution_count": 15,
     "metadata": {},
     "output_type": "execute_result"
    },
    {
     "data": {
      "image/png": "[encoded data removed]",
      "text/plain": [
       "<Figure size 2160x432 with 1 Axes>"
      ]
     },
     "metadata": {},
     "output_type": "display_data"
    }
   ],
   "source": [
    "# General health ratio plot\n",
    "gh_ratio = []\n",
    "for i in range(1,6):\n",
    "    value = sum(hd_data[hd_data['HeartDiseaseorAttack']==1]['GenHlth']==i)/sum(hd_data['GenHlth']==i)\n",
    "    gh_ratio.append(value)\n",
    "plt.plot(gh_ratio)"
   ]
  },
  {
   "cell_type": "code",
   "execution_count": 16,
   "metadata": {},
   "outputs": [
    {
     "data": {
      "text/plain": [
       "[<matplotlib.lines.Line2D at 0x7fa24f0558e0>]"
      ]
     },
     "execution_count": 16,
     "metadata": {},
     "output_type": "execute_result"
    },
    {
     "data": {
      "image/png": "[encoded data removed]",
      "text/plain": [
       "<Figure size 2160x432 with 1 Axes>"
      ]
     },
     "metadata": {},
     "output_type": "display_data"
    }
   ],
   "source": [
    "# Physical health ratio plot\n",
    "ph_ratio = []\n",
    "for i in range(1,31):\n",
    "    value = sum(hd_data[hd_data['HeartDiseaseorAttack']==1]['PhysHlth']==i)/sum(hd_data['PhysHlth']==i)\n",
    "    ph_ratio.append(value)\n",
    "plt.plot(ph_ratio)"
   ]
  },
  {
   "cell_type": "code",
   "execution_count": 17,
   "metadata": {},
   "outputs": [
    {
     "data": {
      "text/plain": [
       "[<matplotlib.lines.Line2D at 0x7fa24eff9640>]"
      ]
     },
     "execution_count": 17,
     "metadata": {},
     "output_type": "execute_result"
    },
    {
     "data": {
      "image/png": "[encoded data removed]",
      "text/plain": [
       "<Figure size 2160x432 with 1 Axes>"
      ]
     },
     "metadata": {},
     "output_type": "display_data"
    }
   ],
   "source": [
    "# Mental health ratio plot\n",
    "mh_ratio = []\n",
    "for i in range(1,31):\n",
    "    value = sum(hd_data[hd_data['HeartDiseaseorAttack']==1]['MentHlth']==i)/sum(hd_data['MentHlth']==i)\n",
    "    mh_ratio.append(value)\n",
    "plt.plot(mh_ratio)"
   ]
  },
  {
   "cell_type": "code",
   "execution_count": 18,
   "metadata": {},
   "outputs": [
    {
     "data": {
      "text/plain": [
       "[<matplotlib.lines.Line2D at 0x7fa253e18460>]"
      ]
     },
     "execution_count": 18,
     "metadata": {},
     "output_type": "execute_result"
    },
    {
     "data": {
      "image/png": "[encoded data removed]",
      "text/plain": [
       "<Figure size 2160x432 with 1 Axes>"
      ]
     },
     "metadata": {},
     "output_type": "display_data"
    }
   ],
   "source": [
    "# Age ratio plot\n",
    "age_ratio = []\n",
    "for i in range(1,14):\n",
    "    value = sum(hd_data[hd_data['HeartDiseaseorAttack']==1]['Age']==i)/sum(hd_data['Age']==i)\n",
    "    age_ratio.append(value)\n",
    "plt.plot(age_ratio)"
   ]
  },
  {
   "cell_type": "code",
   "execution_count": 19,
   "metadata": {},
   "outputs": [
    {
     "data": {
      "text/plain": [
       "[<matplotlib.lines.Line2D at 0x7fa24f24db50>]"
      ]
     },
     "execution_count": 19,
     "metadata": {},
     "output_type": "execute_result"
    },
    {
     "data": {
      "image/png": "[encoded data removed]",
      "text/plain": [
       "<Figure size 2160x432 with 1 Axes>"
      ]
     },
     "metadata": {},
     "output_type": "display_data"
    }
   ],
   "source": [
    "# income ratio plot\n",
    "Income_ratio = []\n",
    "for i in range(1,9):\n",
    "    value = sum(hd_data[hd_data['HeartDiseaseorAttack']==1]['Income']==i)/sum(hd_data['Income']==i)\n",
    "    Income_ratio.append(value)\n",
    "plt.plot(Income_ratio)"
   ]
  },
  {
   "cell_type": "code",
   "execution_count": 20,
   "metadata": {},
   "outputs": [
    {
     "data": {
      "text/plain": [
       "[<matplotlib.lines.Line2D at 0x7fa24effe040>]"
      ]
     },
     "execution_count": 20,
     "metadata": {},
     "output_type": "execute_result"
    },
    {
     "data": {
      "image/png": "[encoded data removed]",
      "text/plain": [
       "<Figure size 2160x432 with 1 Axes>"
      ]
     },
     "metadata": {},
     "output_type": "display_data"
    }
   ],
   "source": [
    "# Education ratio plot\n",
    "Education_ratio = []\n",
    "for i in range(1,7):\n",
    "    value = sum(hd_data[hd_data['HeartDiseaseorAttack']==1]['Education']==i)/sum(hd_data['Education']==i)\n",
    "    Education_ratio.append(value)\n",
    "plt.plot(Education_ratio)"
   ]
  },
  {
   "cell_type": "code",
   "execution_count": 21,
   "metadata": {},
   "outputs": [
    {
     "data": {
      "text/html": [
       "<div>\n",
       "<style scoped>\n",
       "    .dataframe tbody tr th:only-of-type {\n",
       "        vertical-align: middle;\n",
       "    }\n",
       "\n",
       "    .dataframe tbody tr th {\n",
       "        vertical-align: top;\n",
       "    }\n",
       "\n",
       "    .dataframe thead th {\n",
       "        text-align: right;\n",
       "    }\n",
       "</style>\n",
       "<table border=\"1\" class=\"dataframe\">\n",
       "  <thead>\n",
       "    <tr style=\"text-align: right;\">\n",
       "      <th></th>\n",
       "      <th>Data</th>\n",
       "      <th>Get disease Without that problem</th>\n",
       "      <th>Get disease With that problem</th>\n",
       "    </tr>\n",
       "  </thead>\n",
       "  <tbody>\n",
       "    <tr>\n",
       "      <th>0</th>\n",
       "      <td>HighBP</td>\n",
       "      <td>0.041180</td>\n",
       "      <td>0.164736</td>\n",
       "    </tr>\n",
       "    <tr>\n",
       "      <th>1</th>\n",
       "      <td>HighChol</td>\n",
       "      <td>0.048874</td>\n",
       "      <td>0.155710</td>\n",
       "    </tr>\n",
       "    <tr>\n",
       "      <th>2</th>\n",
       "      <td>Smoker</td>\n",
       "      <td>0.064365</td>\n",
       "      <td>0.131655</td>\n",
       "    </tr>\n",
       "    <tr>\n",
       "      <th>3</th>\n",
       "      <td>Stroke</td>\n",
       "      <td>0.081993</td>\n",
       "      <td>0.382530</td>\n",
       "    </tr>\n",
       "    <tr>\n",
       "      <th>4</th>\n",
       "      <td>Physical Activity</td>\n",
       "      <td>0.139135</td>\n",
       "      <td>0.079721</td>\n",
       "    </tr>\n",
       "    <tr>\n",
       "      <th>5</th>\n",
       "      <td>heavy Alcohol Consumption</td>\n",
       "      <td>0.096252</td>\n",
       "      <td>0.059484</td>\n",
       "    </tr>\n",
       "    <tr>\n",
       "      <th>6</th>\n",
       "      <td>health care</td>\n",
       "      <td>0.070065</td>\n",
       "      <td>0.095427</td>\n",
       "    </tr>\n",
       "    <tr>\n",
       "      <th>7</th>\n",
       "      <td>should visit doctor but no</td>\n",
       "      <td>0.091440</td>\n",
       "      <td>0.124052</td>\n",
       "    </tr>\n",
       "    <tr>\n",
       "      <th>8</th>\n",
       "      <td>Difficult walk</td>\n",
       "      <td>0.066245</td>\n",
       "      <td>0.232337</td>\n",
       "    </tr>\n",
       "  </tbody>\n",
       "</table>\n",
       "</div>"
      ],
      "text/plain": [
       "                         Data  Get disease Without that problem  \\\n",
       "0                      HighBP                          0.041180   \n",
       "1                    HighChol                          0.048874   \n",
       "2                      Smoker                          0.064365   \n",
       "3                      Stroke                          0.081993   \n",
       "4           Physical Activity                          0.139135   \n",
       "5   heavy Alcohol Consumption                          0.096252   \n",
       "6                 health care                          0.070065   \n",
       "7  should visit doctor but no                          0.091440   \n",
       "8              Difficult walk                          0.066245   \n",
       "\n",
       "   Get disease With that problem  \n",
       "0                       0.164736  \n",
       "1                       0.155710  \n",
       "2                       0.131655  \n",
       "3                       0.382530  \n",
       "4                       0.079721  \n",
       "5                       0.059484  \n",
       "6                       0.095427  \n",
       "7                       0.124052  \n",
       "8                       0.232337  "
      ]
     },
     "execution_count": 21,
     "metadata": {},
     "output_type": "execute_result"
    }
   ],
   "source": [
    "# heart disease ratio for indicator or not for binary variable\n",
    "highBP_ratio = []\n",
    "highChol_ratio = []\n",
    "Smoker_ratio = []\n",
    "Stroke_ratio = []\n",
    "PhysActivity_ratio = []\n",
    "HvyAlcoholConsump_Ratio = []\n",
    "AnyHealthcare_ratio = []\n",
    "NoDocbcCost_ratio = []\n",
    "DiffWalk_ratio = []\n",
    "\n",
    "for i in range(0,2):\n",
    "    highBP_ratio.append(sum(hd_data[hd_data['HeartDiseaseorAttack']==1]['HighBP']==i)/sum(hd_data['HighBP']==i))\n",
    "    highChol_ratio.append(sum(hd_data[hd_data['HeartDiseaseorAttack']==1]['HighChol']==i)/sum(hd_data['HighChol']==i))\n",
    "    Smoker_ratio.append(sum(hd_data[hd_data['HeartDiseaseorAttack']==1]['Smoker']==i)/sum(hd_data['Smoker']==i))\n",
    "    Stroke_ratio.append(sum(hd_data[hd_data['HeartDiseaseorAttack']==1]['Stroke']==i)/sum(hd_data['Stroke']==i))\n",
    "    PhysActivity_ratio.append(sum(hd_data[hd_data['HeartDiseaseorAttack']==1]['PhysActivity']==i)/sum(hd_data['PhysActivity']==i))\n",
    "    HvyAlcoholConsump_Ratio.append(sum(hd_data[hd_data['HeartDiseaseorAttack']==1]['HvyAlcoholConsump']==i)/sum(hd_data['HvyAlcoholConsump']==i))\n",
    "    AnyHealthcare_ratio.append(sum(hd_data[hd_data['HeartDiseaseorAttack']==1]['AnyHealthcare']==i)/sum(hd_data['AnyHealthcare']==i))\n",
    "    NoDocbcCost_ratio.append(sum(hd_data[hd_data['HeartDiseaseorAttack']==1]['NoDocbcCost']==i)/sum(hd_data['NoDocbcCost']==i))\n",
    "    DiffWalk_ratio.append(sum(hd_data[hd_data['HeartDiseaseorAttack']==1]['DiffWalk']==i)/sum(hd_data['DiffWalk']==i))\n",
    "    \n",
    "ratios = pd.DataFrame({'Data':['HighBP','HighChol',\n",
    "                                                     'Smoker','Stroke', 'Physical Activity', 'heavy Alcohol Consumption',\n",
    "                              'health care','should visit doctor but no','Difficult walk'],\n",
    "                                'Get disease Without that problem':[highBP_ratio[0],highChol_ratio[0],Smoker_ratio[0],Stroke_ratio[0],PhysActivity_ratio[0],HvyAlcoholConsump_Ratio[0],\n",
    "                                AnyHealthcare_ratio[0],NoDocbcCost_ratio[0],DiffWalk_ratio[0]],\n",
    "                                'Get disease With that problem':[highBP_ratio[1],highChol_ratio[1],Smoker_ratio[1],Stroke_ratio[1],PhysActivity_ratio[1],HvyAlcoholConsump_Ratio[1],\n",
    "                                AnyHealthcare_ratio[1],NoDocbcCost_ratio[1],DiffWalk_ratio[1]]})\n",
    "ratios"
   ]
  },
  {
   "cell_type": "markdown",
   "metadata": {},
   "source": [
    "# Feature Selection"
   ]
  },
  {
   "cell_type": "code",
   "execution_count": 22,
   "metadata": {},
   "outputs": [],
   "source": [
    "from scipy.stats import entropy"
   ]
  },
  {
   "cell_type": "markdown",
   "metadata": {},
   "source": [
    " "
   ]
  },
  {
   "cell_type": "markdown",
   "metadata": {},
   "source": [
    "## HighChol"
   ]
  },
  {
   "cell_type": "code",
   "execution_count": 23,
   "metadata": {},
   "outputs": [
    {
     "data": {
      "text/html": [
       "<div>\n",
       "<style scoped>\n",
       "    .dataframe tbody tr th:only-of-type {\n",
       "        vertical-align: middle;\n",
       "    }\n",
       "\n",
       "    .dataframe tbody tr th {\n",
       "        vertical-align: top;\n",
       "    }\n",
       "\n",
       "    .dataframe thead th {\n",
       "        text-align: right;\n",
       "    }\n",
       "</style>\n",
       "<table border=\"1\" class=\"dataframe\">\n",
       "  <thead>\n",
       "    <tr style=\"text-align: right;\">\n",
       "      <th>HighChol</th>\n",
       "      <th>0.0</th>\n",
       "      <th>1.0</th>\n",
       "    </tr>\n",
       "    <tr>\n",
       "      <th>HeartDiseaseorAttack</th>\n",
       "      <th></th>\n",
       "      <th></th>\n",
       "    </tr>\n",
       "  </thead>\n",
       "  <tbody>\n",
       "    <tr>\n",
       "      <th>0.0</th>\n",
       "      <td>138949</td>\n",
       "      <td>90838</td>\n",
       "    </tr>\n",
       "    <tr>\n",
       "      <th>1.0</th>\n",
       "      <td>7140</td>\n",
       "      <td>16753</td>\n",
       "    </tr>\n",
       "  </tbody>\n",
       "</table>\n",
       "</div>"
      ],
      "text/plain": [
       "HighChol                 0.0    1.0\n",
       "HeartDiseaseorAttack               \n",
       "0.0                   138949  90838\n",
       "1.0                     7140  16753"
      ]
     },
     "execution_count": 23,
     "metadata": {},
     "output_type": "execute_result"
    }
   ],
   "source": [
    "ct_heart_highchol = pd.crosstab(hd_data['HeartDiseaseorAttack'], hd_data['HighChol'])\n",
    "ct_heart_highchol"
   ]
  },
  {
   "cell_type": "code",
   "execution_count": 24,
   "metadata": {},
   "outputs": [
    {
     "name": "stdout",
     "output_type": "stream",
     "text": [
      "0.4502885680686082 0.6239471323185629 0.28159575267038583 0.42679414153717476 0.02349442653143341\n"
     ]
    }
   ],
   "source": [
    "import math\n",
    "# entropy:\n",
    "s0,s1 = ct_heart_highchol.sum(axis=1)\n",
    "s2,s3 = ct_heart_highchol.sum(axis=0)\n",
    "# Entropy of getting heart disease\n",
    "E_hd = -s0/len(hd_data)*math.log2(s0/len(hd_data))-s1/len(hd_data)*math.log2(s1/len(hd_data))\n",
    "# Entropy for high chol:\n",
    "E_HC = -ct_heart_highchol[1][0]/s3*math.log2(ct_heart_highchol[1][0]/s3)-ct_heart_highchol[1][1]/s3*math.log2(ct_heart_highchol[1][1]/s3)\n",
    "# Entropy for normal chol:\n",
    "E_NC = -ct_heart_highchol[0][0]/s2*math.log2(ct_heart_highchol[0][0]/s2)-ct_heart_highchol[0][1]/s2*math.log2(ct_heart_highchol[0][1]/s2)\n",
    "# E(heart disease|chol):\n",
    "E = s3/len(hd_data)*E_HC + s2/len(hd_data)*E_NC\n",
    "print(E_hd,E_HC,E_NC,E,E_hd-E)"
   ]
  },
  {
   "cell_type": "code",
   "execution_count": 25,
   "metadata": {},
   "outputs": [
    {
     "data": {
      "image/png": "[encoded data removed]",
      "text/plain": [
       "<Figure size 2160x432 with 1 Axes>"
      ]
     },
     "metadata": {},
     "output_type": "display_data"
    }
   ],
   "source": [
    "sns.barplot(x = 'HighChol', y = 'HeartDiseaseorAttack', data = hd_data)\n",
    "sns.set(rc = {'figure.figsize':(15,10)})"
   ]
  },
  {
   "cell_type": "code",
   "execution_count": 26,
   "metadata": {},
   "outputs": [
    {
     "data": {
      "text/html": [
       "<div>\n",
       "<style scoped>\n",
       "    .dataframe tbody tr th:only-of-type {\n",
       "        vertical-align: middle;\n",
       "    }\n",
       "\n",
       "    .dataframe tbody tr th {\n",
       "        vertical-align: top;\n",
       "    }\n",
       "\n",
       "    .dataframe thead th {\n",
       "        text-align: right;\n",
       "    }\n",
       "</style>\n",
       "<table border=\"1\" class=\"dataframe\">\n",
       "  <thead>\n",
       "    <tr style=\"text-align: right;\">\n",
       "      <th>HighChol</th>\n",
       "      <th>0.0</th>\n",
       "      <th>1.0</th>\n",
       "      <th>Total</th>\n",
       "    </tr>\n",
       "    <tr>\n",
       "      <th>HeartDiseaseorAttack</th>\n",
       "      <th></th>\n",
       "      <th></th>\n",
       "      <th></th>\n",
       "    </tr>\n",
       "  </thead>\n",
       "  <tbody>\n",
       "    <tr>\n",
       "      <th>0.0</th>\n",
       "      <td>138949</td>\n",
       "      <td>90838</td>\n",
       "      <td>229787</td>\n",
       "    </tr>\n",
       "    <tr>\n",
       "      <th>1.0</th>\n",
       "      <td>7140</td>\n",
       "      <td>16753</td>\n",
       "      <td>23893</td>\n",
       "    </tr>\n",
       "    <tr>\n",
       "      <th>Total</th>\n",
       "      <td>146089</td>\n",
       "      <td>107591</td>\n",
       "      <td>253680</td>\n",
       "    </tr>\n",
       "  </tbody>\n",
       "</table>\n",
       "</div>"
      ],
      "text/plain": [
       "HighChol                 0.0     1.0   Total\n",
       "HeartDiseaseorAttack                        \n",
       "0.0                   138949   90838  229787\n",
       "1.0                     7140   16753   23893\n",
       "Total                 146089  107591  253680"
      ]
     },
     "execution_count": 26,
     "metadata": {},
     "output_type": "execute_result"
    }
   ],
   "source": [
    "## contigency table with the column total\n",
    "ct_heart_highchol.loc[:,'Total']= ct_heart_highchol.sum(axis=1)\n",
    "ct_heart_highchol.loc['Total']= ct_heart_highchol.sum()\n",
    "ct_heart_highchol"
   ]
  },
  {
   "cell_type": "code",
   "execution_count": 27,
   "metadata": {},
   "outputs": [
    {
     "data": {
      "text/html": [
       "<div>\n",
       "<style scoped>\n",
       "    .dataframe tbody tr th:only-of-type {\n",
       "        vertical-align: middle;\n",
       "    }\n",
       "\n",
       "    .dataframe tbody tr th {\n",
       "        vertical-align: top;\n",
       "    }\n",
       "\n",
       "    .dataframe thead th {\n",
       "        text-align: right;\n",
       "    }\n",
       "</style>\n",
       "<table border=\"1\" class=\"dataframe\">\n",
       "  <thead>\n",
       "    <tr style=\"text-align: right;\">\n",
       "      <th>HighChol</th>\n",
       "      <th>0.0</th>\n",
       "      <th>1.0</th>\n",
       "      <th>Total</th>\n",
       "    </tr>\n",
       "    <tr>\n",
       "      <th>HeartDiseaseorAttack</th>\n",
       "      <th></th>\n",
       "      <th></th>\n",
       "      <th></th>\n",
       "    </tr>\n",
       "  </thead>\n",
       "  <tbody>\n",
       "    <tr>\n",
       "      <th>0.0</th>\n",
       "      <td>132329.521614</td>\n",
       "      <td>97457.478386</td>\n",
       "      <td>229787.0</td>\n",
       "    </tr>\n",
       "    <tr>\n",
       "      <th>1.0</th>\n",
       "      <td>13759.478386</td>\n",
       "      <td>10133.521614</td>\n",
       "      <td>23893.0</td>\n",
       "    </tr>\n",
       "    <tr>\n",
       "      <th>Total</th>\n",
       "      <td>146089.000000</td>\n",
       "      <td>107591.000000</td>\n",
       "      <td>253680.0</td>\n",
       "    </tr>\n",
       "  </tbody>\n",
       "</table>\n",
       "</div>"
      ],
      "text/plain": [
       "HighChol                        0.0            1.0     Total\n",
       "HeartDiseaseorAttack                                        \n",
       "0.0                   132329.521614   97457.478386  229787.0\n",
       "1.0                    13759.478386   10133.521614   23893.0\n",
       "Total                 146089.000000  107591.000000  253680.0"
      ]
     },
     "execution_count": 27,
     "metadata": {},
     "output_type": "execute_result"
    }
   ],
   "source": [
    "## exped values of the values in contigency table\n",
    "ct_exp1 = ct_heart_highchol.copy()\n",
    "ct_exp1.iloc[:,:] = np.multiply.outer(\n",
    "ct_exp1.sum(1).values,ct_heart_highchol.sum().values)/ct_heart_highchol.sum().sum()\n",
    "ct_exp1"
   ]
  },
  {
   "cell_type": "code",
   "execution_count": 28,
   "metadata": {},
   "outputs": [
    {
     "data": {
      "text/plain": [
       "8289.276479912223"
      ]
     },
     "execution_count": 28,
     "metadata": {},
     "output_type": "execute_result"
    }
   ],
   "source": [
    "## calculating the \n",
    "ct_chi_1 = ((ct_heart_highchol - ct_exp1)**2) / ct_exp1    \n",
    "chi_square_1 = ct_chi_1.iloc[:-1,:-1].sum().sum()\n",
    "chi_square_1"
   ]
  },
  {
   "cell_type": "code",
   "execution_count": 29,
   "metadata": {},
   "outputs": [
    {
     "data": {
      "text/plain": [
       "0.0"
      ]
     },
     "execution_count": 29,
     "metadata": {},
     "output_type": "execute_result"
    }
   ],
   "source": [
    "p_value1 = stats.distributions.chi2.sf(chi_square_1, 1)\n",
    "p_value1"
   ]
  },
  {
   "cell_type": "code",
   "execution_count": 30,
   "metadata": {},
   "outputs": [],
   "source": [
    "## the p-value = 0, so HighBP and HighChol are correlated"
   ]
  },
  {
   "cell_type": "markdown",
   "metadata": {},
   "source": [
    "## HighBP"
   ]
  },
  {
   "cell_type": "code",
   "execution_count": 31,
   "metadata": {},
   "outputs": [
    {
     "data": {
      "text/html": [
       "<div>\n",
       "<style scoped>\n",
       "    .dataframe tbody tr th:only-of-type {\n",
       "        vertical-align: middle;\n",
       "    }\n",
       "\n",
       "    .dataframe tbody tr th {\n",
       "        vertical-align: top;\n",
       "    }\n",
       "\n",
       "    .dataframe thead th {\n",
       "        text-align: right;\n",
       "    }\n",
       "</style>\n",
       "<table border=\"1\" class=\"dataframe\">\n",
       "  <thead>\n",
       "    <tr style=\"text-align: right;\">\n",
       "      <th>HighBP</th>\n",
       "      <th>0.0</th>\n",
       "      <th>1.0</th>\n",
       "    </tr>\n",
       "    <tr>\n",
       "      <th>HeartDiseaseorAttack</th>\n",
       "      <th></th>\n",
       "      <th></th>\n",
       "    </tr>\n",
       "  </thead>\n",
       "  <tbody>\n",
       "    <tr>\n",
       "      <th>0.0</th>\n",
       "      <td>138886</td>\n",
       "      <td>90901</td>\n",
       "    </tr>\n",
       "    <tr>\n",
       "      <th>1.0</th>\n",
       "      <td>5965</td>\n",
       "      <td>17928</td>\n",
       "    </tr>\n",
       "  </tbody>\n",
       "</table>\n",
       "</div>"
      ],
      "text/plain": [
       "HighBP                   0.0    1.0\n",
       "HeartDiseaseorAttack               \n",
       "0.0                   138886  90901\n",
       "1.0                     5965  17928"
      ]
     },
     "execution_count": 31,
     "metadata": {},
     "output_type": "execute_result"
    }
   ],
   "source": [
    "ct_heart_highBP = pd.crosstab(hd_data['HeartDiseaseorAttack'], hd_data['HighBP'])\n",
    "ct_heart_highBP"
   ]
  },
  {
   "cell_type": "code",
   "execution_count": 32,
   "metadata": {},
   "outputs": [
    {
     "name": "stdout",
     "output_type": "stream",
     "text": [
      "0.4502885680686082 0.6455189676977898 0.24767765437672842 0.4183520169099112 0.03193655115869698\n"
     ]
    }
   ],
   "source": [
    "# entropy:\n",
    "s0,s1 = ct_heart_highBP.sum(axis=1)\n",
    "s2,s3 = ct_heart_highBP.sum(axis=0)\n",
    "# Entropy of getting heart disease\n",
    "E_hd = -s0/len(hd_data)*math.log2(s0/len(hd_data))-s1/len(hd_data)*math.log2(s1/len(hd_data))\n",
    "# Entropy for high BP:\n",
    "E_HBP = -ct_heart_highBP[1][0]/s3*math.log2(ct_heart_highBP[1][0]/s3)-ct_heart_highBP[1][1]/s3*math.log2(ct_heart_highBP[1][1]/s3)\n",
    "# Entropy for normal BP:\n",
    "E_NBP = -ct_heart_highBP[0][0]/s2*math.log2(ct_heart_highBP[0][0]/s2)-ct_heart_highBP[0][1]/s2*math.log2(ct_heart_highBP[0][1]/s2)\n",
    "# E(heart disease|BP):\n",
    "E = s3/len(hd_data)*E_HBP + s2/len(hd_data)*E_NBP\n",
    "print(E_hd,E_HBP,E_NBP,E,E_hd-E)"
   ]
  },
  {
   "cell_type": "code",
   "execution_count": 33,
   "metadata": {},
   "outputs": [
    {
     "data": {
      "image/png": "[encoded data removed]",
      "text/plain": [
       "<Figure size 1080x720 with 1 Axes>"
      ]
     },
     "metadata": {},
     "output_type": "display_data"
    }
   ],
   "source": [
    "sns.barplot(x = 'HighBP', y = 'HeartDiseaseorAttack', data = hd_data)\n",
    "sns.set(rc = {'figure.figsize':(15,10)})"
   ]
  },
  {
   "cell_type": "code",
   "execution_count": 34,
   "metadata": {},
   "outputs": [
    {
     "data": {
      "text/html": [
       "<div>\n",
       "<style scoped>\n",
       "    .dataframe tbody tr th:only-of-type {\n",
       "        vertical-align: middle;\n",
       "    }\n",
       "\n",
       "    .dataframe tbody tr th {\n",
       "        vertical-align: top;\n",
       "    }\n",
       "\n",
       "    .dataframe thead th {\n",
       "        text-align: right;\n",
       "    }\n",
       "</style>\n",
       "<table border=\"1\" class=\"dataframe\">\n",
       "  <thead>\n",
       "    <tr style=\"text-align: right;\">\n",
       "      <th>HighBP</th>\n",
       "      <th>0.0</th>\n",
       "      <th>1.0</th>\n",
       "      <th>Total</th>\n",
       "    </tr>\n",
       "    <tr>\n",
       "      <th>HeartDiseaseorAttack</th>\n",
       "      <th></th>\n",
       "      <th></th>\n",
       "      <th></th>\n",
       "    </tr>\n",
       "  </thead>\n",
       "  <tbody>\n",
       "    <tr>\n",
       "      <th>0.0</th>\n",
       "      <td>138886</td>\n",
       "      <td>90901</td>\n",
       "      <td>229787</td>\n",
       "    </tr>\n",
       "    <tr>\n",
       "      <th>1.0</th>\n",
       "      <td>5965</td>\n",
       "      <td>17928</td>\n",
       "      <td>23893</td>\n",
       "    </tr>\n",
       "    <tr>\n",
       "      <th>Total</th>\n",
       "      <td>144851</td>\n",
       "      <td>108829</td>\n",
       "      <td>253680</td>\n",
       "    </tr>\n",
       "  </tbody>\n",
       "</table>\n",
       "</div>"
      ],
      "text/plain": [
       "HighBP                   0.0     1.0   Total\n",
       "HeartDiseaseorAttack                        \n",
       "0.0                   138886   90901  229787\n",
       "1.0                     5965   17928   23893\n",
       "Total                 144851  108829  253680"
      ]
     },
     "execution_count": 34,
     "metadata": {},
     "output_type": "execute_result"
    }
   ],
   "source": [
    "## contigency table with the column total\n",
    "ct_heart_highBP.loc[:,'Total']= ct_heart_highBP.sum(axis=1)\n",
    "ct_heart_highBP.loc['Total']= ct_heart_highBP.sum()\n",
    "ct_heart_highBP"
   ]
  },
  {
   "cell_type": "code",
   "execution_count": 35,
   "metadata": {},
   "outputs": [
    {
     "data": {
      "text/html": [
       "<div>\n",
       "<style scoped>\n",
       "    .dataframe tbody tr th:only-of-type {\n",
       "        vertical-align: middle;\n",
       "    }\n",
       "\n",
       "    .dataframe tbody tr th {\n",
       "        vertical-align: top;\n",
       "    }\n",
       "\n",
       "    .dataframe thead th {\n",
       "        text-align: right;\n",
       "    }\n",
       "</style>\n",
       "<table border=\"1\" class=\"dataframe\">\n",
       "  <thead>\n",
       "    <tr style=\"text-align: right;\">\n",
       "      <th>HighBP</th>\n",
       "      <th>0.0</th>\n",
       "      <th>1.0</th>\n",
       "      <th>Total</th>\n",
       "    </tr>\n",
       "    <tr>\n",
       "      <th>HeartDiseaseorAttack</th>\n",
       "      <th></th>\n",
       "      <th></th>\n",
       "      <th></th>\n",
       "    </tr>\n",
       "  </thead>\n",
       "  <tbody>\n",
       "    <tr>\n",
       "      <th>0.0</th>\n",
       "      <td>131208.123372</td>\n",
       "      <td>98578.876628</td>\n",
       "      <td>229787.0</td>\n",
       "    </tr>\n",
       "    <tr>\n",
       "      <th>1.0</th>\n",
       "      <td>13642.876628</td>\n",
       "      <td>10250.123372</td>\n",
       "      <td>23893.0</td>\n",
       "    </tr>\n",
       "    <tr>\n",
       "      <th>Total</th>\n",
       "      <td>144851.000000</td>\n",
       "      <td>108829.000000</td>\n",
       "      <td>253680.0</td>\n",
       "    </tr>\n",
       "  </tbody>\n",
       "</table>\n",
       "</div>"
      ],
      "text/plain": [
       "HighBP                          0.0            1.0     Total\n",
       "HeartDiseaseorAttack                                        \n",
       "0.0                   131208.123372   98578.876628  229787.0\n",
       "1.0                    13642.876628   10250.123372   23893.0\n",
       "Total                 144851.000000  108829.000000  253680.0"
      ]
     },
     "execution_count": 35,
     "metadata": {},
     "output_type": "execute_result"
    }
   ],
   "source": [
    "## exped values of the values in contigency table\n",
    "ct_exp2 = ct_heart_highBP.copy()\n",
    "ct_exp2.iloc[:,:] = np.multiply.outer(\n",
    "ct_exp2.sum(1).values,ct_heart_highBP.sum().values)/ct_heart_highBP.sum().sum()\n",
    "ct_exp2"
   ]
  },
  {
   "cell_type": "code",
   "execution_count": 36,
   "metadata": {},
   "outputs": [
    {
     "data": {
      "text/plain": [
       "11119.331324272523"
      ]
     },
     "execution_count": 36,
     "metadata": {},
     "output_type": "execute_result"
    }
   ],
   "source": [
    "## calculating the \n",
    "ct_chi_2 = ((ct_heart_highBP - ct_exp2)**2) / ct_exp2    \n",
    "chi_square_2 = ct_chi_2.iloc[:-1,:-1].sum().sum()\n",
    "chi_square_2"
   ]
  },
  {
   "cell_type": "code",
   "execution_count": 37,
   "metadata": {},
   "outputs": [
    {
     "data": {
      "text/plain": [
       "0.0"
      ]
     },
     "execution_count": 37,
     "metadata": {},
     "output_type": "execute_result"
    }
   ],
   "source": [
    "p_value2 = stats.distributions.chi2.sf(chi_square_2, 1)\n",
    "p_value2"
   ]
  },
  {
   "cell_type": "markdown",
   "metadata": {},
   "source": [
    "## Smoker"
   ]
  },
  {
   "cell_type": "code",
   "execution_count": 38,
   "metadata": {},
   "outputs": [
    {
     "data": {
      "text/html": [
       "<div>\n",
       "<style scoped>\n",
       "    .dataframe tbody tr th:only-of-type {\n",
       "        vertical-align: middle;\n",
       "    }\n",
       "\n",
       "    .dataframe tbody tr th {\n",
       "        vertical-align: top;\n",
       "    }\n",
       "\n",
       "    .dataframe thead th {\n",
       "        text-align: right;\n",
       "    }\n",
       "</style>\n",
       "<table border=\"1\" class=\"dataframe\">\n",
       "  <thead>\n",
       "    <tr style=\"text-align: right;\">\n",
       "      <th>Smoker</th>\n",
       "      <th>0.0</th>\n",
       "      <th>1.0</th>\n",
       "    </tr>\n",
       "    <tr>\n",
       "      <th>HeartDiseaseorAttack</th>\n",
       "      <th></th>\n",
       "      <th></th>\n",
       "    </tr>\n",
       "  </thead>\n",
       "  <tbody>\n",
       "    <tr>\n",
       "      <th>0.0</th>\n",
       "      <td>132165</td>\n",
       "      <td>97622</td>\n",
       "    </tr>\n",
       "    <tr>\n",
       "      <th>1.0</th>\n",
       "      <td>9092</td>\n",
       "      <td>14801</td>\n",
       "    </tr>\n",
       "  </tbody>\n",
       "</table>\n",
       "</div>"
      ],
      "text/plain": [
       "Smoker                   0.0    1.0\n",
       "HeartDiseaseorAttack               \n",
       "0.0                   132165  97622\n",
       "1.0                     9092  14801"
      ]
     },
     "execution_count": 38,
     "metadata": {},
     "output_type": "execute_result"
    }
   ],
   "source": [
    "ct_heart_smoke = pd.crosstab(hd_data['HeartDiseaseorAttack'], hd_data['Smoker'])\n",
    "ct_heart_smoke"
   ]
  },
  {
   "cell_type": "code",
   "execution_count": 39,
   "metadata": {},
   "outputs": [
    {
     "name": "stdout",
     "output_type": "stream",
     "text": [
      "0.4502885680686082 0.5619584100676687 0.3445338027979563 0.4408895526524299 0.009399015416178269\n"
     ]
    }
   ],
   "source": [
    "s0,s1 = ct_heart_smoke.sum(axis=1)\n",
    "s2,s3 = ct_heart_smoke.sum(axis=0)\n",
    "# Entropy of getting heart disease\n",
    "E_hd = -s0/len(hd_data)*math.log2(s0/len(hd_data))-s1/len(hd_data)*math.log2(s1/len(hd_data))\n",
    "# Entropy for high smoker:\n",
    "E_S = -ct_heart_smoke[1][0]/s3*math.log2(ct_heart_smoke[1][0]/s3)-ct_heart_smoke[1][1]/s3*math.log2(ct_heart_smoke[1][1]/s3)\n",
    "# Entropy for not smoker:\n",
    "E_NS = -ct_heart_smoke[0][0]/s2*math.log2(ct_heart_smoke[0][0]/s2)-ct_heart_smoke[0][1]/s2*math.log2(ct_heart_smoke[0][1]/s2)\n",
    "# E(heart disease|smoker):\n",
    "E = s3/len(hd_data)*E_S + s2/len(hd_data)*E_NS\n",
    "print(E_hd,E_S,E_NS,E,E_hd-E)"
   ]
  },
  {
   "cell_type": "code",
   "execution_count": 40,
   "metadata": {},
   "outputs": [
    {
     "data": {
      "image/png": "[encoded data removed]",
      "text/plain": [
       "<Figure size 1080x720 with 1 Axes>"
      ]
     },
     "metadata": {},
     "output_type": "display_data"
    }
   ],
   "source": [
    "sns.barplot(x = 'Smoker', y = 'HeartDiseaseorAttack', data = hd_data)\n",
    "sns.set(rc = {'figure.figsize':(15,10)})"
   ]
  },
  {
   "cell_type": "code",
   "execution_count": 41,
   "metadata": {},
   "outputs": [],
   "source": [
    "## After looking at the plot we can observe already that Stroke is \n",
    "## very associated with Heart disease even more than most of the previous variables we analyzed"
   ]
  },
  {
   "cell_type": "markdown",
   "metadata": {},
   "source": [
    "## Diabetes"
   ]
  },
  {
   "cell_type": "code",
   "execution_count": 42,
   "metadata": {},
   "outputs": [
    {
     "data": {
      "text/html": [
       "<div>\n",
       "<style scoped>\n",
       "    .dataframe tbody tr th:only-of-type {\n",
       "        vertical-align: middle;\n",
       "    }\n",
       "\n",
       "    .dataframe tbody tr th {\n",
       "        vertical-align: top;\n",
       "    }\n",
       "\n",
       "    .dataframe thead th {\n",
       "        text-align: right;\n",
       "    }\n",
       "</style>\n",
       "<table border=\"1\" class=\"dataframe\">\n",
       "  <thead>\n",
       "    <tr style=\"text-align: right;\">\n",
       "      <th>Diabetes</th>\n",
       "      <th>0.0</th>\n",
       "      <th>1.0</th>\n",
       "      <th>2.0</th>\n",
       "    </tr>\n",
       "    <tr>\n",
       "      <th>HeartDiseaseorAttack</th>\n",
       "      <th></th>\n",
       "      <th></th>\n",
       "      <th></th>\n",
       "    </tr>\n",
       "  </thead>\n",
       "  <tbody>\n",
       "    <tr>\n",
       "      <th>0.0</th>\n",
       "      <td>198352</td>\n",
       "      <td>3967</td>\n",
       "      <td>27468</td>\n",
       "    </tr>\n",
       "    <tr>\n",
       "      <th>1.0</th>\n",
       "      <td>15351</td>\n",
       "      <td>664</td>\n",
       "      <td>7878</td>\n",
       "    </tr>\n",
       "  </tbody>\n",
       "</table>\n",
       "</div>"
      ],
      "text/plain": [
       "Diabetes                 0.0   1.0    2.0\n",
       "HeartDiseaseorAttack                     \n",
       "0.0                   198352  3967  27468\n",
       "1.0                    15351   664   7878"
      ]
     },
     "execution_count": 42,
     "metadata": {},
     "output_type": "execute_result"
    }
   ],
   "source": [
    "ct_heart_diabetes = pd.crosstab(hd_data['HeartDiseaseorAttack'], hd_data['Diabetes'])\n",
    "ct_heart_diabetes"
   ]
  },
  {
   "cell_type": "code",
   "execution_count": 43,
   "metadata": {},
   "outputs": [
    {
     "data": {
      "text/plain": [
       "198352"
      ]
     },
     "execution_count": 43,
     "metadata": {},
     "output_type": "execute_result"
    }
   ],
   "source": [
    "ct_heart_diabetes[0][0]"
   ]
  },
  {
   "cell_type": "code",
   "execution_count": 44,
   "metadata": {},
   "outputs": [
    {
     "name": "stdout",
     "output_type": "stream",
     "text": [
      "0.4502885680686082 0.37272836513133445 0.5930267563474666 0.7653957975875452 0.4314615128659573 0.018827055202650878\n"
     ]
    }
   ],
   "source": [
    "s0,s1 = ct_heart_diabetes.sum(axis=1)\n",
    "s3,s4,s5 = ct_heart_diabetes.sum(axis=0)\n",
    "# Entropy of getting heart disease\n",
    "E_hd = -s0/len(hd_data)*math.log2(s0/len(hd_data))-s1/len(hd_data)*math.log2(s1/len(hd_data))\n",
    "# Entropy for diabetes 0 :\n",
    "E_d0 = -ct_heart_diabetes[0][0]/s3*math.log2(ct_heart_diabetes[0][0]/s3)-ct_heart_diabetes[0][1]/s3*math.log2(ct_heart_diabetes[0][1]/s3)\n",
    "# Entropy for diabetes 1 :\n",
    "E_d1 = -ct_heart_diabetes[1][0]/s4*math.log2(ct_heart_diabetes[1][0]/s4)-ct_heart_diabetes[1][1]/s4*math.log2(ct_heart_diabetes[1][1]/s4)\n",
    "# Entropy for diabetes 2 :\n",
    "E_d2 = -ct_heart_diabetes[2][0]/s5*math.log2(ct_heart_diabetes[2][0]/s5)-ct_heart_diabetes[2][1]/s5*math.log2(ct_heart_diabetes[2][1]/s5)\n",
    "# E(heart disease|diabetes):\n",
    "E = s3/len(hd_data)*E_d0 + s4/len(hd_data)*E_d1 + s5/len(hd_data)*E_d2\n",
    "print(E_hd,E_d0,E_d1,E_d2,E,E_hd-E)"
   ]
  },
  {
   "cell_type": "code",
   "execution_count": 45,
   "metadata": {},
   "outputs": [
    {
     "data": {
      "image/png": "[encoded data removed]",
      "text/plain": [
       "<Figure size 1080x720 with 1 Axes>"
      ]
     },
     "metadata": {},
     "output_type": "display_data"
    }
   ],
   "source": [
    "sns.barplot(x = 'Diabetes', y = 'HeartDiseaseorAttack', data = hd_data)\n",
    "sns.set(rc = {'figure.figsize':(15,10)})"
   ]
  },
  {
   "cell_type": "code",
   "execution_count": 46,
   "metadata": {},
   "outputs": [
    {
     "data": {
      "text/html": [
       "<div>\n",
       "<style scoped>\n",
       "    .dataframe tbody tr th:only-of-type {\n",
       "        vertical-align: middle;\n",
       "    }\n",
       "\n",
       "    .dataframe tbody tr th {\n",
       "        vertical-align: top;\n",
       "    }\n",
       "\n",
       "    .dataframe thead th {\n",
       "        text-align: right;\n",
       "    }\n",
       "</style>\n",
       "<table border=\"1\" class=\"dataframe\">\n",
       "  <thead>\n",
       "    <tr style=\"text-align: right;\">\n",
       "      <th>Diabetes</th>\n",
       "      <th>0.0</th>\n",
       "      <th>1.0</th>\n",
       "      <th>2.0</th>\n",
       "      <th>Total</th>\n",
       "    </tr>\n",
       "    <tr>\n",
       "      <th>HeartDiseaseorAttack</th>\n",
       "      <th></th>\n",
       "      <th></th>\n",
       "      <th></th>\n",
       "      <th></th>\n",
       "    </tr>\n",
       "  </thead>\n",
       "  <tbody>\n",
       "    <tr>\n",
       "      <th>0.0</th>\n",
       "      <td>198352</td>\n",
       "      <td>3967</td>\n",
       "      <td>27468</td>\n",
       "      <td>229787</td>\n",
       "    </tr>\n",
       "    <tr>\n",
       "      <th>1.0</th>\n",
       "      <td>15351</td>\n",
       "      <td>664</td>\n",
       "      <td>7878</td>\n",
       "      <td>23893</td>\n",
       "    </tr>\n",
       "    <tr>\n",
       "      <th>Total</th>\n",
       "      <td>213703</td>\n",
       "      <td>4631</td>\n",
       "      <td>35346</td>\n",
       "      <td>253680</td>\n",
       "    </tr>\n",
       "  </tbody>\n",
       "</table>\n",
       "</div>"
      ],
      "text/plain": [
       "Diabetes                 0.0   1.0    2.0   Total\n",
       "HeartDiseaseorAttack                             \n",
       "0.0                   198352  3967  27468  229787\n",
       "1.0                    15351   664   7878   23893\n",
       "Total                 213703  4631  35346  253680"
      ]
     },
     "execution_count": 46,
     "metadata": {},
     "output_type": "execute_result"
    }
   ],
   "source": [
    "## contigency table with the column total\n",
    "ct_heart_diabetes.loc[:,'Total']= ct_heart_diabetes.sum(axis=1)\n",
    "ct_heart_diabetes.loc['Total']= ct_heart_diabetes.sum()\n",
    "ct_heart_diabetes"
   ]
  },
  {
   "cell_type": "code",
   "execution_count": 47,
   "metadata": {},
   "outputs": [
    {
     "data": {
      "text/html": [
       "<div>\n",
       "<style scoped>\n",
       "    .dataframe tbody tr th:only-of-type {\n",
       "        vertical-align: middle;\n",
       "    }\n",
       "\n",
       "    .dataframe tbody tr th {\n",
       "        vertical-align: top;\n",
       "    }\n",
       "\n",
       "    .dataframe thead th {\n",
       "        text-align: right;\n",
       "    }\n",
       "</style>\n",
       "<table border=\"1\" class=\"dataframe\">\n",
       "  <thead>\n",
       "    <tr style=\"text-align: right;\">\n",
       "      <th>Diabetes</th>\n",
       "      <th>0.0</th>\n",
       "      <th>1.0</th>\n",
       "      <th>2.0</th>\n",
       "      <th>Total</th>\n",
       "    </tr>\n",
       "    <tr>\n",
       "      <th>HeartDiseaseorAttack</th>\n",
       "      <th></th>\n",
       "      <th></th>\n",
       "      <th></th>\n",
       "      <th></th>\n",
       "    </tr>\n",
       "  </thead>\n",
       "  <tbody>\n",
       "    <tr>\n",
       "      <th>0.0</th>\n",
       "      <td>193575.257257</td>\n",
       "      <td>4194.826541</td>\n",
       "      <td>32016.916202</td>\n",
       "      <td>229787.0</td>\n",
       "    </tr>\n",
       "    <tr>\n",
       "      <th>1.0</th>\n",
       "      <td>20127.742743</td>\n",
       "      <td>436.173459</td>\n",
       "      <td>3329.083798</td>\n",
       "      <td>23893.0</td>\n",
       "    </tr>\n",
       "    <tr>\n",
       "      <th>Total</th>\n",
       "      <td>213703.000000</td>\n",
       "      <td>4631.000000</td>\n",
       "      <td>35346.000000</td>\n",
       "      <td>253680.0</td>\n",
       "    </tr>\n",
       "  </tbody>\n",
       "</table>\n",
       "</div>"
      ],
      "text/plain": [
       "Diabetes                        0.0          1.0           2.0     Total\n",
       "HeartDiseaseorAttack                                                    \n",
       "0.0                   193575.257257  4194.826541  32016.916202  229787.0\n",
       "1.0                    20127.742743   436.173459   3329.083798   23893.0\n",
       "Total                 213703.000000  4631.000000  35346.000000  253680.0"
      ]
     },
     "execution_count": 47,
     "metadata": {},
     "output_type": "execute_result"
    }
   ],
   "source": [
    "## exped values of the values in contigency table\n",
    "ct_exp4 = ct_heart_diabetes.copy()\n",
    "ct_exp4.iloc[:,:] = np.multiply.outer(\n",
    "ct_exp4.sum(1).values,ct_heart_diabetes.sum().values)/ct_heart_diabetes.sum().sum()\n",
    "ct_exp4"
   ]
  },
  {
   "cell_type": "code",
   "execution_count": 48,
   "metadata": {},
   "outputs": [
    {
     "data": {
      "text/plain": [
       "8244.88910662167"
      ]
     },
     "execution_count": 48,
     "metadata": {},
     "output_type": "execute_result"
    }
   ],
   "source": [
    "## calculating the \n",
    "ct_chi_4 = ((ct_heart_diabetes - ct_exp4)**2) / ct_exp4\n",
    "chi_square_4 = ct_chi_4.iloc[:-1,:-1].sum().sum()\n",
    "chi_square_4"
   ]
  },
  {
   "cell_type": "code",
   "execution_count": 49,
   "metadata": {},
   "outputs": [
    {
     "data": {
      "text/plain": [
       "0.0"
      ]
     },
     "execution_count": 49,
     "metadata": {},
     "output_type": "execute_result"
    }
   ],
   "source": [
    "p_value4 = stats.distributions.chi2.sf(chi_square_4, 1)\n",
    "p_value4"
   ]
  },
  {
   "cell_type": "markdown",
   "metadata": {},
   "source": [
    "## Stroke"
   ]
  },
  {
   "cell_type": "code",
   "execution_count": 50,
   "metadata": {},
   "outputs": [
    {
     "data": {
      "text/html": [
       "<div>\n",
       "<style scoped>\n",
       "    .dataframe tbody tr th:only-of-type {\n",
       "        vertical-align: middle;\n",
       "    }\n",
       "\n",
       "    .dataframe tbody tr th {\n",
       "        vertical-align: top;\n",
       "    }\n",
       "\n",
       "    .dataframe thead th {\n",
       "        text-align: right;\n",
       "    }\n",
       "</style>\n",
       "<table border=\"1\" class=\"dataframe\">\n",
       "  <thead>\n",
       "    <tr style=\"text-align: right;\">\n",
       "      <th>Stroke</th>\n",
       "      <th>0.0</th>\n",
       "      <th>1.0</th>\n",
       "    </tr>\n",
       "    <tr>\n",
       "      <th>HeartDiseaseorAttack</th>\n",
       "      <th></th>\n",
       "      <th></th>\n",
       "    </tr>\n",
       "  </thead>\n",
       "  <tbody>\n",
       "    <tr>\n",
       "      <th>0.0</th>\n",
       "      <td>223432</td>\n",
       "      <td>6355</td>\n",
       "    </tr>\n",
       "    <tr>\n",
       "      <th>1.0</th>\n",
       "      <td>19956</td>\n",
       "      <td>3937</td>\n",
       "    </tr>\n",
       "  </tbody>\n",
       "</table>\n",
       "</div>"
      ],
      "text/plain": [
       "Stroke                   0.0   1.0\n",
       "HeartDiseaseorAttack              \n",
       "0.0                   223432  6355\n",
       "1.0                    19956  3937"
      ]
     },
     "execution_count": 50,
     "metadata": {},
     "output_type": "execute_result"
    }
   ],
   "source": [
    "ct_heart_stroke = pd.crosstab(hd_data['HeartDiseaseorAttack'], hd_data['Stroke'])\n",
    "ct_heart_stroke"
   ]
  },
  {
   "cell_type": "code",
   "execution_count": 51,
   "metadata": {},
   "outputs": [
    {
     "name": "stdout",
     "output_type": "stream",
     "text": [
      "0.4502885680686082 0.9598093843027034 0.40916140323966854 0.43150163116895246 0.018786936899655715\n"
     ]
    }
   ],
   "source": [
    "s0,s1 = ct_heart_stroke.sum(axis=1)\n",
    "s2,s3 = ct_heart_stroke.sum(axis=0)\n",
    "# Entropy of getting heart disease\n",
    "E_hd = -s0/len(hd_data)*math.log2(s0/len(hd_data))-s1/len(hd_data)*math.log2(s1/len(hd_data))\n",
    "# Entropy for high stroke:\n",
    "E_S = -ct_heart_stroke[1][0]/s3*math.log2(ct_heart_stroke[1][0]/s3)-ct_heart_stroke[1][1]/s3*math.log2(ct_heart_stroke[1][1]/s3)\n",
    "# Entropy for not stroke:\n",
    "E_NS = -ct_heart_stroke[0][0]/s2*math.log2(ct_heart_stroke[0][0]/s2)-ct_heart_stroke[0][1]/s2*math.log2(ct_heart_stroke[0][1]/s2)\n",
    "# E(heart disease|stroke):\n",
    "E = s3/len(hd_data)*E_S + s2/len(hd_data)*E_NS\n",
    "print(E_hd,E_S,E_NS,E,E_hd-E)"
   ]
  },
  {
   "cell_type": "code",
   "execution_count": 52,
   "metadata": {},
   "outputs": [
    {
     "data": {
      "image/png": "[encoded data removed]",
      "text/plain": [
       "<Figure size 1080x720 with 1 Axes>"
      ]
     },
     "metadata": {},
     "output_type": "display_data"
    }
   ],
   "source": [
    "sns.barplot(x = 'Stroke', y = 'HeartDiseaseorAttack', data = hd_data)\n",
    "sns.set(rc = {'figure.figsize':(15,10)})"
   ]
  },
  {
   "cell_type": "code",
   "execution_count": 53,
   "metadata": {},
   "outputs": [],
   "source": [
    "## After looking at the plot we can observe already that Stroke is \n",
    "## very associated with Heart disease even more than most of the previous variables we analyzed"
   ]
  },
  {
   "cell_type": "markdown",
   "metadata": {},
   "source": [
    "## PhysActivity"
   ]
  },
  {
   "cell_type": "code",
   "execution_count": 54,
   "metadata": {},
   "outputs": [
    {
     "data": {
      "text/html": [
       "<div>\n",
       "<style scoped>\n",
       "    .dataframe tbody tr th:only-of-type {\n",
       "        vertical-align: middle;\n",
       "    }\n",
       "\n",
       "    .dataframe tbody tr th {\n",
       "        vertical-align: top;\n",
       "    }\n",
       "\n",
       "    .dataframe thead th {\n",
       "        text-align: right;\n",
       "    }\n",
       "</style>\n",
       "<table border=\"1\" class=\"dataframe\">\n",
       "  <thead>\n",
       "    <tr style=\"text-align: right;\">\n",
       "      <th>PhysActivity</th>\n",
       "      <th>0.0</th>\n",
       "      <th>1.0</th>\n",
       "    </tr>\n",
       "    <tr>\n",
       "      <th>HeartDiseaseorAttack</th>\n",
       "      <th></th>\n",
       "      <th></th>\n",
       "    </tr>\n",
       "  </thead>\n",
       "  <tbody>\n",
       "    <tr>\n",
       "      <th>0.0</th>\n",
       "      <td>53167</td>\n",
       "      <td>176620</td>\n",
       "    </tr>\n",
       "    <tr>\n",
       "      <th>1.0</th>\n",
       "      <td>8593</td>\n",
       "      <td>15300</td>\n",
       "    </tr>\n",
       "  </tbody>\n",
       "</table>\n",
       "</div>"
      ],
      "text/plain": [
       "PhysActivity            0.0     1.0\n",
       "HeartDiseaseorAttack               \n",
       "0.0                   53167  176620\n",
       "1.0                    8593   15300"
      ]
     },
     "execution_count": 54,
     "metadata": {},
     "output_type": "execute_result"
    }
   ],
   "source": [
    "ct_heart_activity = pd.crosstab(hd_data['HeartDiseaseorAttack'], hd_data['PhysActivity'])\n",
    "ct_heart_activity"
   ]
  },
  {
   "cell_type": "code",
   "execution_count": 55,
   "metadata": {},
   "outputs": [
    {
     "name": "stdout",
     "output_type": "stream",
     "text": [
      "0.4502885680686082 0.4011943538510391 0.5819699177059485 0.445205307902124 0.005083260166484194\n"
     ]
    }
   ],
   "source": [
    "s0,s1 = ct_heart_activity.sum(axis=1)\n",
    "s2,s3 = ct_heart_activity.sum(axis=0)\n",
    "# Entropy of getting heart disease\n",
    "E_hd = -s0/len(hd_data)*math.log2(s0/len(hd_data))-s1/len(hd_data)*math.log2(s1/len(hd_data))\n",
    "# Entropy for activity:\n",
    "E_PA = -ct_heart_activity[1][0]/s3*math.log2(ct_heart_activity[1][0]/s3)-ct_heart_activity[1][1]/s3*math.log2(ct_heart_activity[1][1]/s3)\n",
    "# Entropy for no activity:\n",
    "E_NPA = -ct_heart_activity[0][0]/s2*math.log2(ct_heart_activity[0][0]/s2)-ct_heart_activity[0][1]/s2*math.log2(ct_heart_activity[0][1]/s2)\n",
    "# E(heart disease|activity):\n",
    "E = s3/len(hd_data)*E_PA + s2/len(hd_data)*E_NPA\n",
    "print(E_hd,E_PA,E_NPA,E,E_hd-E)\n"
   ]
  },
  {
   "cell_type": "code",
   "execution_count": 56,
   "metadata": {},
   "outputs": [
    {
     "data": {
      "image/png": "[encoded data removed]",
      "text/plain": [
       "<Figure size 1080x720 with 1 Axes>"
      ]
     },
     "metadata": {},
     "output_type": "display_data"
    }
   ],
   "source": [
    "sns.barplot(x = 'PhysActivity', y = 'HeartDiseaseorAttack', data = hd_data)\n",
    "sns.set(rc = {'figure.figsize':(15,10)})"
   ]
  },
  {
   "cell_type": "code",
   "execution_count": 57,
   "metadata": {},
   "outputs": [],
   "source": [
    "## After looking at the plot we can observe already that Stroke is \n",
    "## very associated with Heart disease"
   ]
  },
  {
   "cell_type": "markdown",
   "metadata": {},
   "source": [
    "## Fruits"
   ]
  },
  {
   "cell_type": "code",
   "execution_count": 58,
   "metadata": {},
   "outputs": [
    {
     "data": {
      "text/html": [
       "<div>\n",
       "<style scoped>\n",
       "    .dataframe tbody tr th:only-of-type {\n",
       "        vertical-align: middle;\n",
       "    }\n",
       "\n",
       "    .dataframe tbody tr th {\n",
       "        vertical-align: top;\n",
       "    }\n",
       "\n",
       "    .dataframe thead th {\n",
       "        text-align: right;\n",
       "    }\n",
       "</style>\n",
       "<table border=\"1\" class=\"dataframe\">\n",
       "  <thead>\n",
       "    <tr style=\"text-align: right;\">\n",
       "      <th>Fruits</th>\n",
       "      <th>0.0</th>\n",
       "      <th>1.0</th>\n",
       "    </tr>\n",
       "    <tr>\n",
       "      <th>HeartDiseaseorAttack</th>\n",
       "      <th></th>\n",
       "      <th></th>\n",
       "    </tr>\n",
       "  </thead>\n",
       "  <tbody>\n",
       "    <tr>\n",
       "      <th>0.0</th>\n",
       "      <td>83337</td>\n",
       "      <td>146450</td>\n",
       "    </tr>\n",
       "    <tr>\n",
       "      <th>1.0</th>\n",
       "      <td>9445</td>\n",
       "      <td>14448</td>\n",
       "    </tr>\n",
       "  </tbody>\n",
       "</table>\n",
       "</div>"
      ],
      "text/plain": [
       "Fruits                  0.0     1.0\n",
       "HeartDiseaseorAttack               \n",
       "0.0                   83337  146450\n",
       "1.0                    9445   14448"
      ]
     },
     "execution_count": 58,
     "metadata": {},
     "output_type": "execute_result"
    }
   ],
   "source": [
    "ct_heart_fruits = pd.crosstab(hd_data['HeartDiseaseorAttack'], hd_data['Fruits'])\n",
    "ct_heart_fruits"
   ]
  },
  {
   "cell_type": "code",
   "execution_count": 59,
   "metadata": {},
   "outputs": [
    {
     "name": "stdout",
     "output_type": "stream",
     "text": [
      "0.4502885680686082 0.4357885911585022 0.47466859862385247 0.45000873012353737 0.0002798379450708044\n"
     ]
    }
   ],
   "source": [
    "s0,s1 = ct_heart_fruits.sum(axis=1)\n",
    "s2,s3 = ct_heart_fruits.sum(axis=0)\n",
    "# Entropy of getting heart disease\n",
    "E_hd = -s0/len(hd_data)*math.log2(s0/len(hd_data))-s1/len(hd_data)*math.log2(s1/len(hd_data))\n",
    "# Entropy for fruit:\n",
    "E_F = -ct_heart_fruits[1][0]/s3*math.log2(ct_heart_fruits[1][0]/s3)-ct_heart_fruits[1][1]/s3*math.log2(ct_heart_fruits[1][1]/s3)\n",
    "# Entropy for no fruit:\n",
    "E_NF = -ct_heart_fruits[0][0]/s2*math.log2(ct_heart_fruits[0][0]/s2)-ct_heart_fruits[0][1]/s2*math.log2(ct_heart_fruits[0][1]/s2)\n",
    "# E(heart disease|fruit):\n",
    "E = s3/len(hd_data)*E_F + s2/len(hd_data)*E_NF\n",
    "print(E_hd,E_F,E_NF,E,E_hd-E)\n"
   ]
  },
  {
   "cell_type": "code",
   "execution_count": 60,
   "metadata": {},
   "outputs": [
    {
     "data": {
      "image/png": "[encoded data removed]",
      "text/plain": [
       "<Figure size 1080x720 with 1 Axes>"
      ]
     },
     "metadata": {},
     "output_type": "display_data"
    }
   ],
   "source": [
    "sns.barplot(x = 'Fruits', y = 'HeartDiseaseorAttack', data = hd_data)\n",
    "sns.set(rc = {'figure.figsize':(15,10)})"
   ]
  },
  {
   "cell_type": "code",
   "execution_count": 61,
   "metadata": {},
   "outputs": [
    {
     "data": {
      "text/html": [
       "<div>\n",
       "<style scoped>\n",
       "    .dataframe tbody tr th:only-of-type {\n",
       "        vertical-align: middle;\n",
       "    }\n",
       "\n",
       "    .dataframe tbody tr th {\n",
       "        vertical-align: top;\n",
       "    }\n",
       "\n",
       "    .dataframe thead th {\n",
       "        text-align: right;\n",
       "    }\n",
       "</style>\n",
       "<table border=\"1\" class=\"dataframe\">\n",
       "  <thead>\n",
       "    <tr style=\"text-align: right;\">\n",
       "      <th>Fruits</th>\n",
       "      <th>0.0</th>\n",
       "      <th>1.0</th>\n",
       "      <th>Total</th>\n",
       "    </tr>\n",
       "    <tr>\n",
       "      <th>HeartDiseaseorAttack</th>\n",
       "      <th></th>\n",
       "      <th></th>\n",
       "      <th></th>\n",
       "    </tr>\n",
       "  </thead>\n",
       "  <tbody>\n",
       "    <tr>\n",
       "      <th>0.0</th>\n",
       "      <td>83337</td>\n",
       "      <td>146450</td>\n",
       "      <td>229787</td>\n",
       "    </tr>\n",
       "    <tr>\n",
       "      <th>1.0</th>\n",
       "      <td>9445</td>\n",
       "      <td>14448</td>\n",
       "      <td>23893</td>\n",
       "    </tr>\n",
       "    <tr>\n",
       "      <th>Total</th>\n",
       "      <td>92782</td>\n",
       "      <td>160898</td>\n",
       "      <td>253680</td>\n",
       "    </tr>\n",
       "  </tbody>\n",
       "</table>\n",
       "</div>"
      ],
      "text/plain": [
       "Fruits                  0.0     1.0   Total\n",
       "HeartDiseaseorAttack                       \n",
       "0.0                   83337  146450  229787\n",
       "1.0                    9445   14448   23893\n",
       "Total                 92782  160898  253680"
      ]
     },
     "execution_count": 61,
     "metadata": {},
     "output_type": "execute_result"
    }
   ],
   "source": [
    "## contigency table with the column total\n",
    "ct_heart_fruits.loc[:,'Total']= ct_heart_fruits.sum(axis=1)\n",
    "ct_heart_fruits.loc['Total']= ct_heart_fruits.sum()\n",
    "ct_heart_fruits"
   ]
  },
  {
   "cell_type": "code",
   "execution_count": 62,
   "metadata": {},
   "outputs": [
    {
     "data": {
      "text/html": [
       "<div>\n",
       "<style scoped>\n",
       "    .dataframe tbody tr th:only-of-type {\n",
       "        vertical-align: middle;\n",
       "    }\n",
       "\n",
       "    .dataframe tbody tr th {\n",
       "        vertical-align: top;\n",
       "    }\n",
       "\n",
       "    .dataframe thead th {\n",
       "        text-align: right;\n",
       "    }\n",
       "</style>\n",
       "<table border=\"1\" class=\"dataframe\">\n",
       "  <thead>\n",
       "    <tr style=\"text-align: right;\">\n",
       "      <th>Fruits</th>\n",
       "      <th>0.0</th>\n",
       "      <th>1.0</th>\n",
       "      <th>Total</th>\n",
       "    </tr>\n",
       "    <tr>\n",
       "      <th>HeartDiseaseorAttack</th>\n",
       "      <th></th>\n",
       "      <th></th>\n",
       "      <th></th>\n",
       "    </tr>\n",
       "  </thead>\n",
       "  <tbody>\n",
       "    <tr>\n",
       "      <th>0.0</th>\n",
       "      <td>84043.272761</td>\n",
       "      <td>145743.727239</td>\n",
       "      <td>229787.0</td>\n",
       "    </tr>\n",
       "    <tr>\n",
       "      <th>1.0</th>\n",
       "      <td>8738.727239</td>\n",
       "      <td>15154.272761</td>\n",
       "      <td>23893.0</td>\n",
       "    </tr>\n",
       "    <tr>\n",
       "      <th>Total</th>\n",
       "      <td>92782.000000</td>\n",
       "      <td>160898.000000</td>\n",
       "      <td>253680.0</td>\n",
       "    </tr>\n",
       "  </tbody>\n",
       "</table>\n",
       "</div>"
      ],
      "text/plain": [
       "Fruits                         0.0            1.0     Total\n",
       "HeartDiseaseorAttack                                       \n",
       "0.0                   84043.272761  145743.727239  229787.0\n",
       "1.0                    8738.727239   15154.272761   23893.0\n",
       "Total                 92782.000000  160898.000000  253680.0"
      ]
     },
     "execution_count": 62,
     "metadata": {},
     "output_type": "execute_result"
    }
   ],
   "source": [
    "## exped values of the values in contigency table\n",
    "ct_exp6 = ct_heart_fruits.copy()\n",
    "ct_exp6.iloc[:,:] = np.multiply.outer(\n",
    "ct_exp6.sum(1).values,ct_heart_fruits.sum().values)/ct_heart_fruits.sum().sum()\n",
    "ct_exp6"
   ]
  },
  {
   "cell_type": "code",
   "execution_count": 63,
   "metadata": {},
   "outputs": [
    {
     "data": {
      "text/plain": [
       "99.35576854888947"
      ]
     },
     "execution_count": 63,
     "metadata": {},
     "output_type": "execute_result"
    }
   ],
   "source": [
    "## calculating the \n",
    "ct_chi_6 = ((ct_heart_fruits - ct_exp6)**2) / ct_exp6\n",
    "chi_square_6 = ct_chi_6.iloc[:-1,:-1].sum().sum()\n",
    "chi_square_6"
   ]
  },
  {
   "cell_type": "code",
   "execution_count": 64,
   "metadata": {},
   "outputs": [
    {
     "data": {
      "text/plain": [
       "2.1098242777146135e-23"
      ]
     },
     "execution_count": 64,
     "metadata": {},
     "output_type": "execute_result"
    }
   ],
   "source": [
    "p_value6 = stats.distributions.chi2.sf(chi_square_6, 1)\n",
    "p_value6"
   ]
  },
  {
   "cell_type": "markdown",
   "metadata": {},
   "source": [
    "## HvyAlcoholConsump"
   ]
  },
  {
   "cell_type": "code",
   "execution_count": 65,
   "metadata": {},
   "outputs": [
    {
     "data": {
      "text/html": [
       "<div>\n",
       "<style scoped>\n",
       "    .dataframe tbody tr th:only-of-type {\n",
       "        vertical-align: middle;\n",
       "    }\n",
       "\n",
       "    .dataframe tbody tr th {\n",
       "        vertical-align: top;\n",
       "    }\n",
       "\n",
       "    .dataframe thead th {\n",
       "        text-align: right;\n",
       "    }\n",
       "</style>\n",
       "<table border=\"1\" class=\"dataframe\">\n",
       "  <thead>\n",
       "    <tr style=\"text-align: right;\">\n",
       "      <th>HvyAlcoholConsump</th>\n",
       "      <th>0.0</th>\n",
       "      <th>1.0</th>\n",
       "    </tr>\n",
       "    <tr>\n",
       "      <th>HeartDiseaseorAttack</th>\n",
       "      <th></th>\n",
       "      <th></th>\n",
       "    </tr>\n",
       "  </thead>\n",
       "  <tbody>\n",
       "    <tr>\n",
       "      <th>0.0</th>\n",
       "      <td>216379</td>\n",
       "      <td>13408</td>\n",
       "    </tr>\n",
       "    <tr>\n",
       "      <th>1.0</th>\n",
       "      <td>23045</td>\n",
       "      <td>848</td>\n",
       "    </tr>\n",
       "  </tbody>\n",
       "</table>\n",
       "</div>"
      ],
      "text/plain": [
       "HvyAlcoholConsump        0.0    1.0\n",
       "HeartDiseaseorAttack               \n",
       "0.0                   216379  13408\n",
       "1.0                    23045    848"
      ]
     },
     "execution_count": 65,
     "metadata": {},
     "output_type": "execute_result"
    }
   ],
   "source": [
    "ct_heart_alcol = pd.crosstab(hd_data['HeartDiseaseorAttack'], hd_data['HvyAlcoholConsump'])\n",
    "ct_heart_alcol"
   ]
  },
  {
   "cell_type": "code",
   "execution_count": 66,
   "metadata": {},
   "outputs": [
    {
     "name": "stdout",
     "output_type": "stream",
     "text": [
      "0.4502885680686082 0.32539208669374436 0.4570003254308602 0.4496043657515937 0.0006842023170144929\n"
     ]
    }
   ],
   "source": [
    "# entropy:\n",
    "s0,s1 = ct_heart_alcol.sum(axis=1)\n",
    "s2,s3 = ct_heart_alcol.sum(axis=0)\n",
    "# Entropy for high alco:\n",
    "E_A = -ct_heart_alcol[1][0]/s3*math.log2(ct_heart_alcol[1][0]/s3)-ct_heart_alcol[1][1]/s3*math.log2(ct_heart_alcol[1][1]/s3)\n",
    "# Entropy for normal alco:\n",
    "E_NA = -ct_heart_alcol[0][0]/s2*math.log2(ct_heart_alcol[0][0]/s2)-ct_heart_alcol[0][1]/s2*math.log2(ct_heart_alcol[0][1]/s2)\n",
    "# E(heart disease|alcoh):\n",
    "E = s3/len(hd_data)*E_A + s2/len(hd_data)*E_NA\n",
    "print(E_hd,E_A,E_NA,E,E_hd-E)"
   ]
  },
  {
   "cell_type": "code",
   "execution_count": 67,
   "metadata": {},
   "outputs": [
    {
     "data": {
      "image/png": "[encoded data removed]",
      "text/plain": [
       "<Figure size 1080x720 with 1 Axes>"
      ]
     },
     "metadata": {},
     "output_type": "display_data"
    }
   ],
   "source": [
    "sns.barplot(x = 'HvyAlcoholConsump', y = 'HeartDiseaseorAttack', data = hd_data)\n",
    "sns.set(rc = {'figure.figsize':(15,10)})"
   ]
  },
  {
   "cell_type": "code",
   "execution_count": 68,
   "metadata": {},
   "outputs": [],
   "source": [
    "## After looking at the plot we can observe already that HvyAlcoholConsump is \n",
    "## very associated with Heart disease"
   ]
  },
  {
   "cell_type": "markdown",
   "metadata": {},
   "source": [
    "## NoDocbcCost"
   ]
  },
  {
   "cell_type": "code",
   "execution_count": 69,
   "metadata": {},
   "outputs": [
    {
     "data": {
      "text/html": [
       "<div>\n",
       "<style scoped>\n",
       "    .dataframe tbody tr th:only-of-type {\n",
       "        vertical-align: middle;\n",
       "    }\n",
       "\n",
       "    .dataframe tbody tr th {\n",
       "        vertical-align: top;\n",
       "    }\n",
       "\n",
       "    .dataframe thead th {\n",
       "        text-align: right;\n",
       "    }\n",
       "</style>\n",
       "<table border=\"1\" class=\"dataframe\">\n",
       "  <thead>\n",
       "    <tr style=\"text-align: right;\">\n",
       "      <th>NoDocbcCost</th>\n",
       "      <th>0.0</th>\n",
       "      <th>1.0</th>\n",
       "    </tr>\n",
       "    <tr>\n",
       "      <th>HeartDiseaseorAttack</th>\n",
       "      <th></th>\n",
       "      <th></th>\n",
       "    </tr>\n",
       "  </thead>\n",
       "  <tbody>\n",
       "    <tr>\n",
       "      <th>0.0</th>\n",
       "      <td>211082</td>\n",
       "      <td>18705</td>\n",
       "    </tr>\n",
       "    <tr>\n",
       "      <th>1.0</th>\n",
       "      <td>21244</td>\n",
       "      <td>2649</td>\n",
       "    </tr>\n",
       "  </tbody>\n",
       "</table>\n",
       "</div>"
      ],
      "text/plain": [
       "NoDocbcCost              0.0    1.0\n",
       "HeartDiseaseorAttack               \n",
       "0.0                   211082  18705\n",
       "1.0                    21244   2649"
      ]
     },
     "execution_count": 69,
     "metadata": {},
     "output_type": "execute_result"
    }
   ],
   "source": [
    "ct_heart_NoDocbcCost = pd.crosstab(hd_data['HeartDiseaseorAttack'], hd_data['NoDocbcCost'])\n",
    "ct_heart_NoDocbcCost"
   ]
  },
  {
   "cell_type": "code",
   "execution_count": 70,
   "metadata": {},
   "outputs": [
    {
     "name": "stdout",
     "output_type": "stream",
     "text": [
      "0.4502885680686082 0.5408962845195785 0.44125974929337397 0.4496468455296574 0.0006417225389507841\n"
     ]
    }
   ],
   "source": [
    "# entropy:\n",
    "s0,s1 = ct_heart_NoDocbcCost.sum(axis=1)\n",
    "s2,s3 = ct_heart_NoDocbcCost.sum(axis=0)\n",
    "# Entropy for do not visit:\n",
    "E_NV = -ct_heart_NoDocbcCost[1][0]/s3*math.log2(ct_heart_NoDocbcCost[1][0]/s3)-ct_heart_NoDocbcCost[1][1]/s3*math.log2(ct_heart_NoDocbcCost[1][1]/s3)\n",
    "# Entropy for normal:\n",
    "E_N = -ct_heart_NoDocbcCost[0][0]/s2*math.log2(ct_heart_NoDocbcCost[0][0]/s2)-ct_heart_NoDocbcCost[0][1]/s2*math.log2(ct_heart_NoDocbcCost[0][1]/s2)\n",
    "# E(heart disease|should(but no)visit):\n",
    "E = s3/len(hd_data)*E_NV + s2/len(hd_data)*E_N\n",
    "print(E_hd,E_NV,E_N,E,E_hd-E)"
   ]
  },
  {
   "cell_type": "code",
   "execution_count": 71,
   "metadata": {},
   "outputs": [
    {
     "data": {
      "image/png": "[encoded data removed]",
      "text/plain": [
       "<Figure size 1080x720 with 1 Axes>"
      ]
     },
     "metadata": {},
     "output_type": "display_data"
    }
   ],
   "source": [
    "sns.barplot(x = 'NoDocbcCost', y = 'HeartDiseaseorAttack', data = hd_data)\n",
    "sns.set(rc = {'figure.figsize':(15,10)})"
   ]
  },
  {
   "cell_type": "code",
   "execution_count": 72,
   "metadata": {},
   "outputs": [],
   "source": [
    "## After looking at the plot we can observe already that NoDocbcCost is \n",
    "## very associated with Heart disease"
   ]
  },
  {
   "cell_type": "markdown",
   "metadata": {},
   "source": [
    "## GenHlth"
   ]
  },
  {
   "cell_type": "code",
   "execution_count": 73,
   "metadata": {},
   "outputs": [
    {
     "data": {
      "text/html": [
       "<div>\n",
       "<style scoped>\n",
       "    .dataframe tbody tr th:only-of-type {\n",
       "        vertical-align: middle;\n",
       "    }\n",
       "\n",
       "    .dataframe tbody tr th {\n",
       "        vertical-align: top;\n",
       "    }\n",
       "\n",
       "    .dataframe thead th {\n",
       "        text-align: right;\n",
       "    }\n",
       "</style>\n",
       "<table border=\"1\" class=\"dataframe\">\n",
       "  <thead>\n",
       "    <tr style=\"text-align: right;\">\n",
       "      <th>GenHlth</th>\n",
       "      <th>1.0</th>\n",
       "      <th>2.0</th>\n",
       "      <th>3.0</th>\n",
       "      <th>4.0</th>\n",
       "      <th>5.0</th>\n",
       "    </tr>\n",
       "    <tr>\n",
       "      <th>HeartDiseaseorAttack</th>\n",
       "      <th></th>\n",
       "      <th></th>\n",
       "      <th></th>\n",
       "      <th></th>\n",
       "      <th></th>\n",
       "    </tr>\n",
       "  </thead>\n",
       "  <tbody>\n",
       "    <tr>\n",
       "      <th>0.0</th>\n",
       "      <td>44283</td>\n",
       "      <td>84956</td>\n",
       "      <td>67732</td>\n",
       "      <td>24842</td>\n",
       "      <td>7974</td>\n",
       "    </tr>\n",
       "    <tr>\n",
       "      <th>1.0</th>\n",
       "      <td>1016</td>\n",
       "      <td>4128</td>\n",
       "      <td>7914</td>\n",
       "      <td>6728</td>\n",
       "      <td>4107</td>\n",
       "    </tr>\n",
       "  </tbody>\n",
       "</table>\n",
       "</div>"
      ],
      "text/plain": [
       "GenHlth                 1.0    2.0    3.0    4.0   5.0\n",
       "HeartDiseaseorAttack                                  \n",
       "0.0                   44283  84956  67732  24842  7974\n",
       "1.0                    1016   4128   7914   6728  4107"
      ]
     },
     "execution_count": 73,
     "metadata": {},
     "output_type": "execute_result"
    }
   ],
   "source": [
    "ct_heart_GenHlth = pd.crosstab(hd_data['HeartDiseaseorAttack'], hd_data['GenHlth'])\n",
    "ct_heart_GenHlth"
   ]
  },
  {
   "cell_type": "code",
   "execution_count": 74,
   "metadata": {},
   "outputs": [
    {
     "name": "stdout",
     "output_type": "stream",
     "text": [
      "0.4502885680686082 0.1548682993033599 0.270633758184833 0.48346840006811487 0.7473924890765165 0.924775925361911 0.40391188201780215 0.046376686050806026\n"
     ]
    }
   ],
   "source": [
    "# entropy:\n",
    "s0,s1 = ct_heart_GenHlth.sum(axis=1)\n",
    "s2,s3,s4,s5,s6 = ct_heart_GenHlth.sum(axis=0)\n",
    "E_G1 = -ct_heart_GenHlth[1][0]/s2*math.log2(ct_heart_GenHlth[1][0]/s2)-ct_heart_GenHlth[1][1]/s2*math.log2(ct_heart_GenHlth[1][1]/s2)\n",
    "E_G2 = -ct_heart_GenHlth[2][0]/s3*math.log2(ct_heart_GenHlth[2][0]/s3)-ct_heart_GenHlth[2][1]/s3*math.log2(ct_heart_GenHlth[2][1]/s3)\n",
    "E_G3 = -ct_heart_GenHlth[3][0]/s4*math.log2(ct_heart_GenHlth[3][0]/s4)-ct_heart_GenHlth[3][1]/s4*math.log2(ct_heart_GenHlth[3][1]/s4)\n",
    "E_G4 = -ct_heart_GenHlth[4][0]/s5*math.log2(ct_heart_GenHlth[4][0]/s5)-ct_heart_GenHlth[4][1]/s5*math.log2(ct_heart_GenHlth[4][1]/s5)\n",
    "E_G5 = -ct_heart_GenHlth[5][0]/s6*math.log2(ct_heart_GenHlth[5][0]/s6)-ct_heart_GenHlth[5][1]/s6*math.log2(ct_heart_GenHlth[5][1]/s6)\n",
    "# E(heart disease|general health):\n",
    "E = s2/len(hd_data)*E_G1 + s3/len(hd_data)*E_G2 + s4/len(hd_data)*E_G3 + s5/len(hd_data)*E_G4 + s6/len(hd_data)*E_G5\n",
    "print(E_hd,E_G1,E_G2,E_G3,E_G4,E_G5,E,E_hd-E)"
   ]
  },
  {
   "cell_type": "code",
   "execution_count": 75,
   "metadata": {},
   "outputs": [
    {
     "data": {
      "image/png": "[encoded data removed]",
      "text/plain": [
       "<Figure size 1080x720 with 1 Axes>"
      ]
     },
     "metadata": {},
     "output_type": "display_data"
    }
   ],
   "source": [
    "sns.barplot(x = 'GenHlth', y = 'HeartDiseaseorAttack', data = hd_data)\n",
    "sns.set(rc = {'figure.figsize':(15,10)})"
   ]
  },
  {
   "cell_type": "code",
   "execution_count": 76,
   "metadata": {},
   "outputs": [],
   "source": [
    "## From the plots, we can clearly observe that higher the higher\n",
    "## the GenHlth is the higher Heart Disease ratio is"
   ]
  },
  {
   "cell_type": "markdown",
   "metadata": {},
   "source": [
    "## Diffwalk"
   ]
  },
  {
   "cell_type": "code",
   "execution_count": 77,
   "metadata": {},
   "outputs": [
    {
     "data": {
      "text/html": [
       "<div>\n",
       "<style scoped>\n",
       "    .dataframe tbody tr th:only-of-type {\n",
       "        vertical-align: middle;\n",
       "    }\n",
       "\n",
       "    .dataframe tbody tr th {\n",
       "        vertical-align: top;\n",
       "    }\n",
       "\n",
       "    .dataframe thead th {\n",
       "        text-align: right;\n",
       "    }\n",
       "</style>\n",
       "<table border=\"1\" class=\"dataframe\">\n",
       "  <thead>\n",
       "    <tr style=\"text-align: right;\">\n",
       "      <th>DiffWalk</th>\n",
       "      <th>0.0</th>\n",
       "      <th>1.0</th>\n",
       "    </tr>\n",
       "    <tr>\n",
       "      <th>HeartDiseaseorAttack</th>\n",
       "      <th></th>\n",
       "      <th></th>\n",
       "    </tr>\n",
       "  </thead>\n",
       "  <tbody>\n",
       "    <tr>\n",
       "      <th>0.0</th>\n",
       "      <td>197027</td>\n",
       "      <td>32760</td>\n",
       "    </tr>\n",
       "    <tr>\n",
       "      <th>1.0</th>\n",
       "      <td>13978</td>\n",
       "      <td>9915</td>\n",
       "    </tr>\n",
       "  </tbody>\n",
       "</table>\n",
       "</div>"
      ],
      "text/plain": [
       "DiffWalk                 0.0    1.0\n",
       "HeartDiseaseorAttack               \n",
       "0.0                   197027  32760\n",
       "1.0                    13978   9915"
      ]
     },
     "execution_count": 77,
     "metadata": {},
     "output_type": "execute_result"
    }
   ],
   "source": [
    "ct_heart_walk = pd.crosstab(hd_data['HeartDiseaseorAttack'], hd_data['DiffWalk'])\n",
    "ct_heart_walk"
   ]
  },
  {
   "cell_type": "code",
   "execution_count": 78,
   "metadata": {},
   "outputs": [
    {
     "name": "stdout",
     "output_type": "stream",
     "text": [
      "0.4502885680686082 0.7820637748651071 0.3517513606111544 0.42414012708185544 0.02614844098675273\n"
     ]
    }
   ],
   "source": [
    "# entropy:\n",
    "s0,s1 = ct_heart_walk.sum(axis=1)\n",
    "s2,s3 = ct_heart_walk.sum(axis=0)\n",
    "# Entropy for diff walk:\n",
    "E_W = -ct_heart_walk[1][0]/s3*math.log2(ct_heart_walk[1][0]/s3)-ct_heart_walk[1][1]/s3*math.log2(ct_heart_walk[1][1]/s3)\n",
    "# Entropy for no diff walk:\n",
    "E_NW = -ct_heart_walk[0][0]/s2*math.log2(ct_heart_walk[0][0]/s2)-ct_heart_walk[0][1]/s2*math.log2(ct_heart_walk[0][1]/s2)\n",
    "# E(heart disease|walk):\n",
    "E = s3/len(hd_data)*E_W + s2/len(hd_data)*E_NW\n",
    "print(E_hd,E_W,E_NW,E,E_hd-E)"
   ]
  },
  {
   "cell_type": "code",
   "execution_count": 79,
   "metadata": {},
   "outputs": [
    {
     "data": {
      "image/png": "[encoded data removed]",
      "text/plain": [
       "<Figure size 1080x720 with 1 Axes>"
      ]
     },
     "metadata": {},
     "output_type": "display_data"
    }
   ],
   "source": [
    "sns.barplot(x = 'HvyAlcoholConsump', y = 'DiffWalk', data = hd_data)\n",
    "sns.set(rc = {'figure.figsize':(15,10)})"
   ]
  },
  {
   "cell_type": "code",
   "execution_count": 80,
   "metadata": {},
   "outputs": [
    {
     "data": {
      "text/html": [
       "<div>\n",
       "<style scoped>\n",
       "    .dataframe tbody tr th:only-of-type {\n",
       "        vertical-align: middle;\n",
       "    }\n",
       "\n",
       "    .dataframe tbody tr th {\n",
       "        vertical-align: top;\n",
       "    }\n",
       "\n",
       "    .dataframe thead th {\n",
       "        text-align: right;\n",
       "    }\n",
       "</style>\n",
       "<table border=\"1\" class=\"dataframe\">\n",
       "  <thead>\n",
       "    <tr style=\"text-align: right;\">\n",
       "      <th>DiffWalk</th>\n",
       "      <th>0.0</th>\n",
       "      <th>1.0</th>\n",
       "      <th>Total</th>\n",
       "    </tr>\n",
       "    <tr>\n",
       "      <th>HeartDiseaseorAttack</th>\n",
       "      <th></th>\n",
       "      <th></th>\n",
       "      <th></th>\n",
       "    </tr>\n",
       "  </thead>\n",
       "  <tbody>\n",
       "    <tr>\n",
       "      <th>0.0</th>\n",
       "      <td>197027</td>\n",
       "      <td>32760</td>\n",
       "      <td>229787</td>\n",
       "    </tr>\n",
       "    <tr>\n",
       "      <th>1.0</th>\n",
       "      <td>13978</td>\n",
       "      <td>9915</td>\n",
       "      <td>23893</td>\n",
       "    </tr>\n",
       "    <tr>\n",
       "      <th>Total</th>\n",
       "      <td>211005</td>\n",
       "      <td>42675</td>\n",
       "      <td>253680</td>\n",
       "    </tr>\n",
       "  </tbody>\n",
       "</table>\n",
       "</div>"
      ],
      "text/plain": [
       "DiffWalk                 0.0    1.0   Total\n",
       "HeartDiseaseorAttack                       \n",
       "0.0                   197027  32760  229787\n",
       "1.0                    13978   9915   23893\n",
       "Total                 211005  42675  253680"
      ]
     },
     "execution_count": 80,
     "metadata": {},
     "output_type": "execute_result"
    }
   ],
   "source": [
    "## contigency table with the column total\n",
    "ct_heart_walk.loc[:,'Total']= ct_heart_walk.sum(axis=1)\n",
    "ct_heart_walk.loc['Total']= ct_heart_walk.sum()\n",
    "ct_heart_walk"
   ]
  },
  {
   "cell_type": "code",
   "execution_count": 81,
   "metadata": {},
   "outputs": [
    {
     "data": {
      "text/html": [
       "<div>\n",
       "<style scoped>\n",
       "    .dataframe tbody tr th:only-of-type {\n",
       "        vertical-align: middle;\n",
       "    }\n",
       "\n",
       "    .dataframe tbody tr th {\n",
       "        vertical-align: top;\n",
       "    }\n",
       "\n",
       "    .dataframe thead th {\n",
       "        text-align: right;\n",
       "    }\n",
       "</style>\n",
       "<table border=\"1\" class=\"dataframe\">\n",
       "  <thead>\n",
       "    <tr style=\"text-align: right;\">\n",
       "      <th>DiffWalk</th>\n",
       "      <th>0.0</th>\n",
       "      <th>1.0</th>\n",
       "      <th>Total</th>\n",
       "    </tr>\n",
       "    <tr>\n",
       "      <th>HeartDiseaseorAttack</th>\n",
       "      <th></th>\n",
       "      <th></th>\n",
       "      <th></th>\n",
       "    </tr>\n",
       "  </thead>\n",
       "  <tbody>\n",
       "    <tr>\n",
       "      <th>0.0</th>\n",
       "      <td>191131.369974</td>\n",
       "      <td>38655.630026</td>\n",
       "      <td>229787.0</td>\n",
       "    </tr>\n",
       "    <tr>\n",
       "      <th>1.0</th>\n",
       "      <td>19873.630026</td>\n",
       "      <td>4019.369974</td>\n",
       "      <td>23893.0</td>\n",
       "    </tr>\n",
       "    <tr>\n",
       "      <th>Total</th>\n",
       "      <td>211005.000000</td>\n",
       "      <td>42675.000000</td>\n",
       "      <td>253680.0</td>\n",
       "    </tr>\n",
       "  </tbody>\n",
       "</table>\n",
       "</div>"
      ],
      "text/plain": [
       "DiffWalk                        0.0           1.0     Total\n",
       "HeartDiseaseorAttack                                       \n",
       "0.0                   191131.369974  38655.630026  229787.0\n",
       "1.0                    19873.630026   4019.369974   23893.0\n",
       "Total                 211005.000000  42675.000000  253680.0"
      ]
     },
     "execution_count": 81,
     "metadata": {},
     "output_type": "execute_result"
    }
   ],
   "source": [
    "## exped values of the values in contigency table\n",
    "ct_exp8 = ct_heart_walk.copy()\n",
    "ct_exp8.iloc[:,:] = np.multiply.outer(\n",
    "ct_exp8.sum(1).values,ct_heart_walk.sum().values)/ct_heart_walk.sum().sum()\n",
    "ct_exp8"
   ]
  },
  {
   "cell_type": "code",
   "execution_count": 82,
   "metadata": {},
   "outputs": [
    {
     "data": {
      "text/plain": [
       "11477.74882274557"
      ]
     },
     "execution_count": 82,
     "metadata": {},
     "output_type": "execute_result"
    }
   ],
   "source": [
    "## calculating the \n",
    "ct_chi_8 = ((ct_heart_walk - ct_exp8)**2) / ct_exp8\n",
    "chi_square_8 = ct_chi_8.iloc[:-1,:-1].sum().sum()\n",
    "chi_square_8"
   ]
  },
  {
   "cell_type": "code",
   "execution_count": 83,
   "metadata": {},
   "outputs": [
    {
     "data": {
      "text/plain": [
       "0.0"
      ]
     },
     "execution_count": 83,
     "metadata": {},
     "output_type": "execute_result"
    }
   ],
   "source": [
    "p_value8 = stats.distributions.chi2.sf(chi_square_8, 1)\n",
    "p_value8"
   ]
  },
  {
   "cell_type": "markdown",
   "metadata": {},
   "source": [
    "## Sex"
   ]
  },
  {
   "cell_type": "code",
   "execution_count": 84,
   "metadata": {},
   "outputs": [
    {
     "data": {
      "text/html": [
       "<div>\n",
       "<style scoped>\n",
       "    .dataframe tbody tr th:only-of-type {\n",
       "        vertical-align: middle;\n",
       "    }\n",
       "\n",
       "    .dataframe tbody tr th {\n",
       "        vertical-align: top;\n",
       "    }\n",
       "\n",
       "    .dataframe thead th {\n",
       "        text-align: right;\n",
       "    }\n",
       "</style>\n",
       "<table border=\"1\" class=\"dataframe\">\n",
       "  <thead>\n",
       "    <tr style=\"text-align: right;\">\n",
       "      <th>Sex</th>\n",
       "      <th>0.0</th>\n",
       "      <th>1.0</th>\n",
       "    </tr>\n",
       "    <tr>\n",
       "      <th>HeartDiseaseorAttack</th>\n",
       "      <th></th>\n",
       "      <th></th>\n",
       "    </tr>\n",
       "  </thead>\n",
       "  <tbody>\n",
       "    <tr>\n",
       "      <th>0.0</th>\n",
       "      <td>131769</td>\n",
       "      <td>98018</td>\n",
       "    </tr>\n",
       "    <tr>\n",
       "      <th>1.0</th>\n",
       "      <td>10205</td>\n",
       "      <td>13688</td>\n",
       "    </tr>\n",
       "  </tbody>\n",
       "</table>\n",
       "</div>"
      ],
      "text/plain": [
       "Sex                      0.0    1.0\n",
       "HeartDiseaseorAttack               \n",
       "0.0                   131769  98018\n",
       "1.0                    10205  13688"
      ]
     },
     "execution_count": 84,
     "metadata": {},
     "output_type": "execute_result"
    }
   ],
   "source": [
    "ct_heart_sex = pd.crosstab(hd_data['HeartDiseaseorAttack'], hd_data['Sex'])\n",
    "ct_heart_sex"
   ]
  },
  {
   "cell_type": "code",
   "execution_count": 85,
   "metadata": {},
   "outputs": [
    {
     "name": "stdout",
     "output_type": "stream",
     "text": [
      "0.4502885680686082 0.5366066884553464 0.37289823012679346 0.44498596682676717 0.0053026012418410096\n"
     ]
    }
   ],
   "source": [
    "# entropy:\n",
    "s0,s1 = ct_heart_sex.sum(axis=1)\n",
    "s2,s3 = ct_heart_sex.sum(axis=0)\n",
    "# Entropy for M(1):\n",
    "E_M = -ct_heart_sex[1][0]/s3*math.log2(ct_heart_sex[1][0]/s3)-ct_heart_sex[1][1]/s3*math.log2(ct_heart_sex[1][1]/s3)\n",
    "# Entropy for F(0):\n",
    "E_F = -ct_heart_sex[0][0]/s2*math.log2(ct_heart_sex[0][0]/s2)-ct_heart_sex[0][1]/s2*math.log2(ct_heart_sex[0][1]/s2)\n",
    "# E(heart disease|gender):\n",
    "E = s3/len(hd_data)*E_M + s2/len(hd_data)*E_F\n",
    "print(E_hd,E_M,E_F,E,E_hd-E)"
   ]
  },
  {
   "cell_type": "code",
   "execution_count": 86,
   "metadata": {},
   "outputs": [
    {
     "data": {
      "image/png": "[encoded data removed]",
      "text/plain": [
       "<Figure size 1080x720 with 1 Axes>"
      ]
     },
     "metadata": {},
     "output_type": "display_data"
    }
   ],
   "source": [
    "sns.barplot(x = 'HvyAlcoholConsump', y = 'Sex', data = hd_data)\n",
    "sns.set(rc = {'figure.figsize':(15,10)})"
   ]
  },
  {
   "cell_type": "code",
   "execution_count": 87,
   "metadata": {},
   "outputs": [
    {
     "data": {
      "text/html": [
       "<div>\n",
       "<style scoped>\n",
       "    .dataframe tbody tr th:only-of-type {\n",
       "        vertical-align: middle;\n",
       "    }\n",
       "\n",
       "    .dataframe tbody tr th {\n",
       "        vertical-align: top;\n",
       "    }\n",
       "\n",
       "    .dataframe thead th {\n",
       "        text-align: right;\n",
       "    }\n",
       "</style>\n",
       "<table border=\"1\" class=\"dataframe\">\n",
       "  <thead>\n",
       "    <tr style=\"text-align: right;\">\n",
       "      <th>Sex</th>\n",
       "      <th>0.0</th>\n",
       "      <th>1.0</th>\n",
       "      <th>Total</th>\n",
       "    </tr>\n",
       "    <tr>\n",
       "      <th>HeartDiseaseorAttack</th>\n",
       "      <th></th>\n",
       "      <th></th>\n",
       "      <th></th>\n",
       "    </tr>\n",
       "  </thead>\n",
       "  <tbody>\n",
       "    <tr>\n",
       "      <th>0.0</th>\n",
       "      <td>131769</td>\n",
       "      <td>98018</td>\n",
       "      <td>229787</td>\n",
       "    </tr>\n",
       "    <tr>\n",
       "      <th>1.0</th>\n",
       "      <td>10205</td>\n",
       "      <td>13688</td>\n",
       "      <td>23893</td>\n",
       "    </tr>\n",
       "    <tr>\n",
       "      <th>Total</th>\n",
       "      <td>141974</td>\n",
       "      <td>111706</td>\n",
       "      <td>253680</td>\n",
       "    </tr>\n",
       "  </tbody>\n",
       "</table>\n",
       "</div>"
      ],
      "text/plain": [
       "Sex                      0.0     1.0   Total\n",
       "HeartDiseaseorAttack                        \n",
       "0.0                   131769   98018  229787\n",
       "1.0                    10205   13688   23893\n",
       "Total                 141974  111706  253680"
      ]
     },
     "execution_count": 87,
     "metadata": {},
     "output_type": "execute_result"
    }
   ],
   "source": [
    "## contigency table with the column total\n",
    "ct_heart_sex.loc[:,'Total']= ct_heart_sex.sum(axis=1)\n",
    "ct_heart_sex.loc['Total']= ct_heart_sex.sum()\n",
    "ct_heart_sex"
   ]
  },
  {
   "cell_type": "code",
   "execution_count": 88,
   "metadata": {},
   "outputs": [
    {
     "data": {
      "text/html": [
       "<div>\n",
       "<style scoped>\n",
       "    .dataframe tbody tr th:only-of-type {\n",
       "        vertical-align: middle;\n",
       "    }\n",
       "\n",
       "    .dataframe tbody tr th {\n",
       "        vertical-align: top;\n",
       "    }\n",
       "\n",
       "    .dataframe thead th {\n",
       "        text-align: right;\n",
       "    }\n",
       "</style>\n",
       "<table border=\"1\" class=\"dataframe\">\n",
       "  <thead>\n",
       "    <tr style=\"text-align: right;\">\n",
       "      <th>Sex</th>\n",
       "      <th>0.0</th>\n",
       "      <th>1.0</th>\n",
       "      <th>Total</th>\n",
       "    </tr>\n",
       "    <tr>\n",
       "      <th>HeartDiseaseorAttack</th>\n",
       "      <th></th>\n",
       "      <th></th>\n",
       "      <th></th>\n",
       "    </tr>\n",
       "  </thead>\n",
       "  <tbody>\n",
       "    <tr>\n",
       "      <th>0.0</th>\n",
       "      <td>128602.095309</td>\n",
       "      <td>101184.904691</td>\n",
       "      <td>229787.0</td>\n",
       "    </tr>\n",
       "    <tr>\n",
       "      <th>1.0</th>\n",
       "      <td>13371.904691</td>\n",
       "      <td>10521.095309</td>\n",
       "      <td>23893.0</td>\n",
       "    </tr>\n",
       "    <tr>\n",
       "      <th>Total</th>\n",
       "      <td>141974.000000</td>\n",
       "      <td>111706.000000</td>\n",
       "      <td>253680.0</td>\n",
       "    </tr>\n",
       "  </tbody>\n",
       "</table>\n",
       "</div>"
      ],
      "text/plain": [
       "Sex                             0.0            1.0     Total\n",
       "HeartDiseaseorAttack                                        \n",
       "0.0                   128602.095309  101184.904691  229787.0\n",
       "1.0                    13371.904691   10521.095309   23893.0\n",
       "Total                 141974.000000  111706.000000  253680.0"
      ]
     },
     "execution_count": 88,
     "metadata": {},
     "output_type": "execute_result"
    }
   ],
   "source": [
    "## exped values of the values in contigency table\n",
    "ct_exp9 = ct_heart_sex.copy()\n",
    "ct_exp9.iloc[:,:] = np.multiply.outer(\n",
    "ct_exp9.sum(1).values,ct_heart_sex.sum().values)/ct_heart_sex.sum().sum()\n",
    "ct_exp9"
   ]
  },
  {
   "cell_type": "code",
   "execution_count": 89,
   "metadata": {},
   "outputs": [
    {
     "data": {
      "text/plain": [
       "1880.3868970373487"
      ]
     },
     "execution_count": 89,
     "metadata": {},
     "output_type": "execute_result"
    }
   ],
   "source": [
    "## calculating the \n",
    "ct_chi_9 = ((ct_heart_sex - ct_exp9)**2) / ct_exp9\n",
    "chi_square_9 = ct_chi_9.iloc[:-1,:-1].sum().sum()\n",
    "chi_square_9"
   ]
  },
  {
   "cell_type": "code",
   "execution_count": 90,
   "metadata": {},
   "outputs": [
    {
     "data": {
      "text/plain": [
       "0.0"
      ]
     },
     "execution_count": 90,
     "metadata": {},
     "output_type": "execute_result"
    }
   ],
   "source": [
    "p_value9 = stats.distributions.chi2.sf(chi_square_9, 1)\n",
    "p_value9"
   ]
  },
  {
   "cell_type": "markdown",
   "metadata": {},
   "source": [
    "## Education"
   ]
  },
  {
   "cell_type": "code",
   "execution_count": 91,
   "metadata": {},
   "outputs": [
    {
     "data": {
      "text/html": [
       "<div>\n",
       "<style scoped>\n",
       "    .dataframe tbody tr th:only-of-type {\n",
       "        vertical-align: middle;\n",
       "    }\n",
       "\n",
       "    .dataframe tbody tr th {\n",
       "        vertical-align: top;\n",
       "    }\n",
       "\n",
       "    .dataframe thead th {\n",
       "        text-align: right;\n",
       "    }\n",
       "</style>\n",
       "<table border=\"1\" class=\"dataframe\">\n",
       "  <thead>\n",
       "    <tr style=\"text-align: right;\">\n",
       "      <th>Education</th>\n",
       "      <th>1.0</th>\n",
       "      <th>2.0</th>\n",
       "      <th>3.0</th>\n",
       "      <th>4.0</th>\n",
       "      <th>5.0</th>\n",
       "      <th>6.0</th>\n",
       "    </tr>\n",
       "    <tr>\n",
       "      <th>HeartDiseaseorAttack</th>\n",
       "      <th></th>\n",
       "      <th></th>\n",
       "      <th></th>\n",
       "      <th></th>\n",
       "      <th></th>\n",
       "      <th></th>\n",
       "    </tr>\n",
       "  </thead>\n",
       "  <tbody>\n",
       "    <tr>\n",
       "      <th>0.0</th>\n",
       "      <td>145</td>\n",
       "      <td>3265</td>\n",
       "      <td>7860</td>\n",
       "      <td>55283</td>\n",
       "      <td>62992</td>\n",
       "      <td>100242</td>\n",
       "    </tr>\n",
       "    <tr>\n",
       "      <th>1.0</th>\n",
       "      <td>29</td>\n",
       "      <td>778</td>\n",
       "      <td>1618</td>\n",
       "      <td>7467</td>\n",
       "      <td>6918</td>\n",
       "      <td>7083</td>\n",
       "    </tr>\n",
       "  </tbody>\n",
       "</table>\n",
       "</div>"
      ],
      "text/plain": [
       "Education             1.0   2.0   3.0    4.0    5.0     6.0\n",
       "HeartDiseaseorAttack                                       \n",
       "0.0                   145  3265  7860  55283  62992  100242\n",
       "1.0                    29   778  1618   7467   6918    7083"
      ]
     },
     "execution_count": 91,
     "metadata": {},
     "output_type": "execute_result"
    }
   ],
   "source": [
    "ct_heart_education = pd.crosstab(hd_data['HeartDiseaseorAttack'], hd_data['Education'])\n",
    "ct_heart_education"
   ]
  },
  {
   "cell_type": "code",
   "execution_count": 92,
   "metadata": {},
   "outputs": [
    {
     "data": {
      "image/png": "[encoded data removed]",
      "text/plain": [
       "<Figure size 1080x720 with 1 Axes>"
      ]
     },
     "metadata": {},
     "output_type": "display_data"
    }
   ],
   "source": [
    "sns.barplot(x = 'Education', y = 'HeartDiseaseorAttack', data = hd_data)\n",
    "sns.set(rc = {'figure.figsize':(15,10)})"
   ]
  },
  {
   "cell_type": "markdown",
   "metadata": {},
   "source": [
    "## Income"
   ]
  },
  {
   "cell_type": "code",
   "execution_count": 93,
   "metadata": {},
   "outputs": [
    {
     "data": {
      "text/html": [
       "<div>\n",
       "<style scoped>\n",
       "    .dataframe tbody tr th:only-of-type {\n",
       "        vertical-align: middle;\n",
       "    }\n",
       "\n",
       "    .dataframe tbody tr th {\n",
       "        vertical-align: top;\n",
       "    }\n",
       "\n",
       "    .dataframe thead th {\n",
       "        text-align: right;\n",
       "    }\n",
       "</style>\n",
       "<table border=\"1\" class=\"dataframe\">\n",
       "  <thead>\n",
       "    <tr style=\"text-align: right;\">\n",
       "      <th>Income</th>\n",
       "      <th>1.0</th>\n",
       "      <th>2.0</th>\n",
       "      <th>3.0</th>\n",
       "      <th>4.0</th>\n",
       "      <th>5.0</th>\n",
       "      <th>6.0</th>\n",
       "      <th>7.0</th>\n",
       "      <th>8.0</th>\n",
       "    </tr>\n",
       "    <tr>\n",
       "      <th>HeartDiseaseorAttack</th>\n",
       "      <th></th>\n",
       "      <th></th>\n",
       "      <th></th>\n",
       "      <th></th>\n",
       "      <th></th>\n",
       "      <th></th>\n",
       "      <th></th>\n",
       "      <th></th>\n",
       "    </tr>\n",
       "  </thead>\n",
       "  <tbody>\n",
       "    <tr>\n",
       "      <th>0.0</th>\n",
       "      <td>8258</td>\n",
       "      <td>9586</td>\n",
       "      <td>13475</td>\n",
       "      <td>17307</td>\n",
       "      <td>22722</td>\n",
       "      <td>32824</td>\n",
       "      <td>39815</td>\n",
       "      <td>85800</td>\n",
       "    </tr>\n",
       "    <tr>\n",
       "      <th>1.0</th>\n",
       "      <td>1553</td>\n",
       "      <td>2197</td>\n",
       "      <td>2519</td>\n",
       "      <td>2828</td>\n",
       "      <td>3161</td>\n",
       "      <td>3646</td>\n",
       "      <td>3404</td>\n",
       "      <td>4585</td>\n",
       "    </tr>\n",
       "  </tbody>\n",
       "</table>\n",
       "</div>"
      ],
      "text/plain": [
       "Income                 1.0   2.0    3.0    4.0    5.0    6.0    7.0    8.0\n",
       "HeartDiseaseorAttack                                                      \n",
       "0.0                   8258  9586  13475  17307  22722  32824  39815  85800\n",
       "1.0                   1553  2197   2519   2828   3161   3646   3404   4585"
      ]
     },
     "execution_count": 93,
     "metadata": {},
     "output_type": "execute_result"
    }
   ],
   "source": [
    "ct_heart_Income = pd.crosstab(hd_data['HeartDiseaseorAttack'], hd_data['Income'])\n",
    "ct_heart_Income"
   ]
  },
  {
   "cell_type": "code",
   "execution_count": 94,
   "metadata": {},
   "outputs": [
    {
     "data": {
      "image/png": "[encoded data removed]",
      "text/plain": [
       "<Figure size 1080x720 with 1 Axes>"
      ]
     },
     "metadata": {},
     "output_type": "display_data"
    }
   ],
   "source": [
    "sns.barplot(x = 'Income', y = 'HeartDiseaseorAttack', data = hd_data)\n",
    "sns.set(rc = {'figure.figsize':(15,10)})"
   ]
  },
  {
   "cell_type": "code",
   "execution_count": 95,
   "metadata": {},
   "outputs": [
    {
     "data": {
      "text/html": [
       "<div>\n",
       "<style scoped>\n",
       "    .dataframe tbody tr th:only-of-type {\n",
       "        vertical-align: middle;\n",
       "    }\n",
       "\n",
       "    .dataframe tbody tr th {\n",
       "        vertical-align: top;\n",
       "    }\n",
       "\n",
       "    .dataframe thead th {\n",
       "        text-align: right;\n",
       "    }\n",
       "</style>\n",
       "<table border=\"1\" class=\"dataframe\">\n",
       "  <thead>\n",
       "    <tr style=\"text-align: right;\">\n",
       "      <th>Income</th>\n",
       "      <th>1.0</th>\n",
       "      <th>2.0</th>\n",
       "      <th>3.0</th>\n",
       "      <th>4.0</th>\n",
       "      <th>5.0</th>\n",
       "      <th>6.0</th>\n",
       "      <th>7.0</th>\n",
       "      <th>8.0</th>\n",
       "      <th>Total</th>\n",
       "    </tr>\n",
       "    <tr>\n",
       "      <th>HeartDiseaseorAttack</th>\n",
       "      <th></th>\n",
       "      <th></th>\n",
       "      <th></th>\n",
       "      <th></th>\n",
       "      <th></th>\n",
       "      <th></th>\n",
       "      <th></th>\n",
       "      <th></th>\n",
       "      <th></th>\n",
       "    </tr>\n",
       "  </thead>\n",
       "  <tbody>\n",
       "    <tr>\n",
       "      <th>0.0</th>\n",
       "      <td>8258</td>\n",
       "      <td>9586</td>\n",
       "      <td>13475</td>\n",
       "      <td>17307</td>\n",
       "      <td>22722</td>\n",
       "      <td>32824</td>\n",
       "      <td>39815</td>\n",
       "      <td>85800</td>\n",
       "      <td>229787</td>\n",
       "    </tr>\n",
       "    <tr>\n",
       "      <th>1.0</th>\n",
       "      <td>1553</td>\n",
       "      <td>2197</td>\n",
       "      <td>2519</td>\n",
       "      <td>2828</td>\n",
       "      <td>3161</td>\n",
       "      <td>3646</td>\n",
       "      <td>3404</td>\n",
       "      <td>4585</td>\n",
       "      <td>23893</td>\n",
       "    </tr>\n",
       "    <tr>\n",
       "      <th>Total</th>\n",
       "      <td>9811</td>\n",
       "      <td>11783</td>\n",
       "      <td>15994</td>\n",
       "      <td>20135</td>\n",
       "      <td>25883</td>\n",
       "      <td>36470</td>\n",
       "      <td>43219</td>\n",
       "      <td>90385</td>\n",
       "      <td>253680</td>\n",
       "    </tr>\n",
       "  </tbody>\n",
       "</table>\n",
       "</div>"
      ],
      "text/plain": [
       "Income                 1.0    2.0    3.0    4.0    5.0    6.0    7.0    8.0  \\\n",
       "HeartDiseaseorAttack                                                          \n",
       "0.0                   8258   9586  13475  17307  22722  32824  39815  85800   \n",
       "1.0                   1553   2197   2519   2828   3161   3646   3404   4585   \n",
       "Total                 9811  11783  15994  20135  25883  36470  43219  90385   \n",
       "\n",
       "Income                 Total  \n",
       "HeartDiseaseorAttack          \n",
       "0.0                   229787  \n",
       "1.0                    23893  \n",
       "Total                 253680  "
      ]
     },
     "execution_count": 95,
     "metadata": {},
     "output_type": "execute_result"
    }
   ],
   "source": [
    "## contigency table with the column total\n",
    "ct_heart_Income.loc[:,'Total']= ct_heart_Income.sum(axis=1)\n",
    "ct_heart_Income.loc['Total']= ct_heart_Income.sum()\n",
    "ct_heart_Income"
   ]
  },
  {
   "cell_type": "code",
   "execution_count": 96,
   "metadata": {},
   "outputs": [
    {
     "data": {
      "text/html": [
       "<div>\n",
       "<style scoped>\n",
       "    .dataframe tbody tr th:only-of-type {\n",
       "        vertical-align: middle;\n",
       "    }\n",
       "\n",
       "    .dataframe tbody tr th {\n",
       "        vertical-align: top;\n",
       "    }\n",
       "\n",
       "    .dataframe thead th {\n",
       "        text-align: right;\n",
       "    }\n",
       "</style>\n",
       "<table border=\"1\" class=\"dataframe\">\n",
       "  <thead>\n",
       "    <tr style=\"text-align: right;\">\n",
       "      <th>Income</th>\n",
       "      <th>1.0</th>\n",
       "      <th>2.0</th>\n",
       "      <th>3.0</th>\n",
       "      <th>4.0</th>\n",
       "      <th>5.0</th>\n",
       "      <th>6.0</th>\n",
       "      <th>7.0</th>\n",
       "      <th>8.0</th>\n",
       "      <th>Total</th>\n",
       "    </tr>\n",
       "    <tr>\n",
       "      <th>HeartDiseaseorAttack</th>\n",
       "      <th></th>\n",
       "      <th></th>\n",
       "      <th></th>\n",
       "      <th></th>\n",
       "      <th></th>\n",
       "      <th></th>\n",
       "      <th></th>\n",
       "      <th></th>\n",
       "      <th></th>\n",
       "    </tr>\n",
       "  </thead>\n",
       "  <tbody>\n",
       "    <tr>\n",
       "      <th>0.0</th>\n",
       "      <td>8886.945195</td>\n",
       "      <td>10673.211215</td>\n",
       "      <td>14487.595703</td>\n",
       "      <td>18238.573183</td>\n",
       "      <td>23445.194422</td>\n",
       "      <td>33035.0516</td>\n",
       "      <td>39148.393066</td>\n",
       "      <td>81872.035616</td>\n",
       "      <td>229787.0</td>\n",
       "    </tr>\n",
       "    <tr>\n",
       "      <th>1.0</th>\n",
       "      <td>924.054805</td>\n",
       "      <td>1109.788785</td>\n",
       "      <td>1506.404297</td>\n",
       "      <td>1896.426817</td>\n",
       "      <td>2437.805578</td>\n",
       "      <td>3434.9484</td>\n",
       "      <td>4070.606934</td>\n",
       "      <td>8512.964384</td>\n",
       "      <td>23893.0</td>\n",
       "    </tr>\n",
       "    <tr>\n",
       "      <th>Total</th>\n",
       "      <td>9811.000000</td>\n",
       "      <td>11783.000000</td>\n",
       "      <td>15994.000000</td>\n",
       "      <td>20135.000000</td>\n",
       "      <td>25883.000000</td>\n",
       "      <td>36470.0000</td>\n",
       "      <td>43219.000000</td>\n",
       "      <td>90385.000000</td>\n",
       "      <td>253680.0</td>\n",
       "    </tr>\n",
       "  </tbody>\n",
       "</table>\n",
       "</div>"
      ],
      "text/plain": [
       "Income                        1.0           2.0           3.0           4.0  \\\n",
       "HeartDiseaseorAttack                                                          \n",
       "0.0                   8886.945195  10673.211215  14487.595703  18238.573183   \n",
       "1.0                    924.054805   1109.788785   1506.404297   1896.426817   \n",
       "Total                 9811.000000  11783.000000  15994.000000  20135.000000   \n",
       "\n",
       "Income                         5.0         6.0           7.0           8.0  \\\n",
       "HeartDiseaseorAttack                                                         \n",
       "0.0                   23445.194422  33035.0516  39148.393066  81872.035616   \n",
       "1.0                    2437.805578   3434.9484   4070.606934   8512.964384   \n",
       "Total                 25883.000000  36470.0000  43219.000000  90385.000000   \n",
       "\n",
       "Income                   Total  \n",
       "HeartDiseaseorAttack            \n",
       "0.0                   229787.0  \n",
       "1.0                    23893.0  \n",
       "Total                 253680.0  "
      ]
     },
     "execution_count": 96,
     "metadata": {},
     "output_type": "execute_result"
    }
   ],
   "source": [
    "## exped values of the values in contigency table\n",
    "ct_exp10 = ct_heart_Income.copy()\n",
    "ct_exp10.iloc[:,:] = np.multiply.outer(\n",
    "ct_exp10.sum(1).values,ct_heart_Income.sum().values)/ct_heart_Income.sum().sum()\n",
    "ct_exp10"
   ]
  },
  {
   "cell_type": "code",
   "execution_count": 97,
   "metadata": {},
   "outputs": [
    {
     "data": {
      "text/plain": [
       "41.50739000839508"
      ]
     },
     "execution_count": 97,
     "metadata": {},
     "output_type": "execute_result"
    }
   ],
   "source": [
    "## calculating the \n",
    "ct_chi_10 = ((ct_heart_Income - ct_exp10)**2) / ct_exp9\n",
    "chi_square_10 = ct_chi_10.iloc[:-1,:-1].sum().sum()\n",
    "chi_square_10"
   ]
  },
  {
   "cell_type": "code",
   "execution_count": 98,
   "metadata": {},
   "outputs": [
    {
     "data": {
      "text/plain": [
       "1.1742619511075774e-10"
      ]
     },
     "execution_count": 98,
     "metadata": {},
     "output_type": "execute_result"
    }
   ],
   "source": [
    "p_value10 = stats.distributions.chi2.sf(chi_square_10, 1)\n",
    "p_value10"
   ]
  },
  {
   "cell_type": "code",
   "execution_count": 99,
   "metadata": {},
   "outputs": [],
   "source": [
    "## when p-value close to 0, we conclude Hear disease and that variable are correlated"
   ]
  },
  {
   "cell_type": "code",
   "execution_count": 100,
   "metadata": {},
   "outputs": [],
   "source": [
    "##p < 0.05 — this means the two categorical variables are correlated.\n",
    "##p > 0.05 — this means the two categorical variables are not correlated."
   ]
  },
  {
   "cell_type": "markdown",
   "metadata": {},
   "source": [
    "## BMI"
   ]
  },
  {
   "cell_type": "code",
   "execution_count": 101,
   "metadata": {},
   "outputs": [
    {
     "data": {
      "text/plain": [
       "0.06365905280702765"
      ]
     },
     "execution_count": 101,
     "metadata": {},
     "output_type": "execute_result"
    }
   ],
   "source": [
    "from scipy.stats import spearmanr\n",
    "spearmanr(hd_data['HeartDiseaseorAttack'], hd_data['BMI'])[0]"
   ]
  },
  {
   "cell_type": "markdown",
   "metadata": {},
   "source": [
    "## PhysHlth"
   ]
  },
  {
   "cell_type": "code",
   "execution_count": 102,
   "metadata": {},
   "outputs": [
    {
     "data": {
      "text/plain": [
       "0.15663009816788884"
      ]
     },
     "execution_count": 102,
     "metadata": {},
     "output_type": "execute_result"
    }
   ],
   "source": [
    "spearmanr(hd_data['HeartDiseaseorAttack'], hd_data['PhysHlth'])[0]"
   ]
  },
  {
   "cell_type": "code",
   "execution_count": 103,
   "metadata": {},
   "outputs": [
    {
     "data": {
      "text/html": [
       "<div>\n",
       "<style scoped>\n",
       "    .dataframe tbody tr th:only-of-type {\n",
       "        vertical-align: middle;\n",
       "    }\n",
       "\n",
       "    .dataframe tbody tr th {\n",
       "        vertical-align: top;\n",
       "    }\n",
       "\n",
       "    .dataframe thead th {\n",
       "        text-align: right;\n",
       "    }\n",
       "</style>\n",
       "<table border=\"1\" class=\"dataframe\">\n",
       "  <thead>\n",
       "    <tr style=\"text-align: right;\">\n",
       "      <th>PhysHlth</th>\n",
       "      <th>0.0</th>\n",
       "      <th>1.0</th>\n",
       "      <th>2.0</th>\n",
       "      <th>3.0</th>\n",
       "      <th>4.0</th>\n",
       "      <th>5.0</th>\n",
       "      <th>6.0</th>\n",
       "      <th>7.0</th>\n",
       "      <th>8.0</th>\n",
       "      <th>9.0</th>\n",
       "      <th>...</th>\n",
       "      <th>21.0</th>\n",
       "      <th>22.0</th>\n",
       "      <th>23.0</th>\n",
       "      <th>24.0</th>\n",
       "      <th>25.0</th>\n",
       "      <th>26.0</th>\n",
       "      <th>27.0</th>\n",
       "      <th>28.0</th>\n",
       "      <th>29.0</th>\n",
       "      <th>30.0</th>\n",
       "    </tr>\n",
       "    <tr>\n",
       "      <th>HeartDiseaseorAttack</th>\n",
       "      <th></th>\n",
       "      <th></th>\n",
       "      <th></th>\n",
       "      <th></th>\n",
       "      <th></th>\n",
       "      <th></th>\n",
       "      <th></th>\n",
       "      <th></th>\n",
       "      <th></th>\n",
       "      <th></th>\n",
       "      <th></th>\n",
       "      <th></th>\n",
       "      <th></th>\n",
       "      <th></th>\n",
       "      <th></th>\n",
       "      <th></th>\n",
       "      <th></th>\n",
       "      <th></th>\n",
       "      <th></th>\n",
       "      <th></th>\n",
       "      <th></th>\n",
       "    </tr>\n",
       "  </thead>\n",
       "  <tbody>\n",
       "    <tr>\n",
       "      <th>0.0</th>\n",
       "      <td>149502</td>\n",
       "      <td>10770</td>\n",
       "      <td>13593</td>\n",
       "      <td>7667</td>\n",
       "      <td>4000</td>\n",
       "      <td>6713</td>\n",
       "      <td>1115</td>\n",
       "      <td>4012</td>\n",
       "      <td>691</td>\n",
       "      <td>158</td>\n",
       "      <td>...</td>\n",
       "      <td>565</td>\n",
       "      <td>57</td>\n",
       "      <td>43</td>\n",
       "      <td>60</td>\n",
       "      <td>1040</td>\n",
       "      <td>51</td>\n",
       "      <td>76</td>\n",
       "      <td>394</td>\n",
       "      <td>151</td>\n",
       "      <td>14771</td>\n",
       "    </tr>\n",
       "    <tr>\n",
       "      <th>1.0</th>\n",
       "      <td>10550</td>\n",
       "      <td>618</td>\n",
       "      <td>1171</td>\n",
       "      <td>828</td>\n",
       "      <td>542</td>\n",
       "      <td>909</td>\n",
       "      <td>215</td>\n",
       "      <td>526</td>\n",
       "      <td>118</td>\n",
       "      <td>21</td>\n",
       "      <td>...</td>\n",
       "      <td>98</td>\n",
       "      <td>13</td>\n",
       "      <td>13</td>\n",
       "      <td>12</td>\n",
       "      <td>296</td>\n",
       "      <td>18</td>\n",
       "      <td>23</td>\n",
       "      <td>128</td>\n",
       "      <td>64</td>\n",
       "      <td>4629</td>\n",
       "    </tr>\n",
       "  </tbody>\n",
       "</table>\n",
       "<p>2 rows × 31 columns</p>\n",
       "</div>"
      ],
      "text/plain": [
       "PhysHlth                0.0    1.0    2.0   3.0   4.0   5.0   6.0   7.0   \\\n",
       "HeartDiseaseorAttack                                                       \n",
       "0.0                   149502  10770  13593  7667  4000  6713  1115  4012   \n",
       "1.0                    10550    618   1171   828   542   909   215   526   \n",
       "\n",
       "PhysHlth              8.0   9.0   ...  21.0  22.0  23.0  24.0  25.0  26.0  \\\n",
       "HeartDiseaseorAttack              ...                                       \n",
       "0.0                    691   158  ...   565    57    43    60  1040    51   \n",
       "1.0                    118    21  ...    98    13    13    12   296    18   \n",
       "\n",
       "PhysHlth              27.0  28.0  29.0   30.0  \n",
       "HeartDiseaseorAttack                           \n",
       "0.0                     76   394   151  14771  \n",
       "1.0                     23   128    64   4629  \n",
       "\n",
       "[2 rows x 31 columns]"
      ]
     },
     "execution_count": 103,
     "metadata": {},
     "output_type": "execute_result"
    }
   ],
   "source": [
    "ct_p_h = pd.crosstab(hd_data['HeartDiseaseorAttack'],hd_data['PhysHlth'])\n",
    "ct_p_h"
   ]
  },
  {
   "cell_type": "code",
   "execution_count": 104,
   "metadata": {},
   "outputs": [
    {
     "data": {
      "text/plain": [
       "0.02073860200476113"
      ]
     },
     "execution_count": 104,
     "metadata": {},
     "output_type": "execute_result"
    }
   ],
   "source": [
    "E_hd-sum(ct_p_h.sum(axis=0)/len(hd_data)*entropy(ct_p_h, base=2))"
   ]
  },
  {
   "cell_type": "markdown",
   "metadata": {},
   "source": [
    "## MentHlth"
   ]
  },
  {
   "cell_type": "code",
   "execution_count": 105,
   "metadata": {},
   "outputs": [
    {
     "data": {
      "text/plain": [
       "0.03476296703402453"
      ]
     },
     "execution_count": 105,
     "metadata": {},
     "output_type": "execute_result"
    }
   ],
   "source": [
    "spearmanr(hd_data['HeartDiseaseorAttack'], hd_data['MentHlth'])[0]"
   ]
  },
  {
   "cell_type": "code",
   "execution_count": 106,
   "metadata": {},
   "outputs": [
    {
     "data": {
      "text/html": [
       "<div>\n",
       "<style scoped>\n",
       "    .dataframe tbody tr th:only-of-type {\n",
       "        vertical-align: middle;\n",
       "    }\n",
       "\n",
       "    .dataframe tbody tr th {\n",
       "        vertical-align: top;\n",
       "    }\n",
       "\n",
       "    .dataframe thead th {\n",
       "        text-align: right;\n",
       "    }\n",
       "</style>\n",
       "<table border=\"1\" class=\"dataframe\">\n",
       "  <thead>\n",
       "    <tr style=\"text-align: right;\">\n",
       "      <th>MentHlth</th>\n",
       "      <th>0.0</th>\n",
       "      <th>1.0</th>\n",
       "      <th>2.0</th>\n",
       "      <th>3.0</th>\n",
       "      <th>4.0</th>\n",
       "      <th>5.0</th>\n",
       "      <th>6.0</th>\n",
       "      <th>7.0</th>\n",
       "      <th>8.0</th>\n",
       "      <th>9.0</th>\n",
       "      <th>...</th>\n",
       "      <th>21.0</th>\n",
       "      <th>22.0</th>\n",
       "      <th>23.0</th>\n",
       "      <th>24.0</th>\n",
       "      <th>25.0</th>\n",
       "      <th>26.0</th>\n",
       "      <th>27.0</th>\n",
       "      <th>28.0</th>\n",
       "      <th>29.0</th>\n",
       "      <th>30.0</th>\n",
       "    </tr>\n",
       "    <tr>\n",
       "      <th>HeartDiseaseorAttack</th>\n",
       "      <th></th>\n",
       "      <th></th>\n",
       "      <th></th>\n",
       "      <th></th>\n",
       "      <th></th>\n",
       "      <th></th>\n",
       "      <th></th>\n",
       "      <th></th>\n",
       "      <th></th>\n",
       "      <th></th>\n",
       "      <th></th>\n",
       "      <th></th>\n",
       "      <th></th>\n",
       "      <th></th>\n",
       "      <th></th>\n",
       "      <th></th>\n",
       "      <th></th>\n",
       "      <th></th>\n",
       "      <th></th>\n",
       "      <th></th>\n",
       "      <th></th>\n",
       "    </tr>\n",
       "  </thead>\n",
       "  <tbody>\n",
       "    <tr>\n",
       "      <th>0.0</th>\n",
       "      <td>159876</td>\n",
       "      <td>8043</td>\n",
       "      <td>12098</td>\n",
       "      <td>6785</td>\n",
       "      <td>3464</td>\n",
       "      <td>8218</td>\n",
       "      <td>874</td>\n",
       "      <td>2833</td>\n",
       "      <td>574</td>\n",
       "      <td>85</td>\n",
       "      <td>...</td>\n",
       "      <td>188</td>\n",
       "      <td>54</td>\n",
       "      <td>35</td>\n",
       "      <td>27</td>\n",
       "      <td>1007</td>\n",
       "      <td>38</td>\n",
       "      <td>68</td>\n",
       "      <td>283</td>\n",
       "      <td>130</td>\n",
       "      <td>10080</td>\n",
       "    </tr>\n",
       "    <tr>\n",
       "      <th>1.0</th>\n",
       "      <td>15804</td>\n",
       "      <td>495</td>\n",
       "      <td>956</td>\n",
       "      <td>596</td>\n",
       "      <td>325</td>\n",
       "      <td>812</td>\n",
       "      <td>114</td>\n",
       "      <td>267</td>\n",
       "      <td>65</td>\n",
       "      <td>6</td>\n",
       "      <td>...</td>\n",
       "      <td>39</td>\n",
       "      <td>9</td>\n",
       "      <td>3</td>\n",
       "      <td>6</td>\n",
       "      <td>181</td>\n",
       "      <td>7</td>\n",
       "      <td>11</td>\n",
       "      <td>44</td>\n",
       "      <td>28</td>\n",
       "      <td>2008</td>\n",
       "    </tr>\n",
       "  </tbody>\n",
       "</table>\n",
       "<p>2 rows × 31 columns</p>\n",
       "</div>"
      ],
      "text/plain": [
       "MentHlth                0.0   1.0    2.0   3.0   4.0   5.0   6.0   7.0   8.0   \\\n",
       "HeartDiseaseorAttack                                                            \n",
       "0.0                   159876  8043  12098  6785  3464  8218   874  2833   574   \n",
       "1.0                    15804   495    956   596   325   812   114   267    65   \n",
       "\n",
       "MentHlth              9.0   ...  21.0  22.0  23.0  24.0  25.0  26.0  27.0  \\\n",
       "HeartDiseaseorAttack        ...                                             \n",
       "0.0                     85  ...   188    54    35    27  1007    38    68   \n",
       "1.0                      6  ...    39     9     3     6   181     7    11   \n",
       "\n",
       "MentHlth              28.0  29.0   30.0  \n",
       "HeartDiseaseorAttack                     \n",
       "0.0                    283   130  10080  \n",
       "1.0                     44    28   2008  \n",
       "\n",
       "[2 rows x 31 columns]"
      ]
     },
     "execution_count": 106,
     "metadata": {},
     "output_type": "execute_result"
    }
   ],
   "source": [
    "ct_m_h = pd.crosstab(hd_data['HeartDiseaseorAttack'],hd_data['MentHlth'])\n",
    "ct_m_h"
   ]
  },
  {
   "cell_type": "code",
   "execution_count": 107,
   "metadata": {},
   "outputs": [
    {
     "data": {
      "text/plain": [
       "0.0033157547187970815"
      ]
     },
     "execution_count": 107,
     "metadata": {},
     "output_type": "execute_result"
    }
   ],
   "source": [
    "E_hd-sum(ct_m_h.sum(axis=0)/len(hd_data)*entropy(ct_m_h, base=2))"
   ]
  },
  {
   "cell_type": "code",
   "execution_count": 108,
   "metadata": {},
   "outputs": [],
   "source": [
    "## Since these correlation numbers are not relatively low\n",
    "## We remove these variables from the dataset before doing the pred models"
   ]
  },
  {
   "cell_type": "markdown",
   "metadata": {},
   "source": [
    "## KNN"
   ]
  },
  {
   "cell_type": "code",
   "execution_count": 109,
   "metadata": {},
   "outputs": [],
   "source": [
    "hd_data.drop(columns=['BMI','PhysHlth', 'MentHlth'],inplace=True)"
   ]
  },
  {
   "cell_type": "code",
   "execution_count": 110,
   "metadata": {},
   "outputs": [],
   "source": [
    "from sklearn.model_selection import train_test_split\n",
    "import sklearn.metrics\n",
    "from sklearn.neighbors import KNeighborsClassifier\n",
    "from sklearn.model_selection import cross_val_score"
   ]
  },
  {
   "cell_type": "code",
   "execution_count": 113,
   "metadata": {},
   "outputs": [
    {
     "data": {
      "text/plain": [
       "KNeighborsClassifier(n_neighbors=3)"
      ]
     },
     "execution_count": 113,
     "metadata": {},
     "output_type": "execute_result"
    }
   ],
   "source": [
    "x_train, x_test, y_train, y_test = train_test_split(hd_data.loc[:, hd_data.columns != 'HeartDiseaseorAttack'], hd_data['HeartDiseaseorAttack'], test_size = 0.2, random_state = 1, stratify = hd_data['HeartDiseaseorAttack'])\n",
    "# Create KNN classifier\n",
    "knn = KNeighborsClassifier(n_neighbors = 3)\n",
    "# Fit the classifier to the data\n",
    "knn.fit(x_train,y_train)"
   ]
  },
  {
   "cell_type": "code",
   "execution_count": 114,
   "metadata": {},
   "outputs": [
    {
     "name": "stdout",
     "output_type": "stream",
     "text": [
      "[0.88946705 0.89007805 0.89092558 0.88812677 0.88875749]\n",
      "cv_scores mean:0.8894709870703249\n"
     ]
    }
   ],
   "source": [
    "#create a new KNN model\n",
    "knn_cv = KNeighborsClassifier(n_neighbors=3)\n",
    "\n",
    "#Cross validation KNN model\n",
    "cv_scores = cross_val_score(knn_cv, hd_data.loc[:, hd_data.columns != 'HeartDiseaseorAttack'], hd_data['HeartDiseaseorAttack'], cv=5)\n",
    "#print each accuracy and average them\n",
    "print(cv_scores)\n",
    "print('cv_scores mean:{}'.format(np.mean(cv_scores)))"
   ]
  },
  {
   "cell_type": "markdown",
   "metadata": {},
   "source": [
    "## Logistic Regression"
   ]
  },
  {
   "cell_type": "code",
   "execution_count": 137,
   "metadata": {},
   "outputs": [
    {
     "name": "stderr",
     "output_type": "stream",
     "text": [
      "/Users/louiseli/opt/anaconda3/lib/python3.8/site-packages/sklearn/linear_model/_logistic.py:763: ConvergenceWarning: lbfgs failed to converge (status=1):\n",
      "STOP: TOTAL NO. of ITERATIONS REACHED LIMIT.\n",
      "\n",
      "Increase the number of iterations (max_iter) or scale the data as shown in:\n",
      "    https://scikit-learn.org/stable/modules/preprocessing.html\n",
      "Please also refer to the documentation for alternative solver options:\n",
      "    https://scikit-learn.org/stable/modules/linear_model.html#logistic-regression\n",
      "  n_iter_i = _check_optimize_result(\n"
     ]
    },
    {
     "data": {
      "text/plain": [
       "array([0., 1., 0., ..., 0., 0., 0.])"
      ]
     },
     "execution_count": 137,
     "metadata": {},
     "output_type": "execute_result"
    }
   ],
   "source": [
    "hd_data = pd.read_csv(\"heart_disease_health_indicators_BRFSS2015.csv\")\n",
    "hd_data.drop(columns=['BMI','PhysHlth', 'MentHlth'],inplace=True)\n",
    "from sklearn.linear_model import LogisticRegression\n",
    "\n",
    "x_train, x_test, y_train, y_test = train_test_split(hd_data.loc[:, hd_data.columns != 'HeartDiseaseorAttack'], hd_data['HeartDiseaseorAttack'], test_size = 0.2, random_state = 1, stratify = hd_data['HeartDiseaseorAttack'])\n",
    "logreg = LogisticRegression()\n",
    "logreg.fit(x_train,y_train)\n",
    "\n",
    "y_pred = logreg.predict(x_test)\n",
    "y_pred"
   ]
  },
  {
   "cell_type": "code",
   "execution_count": 138,
   "metadata": {},
   "outputs": [
    {
     "data": {
      "text/plain": [
       "array([[45428,   529],\n",
       "       [ 4139,   640]])"
      ]
     },
     "execution_count": 138,
     "metadata": {},
     "output_type": "execute_result"
    }
   ],
   "source": [
    "confusion_matrix = confusion_matrix(y_test, y_pred)\n",
    "confusion_matrix"
   ]
  },
  {
   "cell_type": "code",
   "execution_count": 143,
   "metadata": {},
   "outputs": [
    {
     "data": {
      "text/plain": [
       "Text(0.5, 637.6, 'Predicted label')"
      ]
     },
     "execution_count": 143,
     "metadata": {},
     "output_type": "execute_result"
    },
    {
     "data": {
      "image/png": "[encoded data removed]",
      "text/plain": [
       "<Figure size 1080x720 with 2 Axes>"
      ]
     },
     "metadata": {},
     "output_type": "display_data"
    }
   ],
   "source": [
    "import seaborn as sns\n",
    "import matplotlib.pyplot as plt\n",
    "fig, ax = plt.subplots()\n",
    "class_names=[0,1]\n",
    "sns.heatmap(pd.DataFrame(confusion_matrix), annot=True, cmap=\"Blues\" ,fmt='g')\n",
    "ax.xaxis.set_label_position(\"top\")\n",
    "plt.tight_layout()\n",
    "plt.title('Confusion matrix', y=1.1)\n",
    "plt.ylabel('Actual label')\n",
    "plt.xlabel('Predicted label')"
   ]
  },
  {
   "cell_type": "code",
   "execution_count": 141,
   "metadata": {},
   "outputs": [
    {
     "name": "stdout",
     "output_type": "stream",
     "text": [
      "Accuracy: 0.9079943235572374\n"
     ]
    }
   ],
   "source": [
    "print(\"Accuracy:\",sklearn.metrics.accuracy_score(y_test, y_pred))"
   ]
  },
  {
   "cell_type": "markdown",
   "metadata": {},
   "source": [
    "## Split data, Possible classifier(MLP)"
   ]
  },
  {
   "cell_type": "code",
   "execution_count": 115,
   "metadata": {},
   "outputs": [],
   "source": [
    "# Related variable: highchol 0.02,highBP 0.03, Physical Activity 0.05,General Health 0.046, DiffWalk 0.026,Physical Health 0.02\n",
    "hd_data = pd.read_csv(\"heart_disease_health_indicators_BRFSS2015.csv\")"
   ]
  },
  {
   "cell_type": "code",
   "execution_count": 116,
   "metadata": {},
   "outputs": [],
   "source": [
    "from sklearn.neural_network import MLPClassifier\n",
    "from sklearn.model_selection import train_test_split\n",
    "from sklearn.feature_selection import SelectKBest\n",
    "from sklearn.feature_selection import chi2\n",
    "from sklearn.metrics import confusion_matrix"
   ]
  },
  {
   "cell_type": "code",
   "execution_count": 117,
   "metadata": {},
   "outputs": [],
   "source": [
    "X = hd_data.copy()\n",
    "X = X.drop(['HeartDiseaseorAttack'],axis=1)\n",
    "y = hd_data['HeartDiseaseorAttack']"
   ]
  },
  {
   "cell_type": "code",
   "execution_count": 118,
   "metadata": {},
   "outputs": [],
   "source": [
    "X_train, X_test, y_train, y_test = train_test_split(X, y, test_size = 0.2, random_state=10)"
   ]
  },
  {
   "cell_type": "code",
   "execution_count": 119,
   "metadata": {},
   "outputs": [
    {
     "name": "stdout",
     "output_type": "stream",
     "text": [
      "<class 'pandas.core.frame.DataFrame'>\n",
      "RangeIndex: 253680 entries, 0 to 253679\n",
      "Data columns (total 21 columns):\n",
      " #   Column             Non-Null Count   Dtype  \n",
      "---  ------             --------------   -----  \n",
      " 0   HighBP             253680 non-null  float64\n",
      " 1   HighChol           253680 non-null  float64\n",
      " 2   CholCheck          253680 non-null  float64\n",
      " 3   BMI                253680 non-null  float64\n",
      " 4   Smoker             253680 non-null  float64\n",
      " 5   Stroke             253680 non-null  float64\n",
      " 6   Diabetes           253680 non-null  float64\n",
      " 7   PhysActivity       253680 non-null  float64\n",
      " 8   Fruits             253680 non-null  float64\n",
      " 9   Veggies            253680 non-null  float64\n",
      " 10  HvyAlcoholConsump  253680 non-null  float64\n",
      " 11  AnyHealthcare      253680 non-null  float64\n",
      " 12  NoDocbcCost        253680 non-null  float64\n",
      " 13  GenHlth            253680 non-null  float64\n",
      " 14  MentHlth           253680 non-null  float64\n",
      " 15  PhysHlth           253680 non-null  float64\n",
      " 16  DiffWalk           253680 non-null  float64\n",
      " 17  Sex                253680 non-null  float64\n",
      " 18  Age                253680 non-null  float64\n",
      " 19  Education          253680 non-null  float64\n",
      " 20  Income             253680 non-null  float64\n",
      "dtypes: float64(21)\n",
      "memory usage: 40.6 MB\n"
     ]
    }
   ],
   "source": [
    "X.info()"
   ]
  },
  {
   "cell_type": "markdown",
   "metadata": {},
   "source": [
    "### by using the entropy feacture selection (>0.02):"
   ]
  },
  {
   "cell_type": "code",
   "execution_count": 120,
   "metadata": {},
   "outputs": [],
   "source": [
    "X_train = X_train.drop(['CholCheck','BMI','Smoker','Stroke','Diabetes','Fruits','Veggies','HvyAlcoholConsump','AnyHealthcare',\n",
    "                       'NoDocbcCost','MentHlth','Sex','Age','Education','Income'],axis=1)\n",
    "X_test = X_test.drop(['CholCheck','BMI','Smoker','Stroke','Diabetes','Fruits','Veggies','HvyAlcoholConsump','AnyHealthcare',\n",
    "                       'NoDocbcCost','MentHlth','Sex','Age','Education','Income'],axis=1)"
   ]
  },
  {
   "cell_type": "code",
   "execution_count": 121,
   "metadata": {},
   "outputs": [
    {
     "data": {
      "text/html": [
       "<div>\n",
       "<style scoped>\n",
       "    .dataframe tbody tr th:only-of-type {\n",
       "        vertical-align: middle;\n",
       "    }\n",
       "\n",
       "    .dataframe tbody tr th {\n",
       "        vertical-align: top;\n",
       "    }\n",
       "\n",
       "    .dataframe thead th {\n",
       "        text-align: right;\n",
       "    }\n",
       "</style>\n",
       "<table border=\"1\" class=\"dataframe\">\n",
       "  <thead>\n",
       "    <tr style=\"text-align: right;\">\n",
       "      <th></th>\n",
       "      <th>HighBP</th>\n",
       "      <th>HighChol</th>\n",
       "      <th>PhysActivity</th>\n",
       "      <th>GenHlth</th>\n",
       "      <th>PhysHlth</th>\n",
       "      <th>DiffWalk</th>\n",
       "    </tr>\n",
       "  </thead>\n",
       "  <tbody>\n",
       "    <tr>\n",
       "      <th>218521</th>\n",
       "      <td>0.0</td>\n",
       "      <td>1.0</td>\n",
       "      <td>1.0</td>\n",
       "      <td>2.0</td>\n",
       "      <td>0.0</td>\n",
       "      <td>0.0</td>\n",
       "    </tr>\n",
       "    <tr>\n",
       "      <th>163132</th>\n",
       "      <td>0.0</td>\n",
       "      <td>0.0</td>\n",
       "      <td>1.0</td>\n",
       "      <td>2.0</td>\n",
       "      <td>0.0</td>\n",
       "      <td>0.0</td>\n",
       "    </tr>\n",
       "    <tr>\n",
       "      <th>94025</th>\n",
       "      <td>1.0</td>\n",
       "      <td>1.0</td>\n",
       "      <td>1.0</td>\n",
       "      <td>2.0</td>\n",
       "      <td>0.0</td>\n",
       "      <td>0.0</td>\n",
       "    </tr>\n",
       "    <tr>\n",
       "      <th>83692</th>\n",
       "      <td>1.0</td>\n",
       "      <td>1.0</td>\n",
       "      <td>1.0</td>\n",
       "      <td>3.0</td>\n",
       "      <td>0.0</td>\n",
       "      <td>1.0</td>\n",
       "    </tr>\n",
       "    <tr>\n",
       "      <th>24066</th>\n",
       "      <td>0.0</td>\n",
       "      <td>0.0</td>\n",
       "      <td>0.0</td>\n",
       "      <td>3.0</td>\n",
       "      <td>15.0</td>\n",
       "      <td>0.0</td>\n",
       "    </tr>\n",
       "  </tbody>\n",
       "</table>\n",
       "</div>"
      ],
      "text/plain": [
       "        HighBP  HighChol  PhysActivity  GenHlth  PhysHlth  DiffWalk\n",
       "218521     0.0       1.0           1.0      2.0       0.0       0.0\n",
       "163132     0.0       0.0           1.0      2.0       0.0       0.0\n",
       "94025      1.0       1.0           1.0      2.0       0.0       0.0\n",
       "83692      1.0       1.0           1.0      3.0       0.0       1.0\n",
       "24066      0.0       0.0           0.0      3.0      15.0       0.0"
      ]
     },
     "execution_count": 121,
     "metadata": {},
     "output_type": "execute_result"
    }
   ],
   "source": [
    "X_train.head()"
   ]
  },
  {
   "cell_type": "code",
   "execution_count": 122,
   "metadata": {},
   "outputs": [],
   "source": [
    "model = MLPClassifier(solver = 'sgd', activation = 'logistic', learning_rate_init = 0.1, hidden_layer_sizes = (10, 2), max_iter = 300).fit(X_train, y_train)\n"
   ]
  },
  {
   "cell_type": "code",
   "execution_count": 123,
   "metadata": {},
   "outputs": [
    {
     "name": "stdout",
     "output_type": "stream",
     "text": [
      "Test MSE:  0.095218385367392 Accuracy:  0.904781614632608\n"
     ]
    }
   ],
   "source": [
    "from sklearn.metrics import mean_squared_error\n",
    "pred_test = model.predict(X_test)\n",
    "print('Test MSE: ',mean_squared_error(y_test, pred_test),'Accuracy: ',model.score(X_test, y_test))"
   ]
  },
  {
   "cell_type": "code",
   "execution_count": 124,
   "metadata": {},
   "outputs": [
    {
     "data": {
      "text/plain": [
       "array([[45905,  4831],\n",
       "       [    0,     0]])"
      ]
     },
     "execution_count": 124,
     "metadata": {},
     "output_type": "execute_result"
    }
   ],
   "source": [
    "confusion_matrix(pred_test,y_test)"
   ]
  },
  {
   "cell_type": "code",
   "execution_count": 125,
   "metadata": {},
   "outputs": [
    {
     "name": "stdout",
     "output_type": "stream",
     "text": [
      "Train MSE:  0.09392738883632923 Accuracy:  0.9060726111636708\n"
     ]
    }
   ],
   "source": [
    "pred_train = model.predict(X_train)\n",
    "print('Train MSE: ',mean_squared_error(y_train, pred_train),'Accuracy: ',model.score(X_train, y_train))"
   ]
  },
  {
   "cell_type": "code",
   "execution_count": 126,
   "metadata": {},
   "outputs": [
    {
     "data": {
      "text/plain": [
       "array([[183882,  19062],\n",
       "       [     0,      0]])"
      ]
     },
     "execution_count": 126,
     "metadata": {},
     "output_type": "execute_result"
    }
   ],
   "source": [
    "confusion_matrix(pred_train,y_train)"
   ]
  },
  {
   "cell_type": "markdown",
   "metadata": {},
   "source": [
    "### by using the feature selection function(chi-square>3000):"
   ]
  },
  {
   "cell_type": "code",
   "execution_count": 127,
   "metadata": {},
   "outputs": [
    {
     "name": "stdout",
     "output_type": "stream",
     "text": [
      "Feature 0: 6349.125913\n",
      "Feature 1: 4773.620749\n",
      "Feature 2: 18.505835\n",
      "Feature 3: 1092.568061\n",
      "Feature 4: 1850.013591\n",
      "Feature 5: 10029.967794\n",
      "Feature 6: 13533.426473\n",
      "Feature 7: 470.679946\n",
      "Feature 8: 36.338801\n",
      "Feature 9: 73.389137\n",
      "Feature 10: 201.223900\n",
      "Feature 11: 4.357991\n",
      "Feature 12: 223.261033\n",
      "Feature 13: 7698.920849\n",
      "Feature 14: 18277.948957\n",
      "Feature 15: 150048.810346\n",
      "Feature 16: 9546.918915\n",
      "Feature 17: 1052.373263\n",
      "Feature 18: 14469.840724\n",
      "Feature 19: 484.204323\n",
      "Feature 20: 3574.214124\n"
     ]
    }
   ],
   "source": [
    "X_train_2, X_test_2, y_train_2, y_test_2 = train_test_split(X, y, test_size = 0.2, random_state=10)\n",
    "fs = SelectKBest(score_func=chi2, k='all')\n",
    "fs.fit(X, y)\n",
    "for i in range(len(fs.scores_)):\n",
    "    print('Feature %d: %f' % (i, fs.scores_[i]))"
   ]
  },
  {
   "cell_type": "code",
   "execution_count": 128,
   "metadata": {},
   "outputs": [],
   "source": [
    "X_train_2 = X_train_2.drop(['CholCheck','BMI','Smoker','PhysActivity','Fruits','Veggies','HvyAlcoholConsump','AnyHealthcare',\n",
    "                       'NoDocbcCost','Sex','Education'],axis=1)\n",
    "X_test_2 = X_test_2.drop(['CholCheck','BMI','Smoker','PhysActivity','Fruits','Veggies','HvyAlcoholConsump','AnyHealthcare',\n",
    "                     'NoDocbcCost','Sex','Education'],axis=1)"
   ]
  },
  {
   "cell_type": "code",
   "execution_count": 129,
   "metadata": {},
   "outputs": [
    {
     "name": "stdout",
     "output_type": "stream",
     "text": [
      "Test MSE:  0.09437086092715231 Accuracy:  0.9056291390728477\n"
     ]
    }
   ],
   "source": [
    "model_2 = MLPClassifier(solver = 'sgd', activation = 'logistic', learning_rate_init = 0.1,hidden_layer_sizes = (10, 2), max_iter = 300).fit(X_train_2, y_train_2)\n",
    "pred_test_2 = model_2.predict(X_test_2)\n",
    "print('Test MSE: ',mean_squared_error(y_test_2, pred_test_2),'Accuracy: ',model_2.score(X_test_2, y_test_2))"
   ]
  },
  {
   "cell_type": "code",
   "execution_count": 130,
   "metadata": {},
   "outputs": [
    {
     "data": {
      "text/plain": [
       "array([[45841,  4724],\n",
       "       [   64,   107]])"
      ]
     },
     "execution_count": 130,
     "metadata": {},
     "output_type": "execute_result"
    }
   ],
   "source": [
    "confusion_matrix(pred_test_2,y_test_2)"
   ]
  },
  {
   "cell_type": "code",
   "execution_count": 131,
   "metadata": {},
   "outputs": [
    {
     "name": "stdout",
     "output_type": "stream",
     "text": [
      "Train MSE:  0.09310450173446862 Accuracy:  0.9068954982655314\n"
     ]
    }
   ],
   "source": [
    "pred_train_2 = model_2.predict(X_train_2)\n",
    "print('Train MSE: ',mean_squared_error(y_train_2, pred_train_2),'Accuracy: ',model_2.score(X_train_2, y_train_2))"
   ]
  },
  {
   "cell_type": "code",
   "execution_count": 132,
   "metadata": {},
   "outputs": [
    {
     "data": {
      "text/plain": [
       "array([[183611,  18624],\n",
       "       [   271,    438]])"
      ]
     },
     "execution_count": 132,
     "metadata": {},
     "output_type": "execute_result"
    }
   ],
   "source": [
    "confusion_matrix(pred_train_2,y_train_2)"
   ]
  },
  {
   "cell_type": "markdown",
   "metadata": {},
   "source": [
    "### using all features as input"
   ]
  },
  {
   "cell_type": "code",
   "execution_count": 133,
   "metadata": {},
   "outputs": [
    {
     "name": "stdout",
     "output_type": "stream",
     "text": [
      "Test MSE:  0.09519867549668874 Accuracy:  0.9048013245033113\n"
     ]
    }
   ],
   "source": [
    "X_train_3, X_test_3, y_train_3, y_test_3 = train_test_split(X, y, test_size = 0.2, random_state=10)\n",
    "model_3 = MLPClassifier(solver = 'sgd', activation = 'logistic', learning_rate_init = 0.1,hidden_layer_sizes = (10, 2), max_iter = 300).fit(X_train_3, y_train_3)\n",
    "pred_test_3 = model_3.predict(X_test_3)\n",
    "print('Test MSE: ',mean_squared_error(y_test_3, pred_test_3),'Accuracy: ',model_3.score(X_test_3, y_test_3))"
   ]
  },
  {
   "cell_type": "code",
   "execution_count": 134,
   "metadata": {},
   "outputs": [
    {
     "data": {
      "text/plain": [
       "array([[45900,  4825],\n",
       "       [    5,     6]])"
      ]
     },
     "execution_count": 134,
     "metadata": {},
     "output_type": "execute_result"
    }
   ],
   "source": [
    "confusion_matrix(pred_test_3,y_test_3)"
   ]
  },
  {
   "cell_type": "markdown",
   "metadata": {},
   "source": [
    "## Logistic Regression"
   ]
  }
 ],
 "metadata": {
  "kernelspec": {
   "display_name": "Python 3",
   "language": "python",
   "name": "python3"
  },
  "language_info": {
   "codemirror_mode": {
    "name": "ipython",
    "version": 3
   },
   "file_extension": ".py",
   "mimetype": "text/x-python",
   "name": "python",
   "nbconvert_exporter": "python",
   "pygments_lexer": "ipython3",
   "version": "3.8.8"
  }
 },
 "nbformat": 4,
 "nbformat_minor": 4
}
